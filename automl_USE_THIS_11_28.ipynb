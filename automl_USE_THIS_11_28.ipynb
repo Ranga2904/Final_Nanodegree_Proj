{
 "cells": [
  {
   "cell_type": "markdown",
   "metadata": {},
   "source": [
    "# Automated ML\n",
    "\n",
    "TODO: Import Dependencies. In the cell below, import all the dependencies that you will need to complete the project."
   ]
  },
  {
   "cell_type": "code",
   "execution_count": 89,
   "metadata": {
    "gather": {
     "logged": 1605978602203
    },
    "jupyter": {
     "outputs_hidden": false,
     "source_hidden": false
    },
    "nteract": {
     "transient": {
      "deleting": false
     }
    }
   },
   "outputs": [],
   "source": [
    "from azureml.core import Workspace, Experiment, Dataset, Model\n",
    "from azureml.widgets import RunDetails\n",
    "from azureml.train.automl import AutoMLConfig\n",
    "import numpy as np\n",
    "import joblib, pickle"
   ]
  },
  {
   "cell_type": "code",
   "execution_count": 1,
   "metadata": {
    "collapsed": true,
    "gather": {
     "logged": 1606487053944
    },
    "jupyter": {
     "outputs_hidden": false,
     "source_hidden": false
    },
    "nteract": {
     "transient": {
      "deleting": false
     }
    }
   },
   "outputs": [],
   "source": [
    "from azureml.core import Workspace, Experiment, Dataset, Model\n",
    "from azureml.widgets import RunDetails\n",
    "from azureml.train.automl import AutoMLConfig\n",
    "import numpy as np\n",
    "import joblib, pickle"
   ]
  },
  {
   "cell_type": "markdown",
   "metadata": {},
   "source": [
    "## Dataset\n",
    "\n",
    "### Overview\n",
    "TODO: In this markdown cell, give an overview of the dataset you are using. Also mention the task you will be performing.\n",
    "\n",
    "\n",
    "TODO: Get data. In the cell below, write code to access the data you will be using in this project. Remember that the dataset needs to be external."
   ]
  },
  {
   "cell_type": "code",
   "execution_count": 2,
   "metadata": {
    "gather": {
     "logged": 1606487082846
    },
    "jupyter": {
     "outputs_hidden": false,
     "source_hidden": false
    },
    "nteract": {
     "transient": {
      "deleting": false
     }
    }
   },
   "outputs": [
    {
     "name": "stdout",
     "output_type": "stream",
     "text": [
      "Performing interactive authentication. Please follow the instructions on the terminal.\n",
      "To sign in, use a web browser to open the page https://microsoft.com/devicelogin and enter the code F6L8BGLY2 to authenticate.\n",
      "You have logged in. Now let us find all the subscriptions to which you have access...\n",
      "Interactive authentication successfully completed.\n"
     ]
    }
   ],
   "source": [
    "subscription_id = '3ec87f2b-33cf-4aed-b36f-750175813524'\n",
    "resource_group = 'aml-quickstarts-128089'\n",
    "workspace_name = 'quick-starts-ws-128089'\n",
    "\n",
    "ws = Workspace.get(name=\"quick-starts-ws-128089\")\n",
    "exp = Experiment(workspace=ws, name=\"Ranga\")\n",
    "\n",
    "workspace = Workspace(subscription_id, resource_group, workspace_name)\n",
    "\n",
    "dataset = Dataset.get_by_name(workspace, name='mpg')\n",
    "ds = dataset.to_pandas_dataframe()\n",
    "\n",
    "ds = ds.replace('?',0)\n",
    "ds.dropna(inplace=True)\n",
    "\n",
    "ds.drop(columns=['car name'],inplace=True)"
   ]
  },
  {
   "cell_type": "markdown",
   "metadata": {},
   "source": [
    "## AutoML Configuration\n",
    "\n",
    "TODO: Explain why you chose the automl settings and cofiguration you used below."
   ]
  },
  {
   "cell_type": "code",
   "execution_count": 3,
   "metadata": {
    "gather": {
     "logged": 1606487086313
    },
    "jupyter": {
     "outputs_hidden": false,
     "source_hidden": false
    },
    "nteract": {
     "transient": {
      "deleting": false
     }
    }
   },
   "outputs": [],
   "source": [
    "# TODO: Put your automl config here\n",
    "automl_config = AutoMLConfig(\n",
    "    experiment_timeout_minutes=20,\n",
    "    task='regression',\n",
    "    primary_metric='r2_score',\n",
    "    training_data=ds,\n",
    "    label_column_name='mpg',\n",
    "    n_cross_validations=3)"
   ]
  },
  {
   "cell_type": "code",
   "execution_count": 4,
   "metadata": {
    "gather": {
     "logged": 1606488959088
    },
    "jupyter": {
     "outputs_hidden": false,
     "source_hidden": false
    },
    "nteract": {
     "transient": {
      "deleting": false
     }
    }
   },
   "outputs": [
    {
     "name": "stderr",
     "output_type": "stream",
     "text": [
      "WARNING - Running on local machine. Note that local runs always run synchronously even if you use the parameter 'show_output=False'\n"
     ]
    },
    {
     "name": "stdout",
     "output_type": "stream",
     "text": [
      "\n",
      "\n",
      "****************************************************************************************************\n",
      "DATA GUARDRAILS: \n",
      "\n",
      "TYPE:         Missing feature values imputation\n",
      "STATUS:       PASSED\n",
      "DESCRIPTION:  No feature missing values were detected in the training data.\n",
      "              Learn more about missing value imputation: https://aka.ms/AutomatedMLFeaturization\n",
      "\n",
      "****************************************************************************************************\n",
      "\n",
      "TYPE:         High cardinality feature detection\n",
      "STATUS:       DONE\n",
      "DESCRIPTION:  High cardinality features were detected in your inputs and handled.\n",
      "              Learn more about high cardinality feature handling: https://aka.ms/AutomatedMLFeaturization\n",
      "DETAILS:      High cardinality features refer to columns that contain a large percentage of unique values.\n",
      "+---------------------------------+---------------------------------+\n",
      "|Column name                      |Column Content Type              |\n",
      "+=================================+=================================+\n",
      "|horsepower                       |categorical_hash                 |\n",
      "+---------------------------------+---------------------------------+\n"
     ]
    },
    {
     "data": {
      "application/vnd.jupyter.widget-view+json": {
       "model_id": "f773f58815e24398b069ab27983dddd4",
       "version_major": 2,
       "version_minor": 0
      },
      "text/plain": [
       "_AutoMLWidget(widget_settings={'childWidgetDisplay': 'popup', 'send_telemetry': False, 'log_level': 'INFO', 's…"
      ]
     },
     "metadata": {},
     "output_type": "display_data"
    },
    {
     "data": {
      "application/aml.mini.widget.v1": "{\"status\": \"Completed\", \"workbench_run_details_uri\": \"https://ml.azure.com/experiments/AutoRanga/runs/AutoML_4798bf11-a0a6-4219-af08-bb9b29393c00?wsid=/subscriptions/3ec87f2b-33cf-4aed-b36f-750175813524/resourcegroups/aml-quickstarts-128089/workspaces/quick-starts-ws-128089\", \"run_id\": \"AutoML_4798bf11-a0a6-4219-af08-bb9b29393c00\", \"run_properties\": {\"run_id\": \"AutoML_4798bf11-a0a6-4219-af08-bb9b29393c00\", \"created_utc\": \"2020-11-27T14:25:36.256068Z\", \"properties\": {\"num_iterations\": \"1000\", \"training_type\": \"TrainFull\", \"acquisition_function\": \"EI\", \"primary_metric\": \"r2_score\", \"train_split\": \"0\", \"acquisition_parameter\": \"0\", \"num_cross_validation\": \"3\", \"target\": \"local\", \"AMLSettingsJsonString\": \"{\\\"path\\\":null,\\\"name\\\":\\\"AutoRanga\\\",\\\"subscription_id\\\":\\\"3ec87f2b-33cf-4aed-b36f-750175813524\\\",\\\"resource_group\\\":\\\"aml-quickstarts-128089\\\",\\\"workspace_name\\\":\\\"quick-starts-ws-128089\\\",\\\"region\\\":\\\"southcentralus\\\",\\\"compute_target\\\":\\\"local\\\",\\\"spark_service\\\":null,\\\"azure_service\\\":\\\"Microsoft.AzureNotebookVM\\\",\\\"_local_managed_run_id\\\":null,\\\"many_models\\\":false,\\\"pipeline_fetch_max_batch_size\\\":1,\\\"iterations\\\":1000,\\\"primary_metric\\\":\\\"r2_score\\\",\\\"task_type\\\":\\\"regression\\\",\\\"data_script\\\":null,\\\"validation_size\\\":0.0,\\\"n_cross_validations\\\":3,\\\"y_min\\\":null,\\\"y_max\\\":null,\\\"num_classes\\\":null,\\\"featurization\\\":\\\"auto\\\",\\\"_ignore_package_version_incompatibilities\\\":false,\\\"is_timeseries\\\":false,\\\"max_cores_per_iteration\\\":1,\\\"max_concurrent_iterations\\\":1,\\\"iteration_timeout_minutes\\\":null,\\\"mem_in_mb\\\":null,\\\"enforce_time_on_windows\\\":false,\\\"experiment_timeout_minutes\\\":20,\\\"experiment_exit_score\\\":null,\\\"whitelist_models\\\":null,\\\"blacklist_algos\\\":[\\\"TensorFlowDNN\\\",\\\"TensorFlowLinearRegressor\\\"],\\\"supported_models\\\":[\\\"ElasticNet\\\",\\\"KNN\\\",\\\"DecisionTree\\\",\\\"GradientBoosting\\\",\\\"RandomForest\\\",\\\"ExtremeRandomTrees\\\",\\\"OnlineGradientDescentRegressor\\\",\\\"LassoLars\\\",\\\"TensorFlowDNN\\\",\\\"LightGBM\\\",\\\"TensorFlowLinearRegressor\\\",\\\"FastLinearRegressor\\\",\\\"SGD\\\",\\\"XGBoostRegressor\\\"],\\\"auto_blacklist\\\":true,\\\"blacklist_samples_reached\\\":false,\\\"exclude_nan_labels\\\":true,\\\"verbosity\\\":20,\\\"_debug_log\\\":\\\"automl.log\\\",\\\"show_warnings\\\":false,\\\"model_explainability\\\":true,\\\"service_url\\\":null,\\\"sdk_url\\\":null,\\\"sdk_packages\\\":null,\\\"enable_onnx_compatible_models\\\":false,\\\"enable_split_onnx_featurizer_estimator_models\\\":false,\\\"vm_type\\\":null,\\\"telemetry_verbosity\\\":20,\\\"send_telemetry\\\":true,\\\"enable_dnn\\\":false,\\\"scenario\\\":\\\"SDK-1.13.0\\\",\\\"environment_label\\\":null,\\\"force_text_dnn\\\":false,\\\"enable_feature_sweeping\\\":true,\\\"enable_early_stopping\\\":false,\\\"early_stopping_n_iters\\\":10,\\\"metrics\\\":null,\\\"enable_ensembling\\\":true,\\\"enable_stack_ensembling\\\":true,\\\"ensemble_iterations\\\":15,\\\"enable_tf\\\":false,\\\"enable_subsampling\\\":null,\\\"subsample_seed\\\":null,\\\"enable_nimbusml\\\":false,\\\"enable_streaming\\\":false,\\\"force_streaming\\\":false,\\\"track_child_runs\\\":true,\\\"allowed_private_models\\\":[],\\\"label_column_name\\\":\\\"mpg\\\",\\\"weight_column_name\\\":null,\\\"cv_split_column_names\\\":null,\\\"enable_local_managed\\\":false,\\\"cost_mode\\\":1,\\\"lag_length\\\":0,\\\"metric_operation\\\":\\\"maximize\\\",\\\"preprocess\\\":true}\", \"DataPrepJsonString\": null, \"EnableSubsampling\": null, \"runTemplate\": \"AutoML\", \"azureml.runsource\": \"automl\", \"display_task_type\": \"regression\", \"dependencies_versions\": \"{\\\"azureml-widgets\\\": \\\"1.18.0\\\", \\\"azureml-train\\\": \\\"1.18.0\\\", \\\"azureml-train-restclients-hyperdrive\\\": \\\"1.18.0\\\", \\\"azureml-train-core\\\": \\\"1.18.0\\\", \\\"azureml-train-automl\\\": \\\"1.18.0\\\", \\\"azureml-train-automl-runtime\\\": \\\"1.18.0\\\", \\\"azureml-train-automl-client\\\": \\\"1.18.0\\\", \\\"azureml-tensorboard\\\": \\\"1.18.0\\\", \\\"azureml-telemetry\\\": \\\"1.18.0\\\", \\\"azureml-sdk\\\": \\\"1.18.0\\\", \\\"azureml-samples\\\": \\\"0+unknown\\\", \\\"azureml-pipeline\\\": \\\"1.18.0\\\", \\\"azureml-pipeline-steps\\\": \\\"1.18.0\\\", \\\"azureml-pipeline-core\\\": \\\"1.18.0\\\", \\\"azureml-opendatasets\\\": \\\"1.18.0\\\", \\\"azureml-model-management-sdk\\\": \\\"1.0.1b6.post1\\\", \\\"azureml-mlflow\\\": \\\"1.18.0\\\", \\\"azureml-interpret\\\": \\\"1.18.0\\\", \\\"azureml-explain-model\\\": \\\"1.18.0\\\", \\\"azureml-defaults\\\": \\\"1.18.0\\\", \\\"azureml-dataset-runtime\\\": \\\"1.18.0\\\", \\\"azureml-dataprep\\\": \\\"2.4.2\\\", \\\"azureml-dataprep-rslex\\\": \\\"1.2.2\\\", \\\"azureml-dataprep-native\\\": \\\"24.0.0\\\", \\\"azureml-datadrift\\\": \\\"1.18.0\\\", \\\"azureml-core\\\": \\\"1.18.0\\\", \\\"azureml-contrib-services\\\": \\\"1.18.0\\\", \\\"azureml-contrib-server\\\": \\\"1.18.0\\\", \\\"azureml-contrib-reinforcementlearning\\\": \\\"1.18.0\\\", \\\"azureml-contrib-pipeline-steps\\\": \\\"1.18.0\\\", \\\"azureml-contrib-notebook\\\": \\\"1.18.0\\\", \\\"azureml-contrib-interpret\\\": \\\"1.18.0\\\", \\\"azureml-contrib-gbdt\\\": \\\"1.18.0\\\", \\\"azureml-contrib-fairness\\\": \\\"1.18.0\\\", \\\"azureml-contrib-dataset\\\": \\\"1.18.0\\\", \\\"azureml-cli-common\\\": \\\"1.18.0\\\", \\\"azureml-automl-runtime\\\": \\\"1.18.0\\\", \\\"azureml-automl-core\\\": \\\"1.18.0\\\", \\\"azureml-accel-models\\\": \\\"1.18.0\\\"}\", \"_aml_system_scenario_identification\": \"Local.Parent\", \"ClientSdkVersion\": \"1.18.0\", \"ClientType\": \"SDK\", \"environment_cpu_name\": \"AzureML-AutoML\", \"environment_cpu_version\": \"44\", \"environment_gpu_name\": \"AzureML-AutoML-GPU\", \"environment_gpu_version\": \"32\", \"root_attribution\": \"automl\", \"attribution\": \"AutoML\", \"Orchestrator\": \"AutoML\", \"_azureml.ComputeTargetType\": \"local\", \"ProblemInfoJsonString\": \"{\\\"dataset_num_categorical\\\": 0, \\\"is_sparse\\\": true, \\\"subsampling\\\": false, \\\"dataset_classes\\\": 129, \\\"dataset_features\\\": 88, \\\"dataset_samples\\\": 398, \\\"single_frequency_class_detected\\\": false}\", \"feature_skus\": \"automatedml_sdk_guardrails\"}, \"tags\": {\"model_explain_run\": \"best_run\", \"best_score\": \"0.864014240072818\", \"best_pipeline\": \"VotingEnsemble\", \"automl_best_child_run_id\": \"AutoML_4798bf11-a0a6-4219-af08-bb9b29393c00_43\", \"model_explain_best_run_child_id\": \"AutoML_4798bf11-a0a6-4219-af08-bb9b29393c00_43\"}, \"end_time_utc\": \"2020-11-27T14:47:08.702042Z\", \"status\": \"Completed\", \"log_files\": {}, \"log_groups\": [], \"run_duration\": \"0:21:32\"}, \"child_runs\": [{\"run_id\": \"AutoML_4798bf11-a0a6-4219-af08-bb9b29393c00_0\", \"run_number\": 2, \"metric\": null, \"status\": \"Completed\", \"run_type\": null, \"training_percent\": \"100\", \"start_time\": \"2020-11-27T14:25:48.164959Z\", \"end_time\": \"2020-11-27T14:26:21.712987Z\", \"created_time\": \"2020-11-27T14:25:47.615793Z\", \"created_time_dt\": \"2020-11-27T14:25:47.615793Z\", \"duration\": \"0:00:34\", \"iteration\": \"0\", \"goal\": \"r2_score_max\", \"run_name\": \"MaxAbsScaler, LightGBM\", \"run_properties\": \"copy=True\", \"primary_metric\": 0.78217139, \"best_metric\": 0.78217139}, {\"run_id\": \"AutoML_4798bf11-a0a6-4219-af08-bb9b29393c00_1\", \"run_number\": 3, \"metric\": null, \"status\": \"Completed\", \"run_type\": null, \"training_percent\": \"100\", \"start_time\": \"2020-11-27T14:26:22.95936Z\", \"end_time\": \"2020-11-27T14:26:49.176443Z\", \"created_time\": \"2020-11-27T14:26:22.567535Z\", \"created_time_dt\": \"2020-11-27T14:26:22.567535Z\", \"duration\": \"0:00:26\", \"iteration\": \"1\", \"goal\": \"r2_score_max\", \"run_name\": \"MaxAbsScaler, XGBoostRegressor\", \"run_properties\": \"copy=True\", \"primary_metric\": 0.81921595, \"best_metric\": 0.81921595}, {\"run_id\": \"AutoML_4798bf11-a0a6-4219-af08-bb9b29393c00_2\", \"run_number\": 4, \"metric\": null, \"status\": \"Completed\", \"run_type\": null, \"training_percent\": \"100\", \"start_time\": \"2020-11-27T14:26:49.953265Z\", \"end_time\": \"2020-11-27T14:27:16.296793Z\", \"created_time\": \"2020-11-27T14:26:49.836159Z\", \"created_time_dt\": \"2020-11-27T14:26:49.836159Z\", \"duration\": \"0:00:26\", \"iteration\": \"2\", \"goal\": \"r2_score_max\", \"run_name\": \"StandardScalerWrapper, XGBoostRegressor\", \"run_properties\": \"<azureml.automl.runtime.shared.model_wrappers.StandardScalerWrapper object at 0x7f9f8e8dfba8\", \"primary_metric\": 0.83083074, \"best_metric\": 0.83083074}, {\"run_id\": \"AutoML_4798bf11-a0a6-4219-af08-bb9b29393c00_3\", \"run_number\": 5, \"metric\": null, \"status\": \"Completed\", \"run_type\": null, \"training_percent\": \"100\", \"start_time\": \"2020-11-27T14:27:18.022328Z\", \"end_time\": \"2020-11-27T14:27:44.183192Z\", \"created_time\": \"2020-11-27T14:27:17.911873Z\", \"created_time_dt\": \"2020-11-27T14:27:17.911873Z\", \"duration\": \"0:00:26\", \"iteration\": \"3\", \"goal\": \"r2_score_max\", \"run_name\": \"StandardScalerWrapper, RandomForest\", \"run_properties\": \"<azureml.automl.runtime.shared.model_wrappers.StandardScalerWrapper object at 0x7f9f97a3c828\", \"primary_metric\": 0.80070244, \"best_metric\": 0.83083074}, {\"run_id\": \"AutoML_4798bf11-a0a6-4219-af08-bb9b29393c00_4\", \"run_number\": 6, \"metric\": null, \"status\": \"Completed\", \"run_type\": null, \"training_percent\": \"100\", \"start_time\": \"2020-11-27T14:27:46.263707Z\", \"end_time\": \"2020-11-27T14:28:16.630824Z\", \"created_time\": \"2020-11-27T14:27:45.978903Z\", \"created_time_dt\": \"2020-11-27T14:27:45.978903Z\", \"duration\": \"0:00:30\", \"iteration\": \"4\", \"goal\": \"r2_score_max\", \"run_name\": \"MaxAbsScaler, ExtremeRandomTrees\", \"run_properties\": \"copy=True\", \"primary_metric\": 0.80928332, \"best_metric\": 0.83083074}, {\"run_id\": \"AutoML_4798bf11-a0a6-4219-af08-bb9b29393c00_5\", \"run_number\": 7, \"metric\": null, \"status\": \"Completed\", \"run_type\": null, \"training_percent\": \"100\", \"start_time\": \"2020-11-27T14:28:18.186232Z\", \"end_time\": \"2020-11-27T14:28:42.07099Z\", \"created_time\": \"2020-11-27T14:28:18.076065Z\", \"created_time_dt\": \"2020-11-27T14:28:18.076065Z\", \"duration\": \"0:00:23\", \"iteration\": \"5\", \"goal\": \"r2_score_max\", \"run_name\": \"MaxAbsScaler, ElasticNet\", \"run_properties\": \"copy=True\", \"primary_metric\": 0.84239017, \"best_metric\": 0.84239017}, {\"run_id\": \"AutoML_4798bf11-a0a6-4219-af08-bb9b29393c00_6\", \"run_number\": 8, \"metric\": null, \"status\": \"Completed\", \"run_type\": null, \"training_percent\": \"100\", \"start_time\": \"2020-11-27T14:28:43.639559Z\", \"end_time\": \"2020-11-27T14:29:08.198511Z\", \"created_time\": \"2020-11-27T14:28:43.506278Z\", \"created_time_dt\": \"2020-11-27T14:28:43.506278Z\", \"duration\": \"0:00:24\", \"iteration\": \"6\", \"goal\": \"r2_score_max\", \"run_name\": \"StandardScalerWrapper, XGBoostRegressor\", \"run_properties\": \"<azureml.automl.runtime.shared.model_wrappers.StandardScalerWrapper object at 0x7f9f96932710\", \"primary_metric\": 0.82247675, \"best_metric\": 0.84239017}, {\"run_id\": \"AutoML_4798bf11-a0a6-4219-af08-bb9b29393c00_7\", \"run_number\": 9, \"metric\": null, \"status\": \"Completed\", \"run_type\": null, \"training_percent\": \"100\", \"start_time\": \"2020-11-27T14:29:10.495729Z\", \"end_time\": \"2020-11-27T14:29:35.206484Z\", \"created_time\": \"2020-11-27T14:29:10.197491Z\", \"created_time_dt\": \"2020-11-27T14:29:10.197491Z\", \"duration\": \"0:00:25\", \"iteration\": \"7\", \"goal\": \"r2_score_max\", \"run_name\": \"MaxAbsScaler, RandomForest\", \"run_properties\": \"copy=True\", \"primary_metric\": 0.71605361, \"best_metric\": 0.84239017}, {\"run_id\": \"AutoML_4798bf11-a0a6-4219-af08-bb9b29393c00_8\", \"run_number\": 10, \"metric\": null, \"status\": \"Completed\", \"run_type\": null, \"training_percent\": \"100\", \"start_time\": \"2020-11-27T14:29:37.076841Z\", \"end_time\": \"2020-11-27T14:30:01.346735Z\", \"created_time\": \"2020-11-27T14:29:36.912849Z\", \"created_time_dt\": \"2020-11-27T14:29:36.912849Z\", \"duration\": \"0:00:24\", \"iteration\": \"8\", \"goal\": \"r2_score_max\", \"run_name\": \"MaxAbsScaler, ExtremeRandomTrees\", \"run_properties\": \"copy=True\", \"primary_metric\": 0.82669785, \"best_metric\": 0.84239017}, {\"run_id\": \"AutoML_4798bf11-a0a6-4219-af08-bb9b29393c00_9\", \"run_number\": 11, \"metric\": null, \"status\": \"Completed\", \"run_type\": null, \"training_percent\": \"100\", \"start_time\": \"2020-11-27T14:30:03.460764Z\", \"end_time\": \"2020-11-27T14:30:28.55671Z\", \"created_time\": \"2020-11-27T14:30:03.155864Z\", \"created_time_dt\": \"2020-11-27T14:30:03.155864Z\", \"duration\": \"0:00:25\", \"iteration\": \"9\", \"goal\": \"r2_score_max\", \"run_name\": \"SparseNormalizer, RandomForest\", \"run_properties\": \"<azureml.automl.runtime.shared.model_wrappers.SparseNormalizer object at 0x7f9f9688c630\", \"primary_metric\": 0.80380977, \"best_metric\": 0.84239017}, {\"run_id\": \"AutoML_4798bf11-a0a6-4219-af08-bb9b29393c00_10\", \"run_number\": 12, \"metric\": null, \"status\": \"Completed\", \"run_type\": null, \"training_percent\": \"100\", \"start_time\": \"2020-11-27T14:30:30.273303Z\", \"end_time\": \"2020-11-27T14:30:55.176682Z\", \"created_time\": \"2020-11-27T14:30:30.162844Z\", \"created_time_dt\": \"2020-11-27T14:30:30.162844Z\", \"duration\": \"0:00:25\", \"iteration\": \"10\", \"goal\": \"r2_score_max\", \"run_name\": \"StandardScalerWrapper, ElasticNet\", \"run_properties\": \"<azureml.automl.runtime.shared.model_wrappers.StandardScalerWrapper object at 0x7f9f96828128\", \"primary_metric\": 0.74624346, \"best_metric\": 0.84239017}, {\"run_id\": \"AutoML_4798bf11-a0a6-4219-af08-bb9b29393c00_11\", \"run_number\": 13, \"metric\": null, \"status\": \"Completed\", \"run_type\": null, \"training_percent\": \"100\", \"start_time\": \"2020-11-27T14:30:57.024728Z\", \"end_time\": \"2020-11-27T14:31:21.636894Z\", \"created_time\": \"2020-11-27T14:30:56.90706Z\", \"created_time_dt\": \"2020-11-27T14:30:56.90706Z\", \"duration\": \"0:00:24\", \"iteration\": \"11\", \"goal\": \"r2_score_max\", \"run_name\": \"StandardScalerWrapper, RandomForest\", \"run_properties\": \"<azureml.automl.runtime.shared.model_wrappers.StandardScalerWrapper object at 0x7f9f96559128\", \"primary_metric\": 0.77140672, \"best_metric\": 0.84239017}, {\"run_id\": \"AutoML_4798bf11-a0a6-4219-af08-bb9b29393c00_12\", \"run_number\": 14, \"metric\": null, \"status\": \"Completed\", \"run_type\": null, \"training_percent\": \"100\", \"start_time\": \"2020-11-27T14:31:23.281054Z\", \"end_time\": \"2020-11-27T14:31:49.813927Z\", \"created_time\": \"2020-11-27T14:31:23.159095Z\", \"created_time_dt\": \"2020-11-27T14:31:23.159095Z\", \"duration\": \"0:00:26\", \"iteration\": \"12\", \"goal\": \"r2_score_max\", \"run_name\": \"MaxAbsScaler, ExtremeRandomTrees\", \"run_properties\": \"copy=True\", \"primary_metric\": 0.81861954, \"best_metric\": 0.84239017}, {\"run_id\": \"AutoML_4798bf11-a0a6-4219-af08-bb9b29393c00_13\", \"run_number\": 15, \"metric\": null, \"status\": \"Completed\", \"run_type\": null, \"training_percent\": \"100\", \"start_time\": \"2020-11-27T14:31:51.662191Z\", \"end_time\": \"2020-11-27T14:32:22.305695Z\", \"created_time\": \"2020-11-27T14:31:51.493364Z\", \"created_time_dt\": \"2020-11-27T14:31:51.493364Z\", \"duration\": \"0:00:30\", \"iteration\": \"13\", \"goal\": \"r2_score_max\", \"run_name\": \"MaxAbsScaler, ExtremeRandomTrees\", \"run_properties\": \"copy=True\", \"primary_metric\": 0.84002629, \"best_metric\": 0.84239017}, {\"run_id\": \"AutoML_4798bf11-a0a6-4219-af08-bb9b29393c00_14\", \"run_number\": 16, \"metric\": null, \"status\": \"Completed\", \"run_type\": null, \"training_percent\": \"100\", \"start_time\": \"2020-11-27T14:32:24.255881Z\", \"end_time\": \"2020-11-27T14:32:48.952794Z\", \"created_time\": \"2020-11-27T14:32:24.110757Z\", \"created_time_dt\": \"2020-11-27T14:32:24.110757Z\", \"duration\": \"0:00:24\", \"iteration\": \"14\", \"goal\": \"r2_score_max\", \"run_name\": \"StandardScalerWrapper, XGBoostRegressor\", \"run_properties\": \"<azureml.automl.runtime.shared.model_wrappers.StandardScalerWrapper object at 0x7f9f967046d8\", \"primary_metric\": 0.81250135, \"best_metric\": 0.84239017}, {\"run_id\": \"AutoML_4798bf11-a0a6-4219-af08-bb9b29393c00_15\", \"run_number\": 17, \"metric\": null, \"status\": \"Completed\", \"run_type\": null, \"training_percent\": \"100\", \"start_time\": \"2020-11-27T14:32:50.375001Z\", \"end_time\": \"2020-11-27T14:33:13.714245Z\", \"created_time\": \"2020-11-27T14:32:50.260485Z\", \"created_time_dt\": \"2020-11-27T14:32:50.260485Z\", \"duration\": \"0:00:23\", \"iteration\": \"15\", \"goal\": \"r2_score_max\", \"run_name\": \"StandardScalerWrapper, XGBoostRegressor\", \"run_properties\": \"<azureml.automl.runtime.shared.model_wrappers.StandardScalerWrapper object at 0x7f9f96358438\", \"primary_metric\": 0.70523389, \"best_metric\": 0.84239017}, {\"run_id\": \"AutoML_4798bf11-a0a6-4219-af08-bb9b29393c00_16\", \"run_number\": 18, \"metric\": null, \"status\": \"Completed\", \"run_type\": null, \"training_percent\": \"100\", \"start_time\": \"2020-11-27T14:33:15.362279Z\", \"end_time\": \"2020-11-27T14:33:40.402653Z\", \"created_time\": \"2020-11-27T14:33:15.238039Z\", \"created_time_dt\": \"2020-11-27T14:33:15.238039Z\", \"duration\": \"0:00:25\", \"iteration\": \"16\", \"goal\": \"r2_score_max\", \"run_name\": \"MaxAbsScaler, RandomForest\", \"run_properties\": \"copy=True\", \"primary_metric\": 0.80453582, \"best_metric\": 0.84239017}, {\"run_id\": \"AutoML_4798bf11-a0a6-4219-af08-bb9b29393c00_17\", \"run_number\": 19, \"metric\": null, \"status\": \"Completed\", \"run_type\": null, \"training_percent\": \"100\", \"start_time\": \"2020-11-27T14:33:42.060738Z\", \"end_time\": \"2020-11-27T14:34:05.329561Z\", \"created_time\": \"2020-11-27T14:33:41.950743Z\", \"created_time_dt\": \"2020-11-27T14:33:41.950743Z\", \"duration\": \"0:00:23\", \"iteration\": \"17\", \"goal\": \"r2_score_max\", \"run_name\": \"StandardScalerWrapper, DecisionTree\", \"run_properties\": \"<azureml.automl.runtime.shared.model_wrappers.StandardScalerWrapper object at 0x7f9f9647f860\", \"primary_metric\": 0.66920993, \"best_metric\": 0.84239017}, {\"run_id\": \"AutoML_4798bf11-a0a6-4219-af08-bb9b29393c00_18\", \"run_number\": 20, \"metric\": null, \"status\": \"Completed\", \"run_type\": null, \"training_percent\": \"100\", \"start_time\": \"2020-11-27T14:34:09.020441Z\", \"end_time\": \"2020-11-27T14:34:33.284243Z\", \"created_time\": \"2020-11-27T14:34:08.918636Z\", \"created_time_dt\": \"2020-11-27T14:34:08.918636Z\", \"duration\": \"0:00:24\", \"iteration\": \"18\", \"goal\": \"r2_score_max\", \"run_name\": \"MaxAbsScaler, SGD\", \"run_properties\": \"copy=True\", \"primary_metric\": 0.77357938, \"best_metric\": 0.84239017}, {\"run_id\": \"AutoML_4798bf11-a0a6-4219-af08-bb9b29393c00_19\", \"run_number\": 21, \"metric\": null, \"status\": \"Completed\", \"run_type\": null, \"training_percent\": \"100\", \"start_time\": \"2020-11-27T14:34:35.000649Z\", \"end_time\": \"2020-11-27T14:35:00.455845Z\", \"created_time\": \"2020-11-27T14:34:34.86203Z\", \"created_time_dt\": \"2020-11-27T14:34:34.86203Z\", \"duration\": \"0:00:25\", \"iteration\": \"19\", \"goal\": \"r2_score_max\", \"run_name\": \"MaxAbsScaler, LightGBM\", \"run_properties\": \"copy=True\", \"primary_metric\": 0.77250211, \"best_metric\": 0.84239017}, {\"run_id\": \"AutoML_4798bf11-a0a6-4219-af08-bb9b29393c00_20\", \"run_number\": 22, \"metric\": null, \"status\": \"Completed\", \"run_type\": null, \"training_percent\": \"100\", \"start_time\": \"2020-11-27T14:35:02.189281Z\", \"end_time\": \"2020-11-27T14:35:25.424521Z\", \"created_time\": \"2020-11-27T14:35:02.064736Z\", \"created_time_dt\": \"2020-11-27T14:35:02.064736Z\", \"duration\": \"0:00:23\", \"iteration\": \"20\", \"goal\": \"r2_score_max\", \"run_name\": \"MaxAbsScaler, SGD\", \"run_properties\": \"copy=True\", \"primary_metric\": 0.79629076, \"best_metric\": 0.84239017}, {\"run_id\": \"AutoML_4798bf11-a0a6-4219-af08-bb9b29393c00_21\", \"run_number\": 23, \"metric\": null, \"status\": \"Completed\", \"run_type\": null, \"training_percent\": \"100\", \"start_time\": \"2020-11-27T14:35:26.990657Z\", \"end_time\": \"2020-11-27T14:35:54.15589Z\", \"created_time\": \"2020-11-27T14:35:26.876107Z\", \"created_time_dt\": \"2020-11-27T14:35:26.876107Z\", \"duration\": \"0:00:27\", \"iteration\": \"21\", \"goal\": \"r2_score_max\", \"run_name\": \"MaxAbsScaler, ExtremeRandomTrees\", \"run_properties\": \"copy=True\", \"primary_metric\": 0.81999318, \"best_metric\": 0.84239017}, {\"run_id\": \"AutoML_4798bf11-a0a6-4219-af08-bb9b29393c00_22\", \"run_number\": 24, \"metric\": null, \"status\": \"Completed\", \"run_type\": null, \"training_percent\": \"100\", \"start_time\": \"2020-11-27T14:35:55.530427Z\", \"end_time\": \"2020-11-27T14:36:23.009985Z\", \"created_time\": \"2020-11-27T14:35:55.425824Z\", \"created_time_dt\": \"2020-11-27T14:35:55.425824Z\", \"duration\": \"0:00:27\", \"iteration\": \"22\", \"goal\": \"r2_score_max\", \"run_name\": \"MaxAbsScaler, SGD\", \"run_properties\": \"copy=True\", \"primary_metric\": 0.60114055, \"best_metric\": 0.84239017}, {\"run_id\": \"AutoML_4798bf11-a0a6-4219-af08-bb9b29393c00_23\", \"run_number\": 25, \"metric\": null, \"status\": \"Completed\", \"run_type\": null, \"training_percent\": \"100\", \"start_time\": \"2020-11-27T14:36:24.446328Z\", \"end_time\": \"2020-11-27T14:36:51.152412Z\", \"created_time\": \"2020-11-27T14:36:24.34532Z\", \"created_time_dt\": \"2020-11-27T14:36:24.34532Z\", \"duration\": \"0:00:26\", \"iteration\": \"23\", \"goal\": \"r2_score_max\", \"run_name\": \"MaxAbsScaler, RandomForest\", \"run_properties\": \"copy=True\", \"primary_metric\": 0.80260637, \"best_metric\": 0.84239017}, {\"run_id\": \"AutoML_4798bf11-a0a6-4219-af08-bb9b29393c00_24\", \"run_number\": 26, \"metric\": null, \"status\": \"Completed\", \"run_type\": null, \"training_percent\": \"100\", \"start_time\": \"2020-11-27T14:36:52.597763Z\", \"end_time\": \"2020-11-27T14:37:17.356554Z\", \"created_time\": \"2020-11-27T14:36:52.475769Z\", \"created_time_dt\": \"2020-11-27T14:36:52.475769Z\", \"duration\": \"0:00:24\", \"iteration\": \"24\", \"goal\": \"r2_score_max\", \"run_name\": \"MaxAbsScaler, SGD\", \"run_properties\": \"copy=True\", \"primary_metric\": 0.79371796, \"best_metric\": 0.84239017}, {\"run_id\": \"AutoML_4798bf11-a0a6-4219-af08-bb9b29393c00_25\", \"run_number\": 27, \"metric\": null, \"status\": \"Completed\", \"run_type\": null, \"training_percent\": \"100\", \"start_time\": \"2020-11-27T14:37:20.177317Z\", \"end_time\": \"2020-11-27T14:37:45.343963Z\", \"created_time\": \"2020-11-27T14:37:20.069818Z\", \"created_time_dt\": \"2020-11-27T14:37:20.069818Z\", \"duration\": \"0:00:25\", \"iteration\": \"25\", \"goal\": \"r2_score_max\", \"run_name\": \"TruncatedSVDWrapper, ElasticNet\", \"run_properties\": \"n_components=0.8015789473684211, random_state=None\", \"primary_metric\": 0.8439703, \"best_metric\": 0.8439703}, {\"run_id\": \"AutoML_4798bf11-a0a6-4219-af08-bb9b29393c00_26\", \"run_number\": 28, \"metric\": null, \"status\": \"Completed\", \"run_type\": null, \"training_percent\": \"100\", \"start_time\": \"2020-11-27T14:37:46.909665Z\", \"end_time\": \"2020-11-27T14:38:12.403363Z\", \"created_time\": \"2020-11-27T14:37:46.788781Z\", \"created_time_dt\": \"2020-11-27T14:37:46.788781Z\", \"duration\": \"0:00:25\", \"iteration\": \"26\", \"goal\": \"r2_score_max\", \"run_name\": \"StandardScalerWrapper, DecisionTree\", \"run_properties\": \"<azureml.automl.runtime.shared.model_wrappers.StandardScalerWrapper object at 0x7f9f962d8d68\", \"primary_metric\": 0.67282516, \"best_metric\": 0.8439703}, {\"run_id\": \"AutoML_4798bf11-a0a6-4219-af08-bb9b29393c00_27\", \"run_number\": 29, \"metric\": null, \"status\": \"Completed\", \"run_type\": null, \"training_percent\": \"100\", \"start_time\": \"2020-11-27T14:38:13.76884Z\", \"end_time\": \"2020-11-27T14:38:39.484041Z\", \"created_time\": \"2020-11-27T14:38:13.659934Z\", \"created_time_dt\": \"2020-11-27T14:38:13.659934Z\", \"duration\": \"0:00:25\", \"iteration\": \"27\", \"goal\": \"r2_score_max\", \"run_name\": \"SparseNormalizer, XGBoostRegressor\", \"run_properties\": \"<azureml.automl.runtime.shared.model_wrappers.SparseNormalizer object at 0x7f9f967ed0f0\", \"primary_metric\": 0.82832707, \"best_metric\": 0.8439703}, {\"run_id\": \"AutoML_4798bf11-a0a6-4219-af08-bb9b29393c00_28\", \"run_number\": 30, \"metric\": null, \"status\": \"Completed\", \"run_type\": null, \"training_percent\": \"100\", \"start_time\": \"2020-11-27T14:38:41.026511Z\", \"end_time\": \"2020-11-27T14:39:13.510789Z\", \"created_time\": \"2020-11-27T14:38:40.925598Z\", \"created_time_dt\": \"2020-11-27T14:38:40.925598Z\", \"duration\": \"0:00:32\", \"iteration\": \"28\", \"goal\": \"r2_score_max\", \"run_name\": \"MaxAbsScaler, ExtremeRandomTrees\", \"run_properties\": \"copy=True\", \"primary_metric\": 0.75016499, \"best_metric\": 0.8439703}, {\"run_id\": \"AutoML_4798bf11-a0a6-4219-af08-bb9b29393c00_29\", \"run_number\": 31, \"metric\": null, \"status\": \"Completed\", \"run_type\": null, \"training_percent\": \"100\", \"start_time\": \"2020-11-27T14:39:14.873268Z\", \"end_time\": \"2020-11-27T14:39:39.121946Z\", \"created_time\": \"2020-11-27T14:39:14.76492Z\", \"created_time_dt\": \"2020-11-27T14:39:14.76492Z\", \"duration\": \"0:00:24\", \"iteration\": \"29\", \"goal\": \"r2_score_max\", \"run_name\": \"MaxAbsScaler, SGD\", \"run_properties\": \"copy=True\", \"primary_metric\": 0.8175719, \"best_metric\": 0.8439703}, {\"run_id\": \"AutoML_4798bf11-a0a6-4219-af08-bb9b29393c00_30\", \"run_number\": 32, \"metric\": null, \"status\": \"Completed\", \"run_type\": null, \"training_percent\": \"100\", \"start_time\": \"2020-11-27T14:39:41.423199Z\", \"end_time\": \"2020-11-27T14:40:09.557889Z\", \"created_time\": \"2020-11-27T14:39:41.28686Z\", \"created_time_dt\": \"2020-11-27T14:39:41.28686Z\", \"duration\": \"0:00:28\", \"iteration\": \"30\", \"goal\": \"r2_score_max\", \"run_name\": \"TruncatedSVDWrapper, ElasticNet\", \"run_properties\": \"n_components=0.6036842105263158, random_state=None\", \"primary_metric\": 0.76347815, \"best_metric\": 0.8439703}, {\"run_id\": \"AutoML_4798bf11-a0a6-4219-af08-bb9b29393c00_31\", \"run_number\": 33, \"metric\": null, \"status\": \"Completed\", \"run_type\": null, \"training_percent\": \"100\", \"start_time\": \"2020-11-27T14:40:11.022015Z\", \"end_time\": \"2020-11-27T14:40:42.980744Z\", \"created_time\": \"2020-11-27T14:40:10.890708Z\", \"created_time_dt\": \"2020-11-27T14:40:10.890708Z\", \"duration\": \"0:00:32\", \"iteration\": \"31\", \"goal\": \"r2_score_max\", \"run_name\": \"MaxAbsScaler, ExtremeRandomTrees\", \"run_properties\": \"copy=True\", \"primary_metric\": 0.83011089, \"best_metric\": 0.8439703}, {\"run_id\": \"AutoML_4798bf11-a0a6-4219-af08-bb9b29393c00_32\", \"run_number\": 34, \"metric\": null, \"status\": \"Completed\", \"run_type\": null, \"training_percent\": \"100\", \"start_time\": \"2020-11-27T14:40:44.395023Z\", \"end_time\": \"2020-11-27T14:41:09.112238Z\", \"created_time\": \"2020-11-27T14:40:44.286065Z\", \"created_time_dt\": \"2020-11-27T14:40:44.286065Z\", \"duration\": \"0:00:24\", \"iteration\": \"32\", \"goal\": \"r2_score_max\", \"run_name\": \"MaxAbsScaler, ExtremeRandomTrees\", \"run_properties\": \"copy=True\", \"primary_metric\": 0.80677271, \"best_metric\": 0.8439703}, {\"run_id\": \"AutoML_4798bf11-a0a6-4219-af08-bb9b29393c00_33\", \"run_number\": 35, \"metric\": null, \"status\": \"Completed\", \"run_type\": null, \"training_percent\": \"100\", \"start_time\": \"2020-11-27T14:41:10.471282Z\", \"end_time\": \"2020-11-27T14:41:39.297868Z\", \"created_time\": \"2020-11-27T14:41:10.359747Z\", \"created_time_dt\": \"2020-11-27T14:41:10.359747Z\", \"duration\": \"0:00:28\", \"iteration\": \"33\", \"goal\": \"r2_score_max\", \"run_name\": \"MaxAbsScaler, ExtremeRandomTrees\", \"run_properties\": \"copy=True\", \"primary_metric\": 0.82933575, \"best_metric\": 0.8439703}, {\"run_id\": \"AutoML_4798bf11-a0a6-4219-af08-bb9b29393c00_34\", \"run_number\": 36, \"metric\": null, \"status\": \"Completed\", \"run_type\": null, \"training_percent\": \"100\", \"start_time\": \"2020-11-27T14:41:40.708233Z\", \"end_time\": \"2020-11-27T14:42:05.442389Z\", \"created_time\": \"2020-11-27T14:41:40.596283Z\", \"created_time_dt\": \"2020-11-27T14:41:40.596283Z\", \"duration\": \"0:00:24\", \"iteration\": \"34\", \"goal\": \"r2_score_max\", \"run_name\": \"MaxAbsScaler, ExtremeRandomTrees\", \"run_properties\": \"copy=True\", \"primary_metric\": 0.81625192, \"best_metric\": 0.8439703}, {\"run_id\": \"AutoML_4798bf11-a0a6-4219-af08-bb9b29393c00_35\", \"run_number\": 37, \"metric\": null, \"status\": \"Completed\", \"run_type\": null, \"training_percent\": \"100\", \"start_time\": \"2020-11-27T14:42:07.830508Z\", \"end_time\": \"2020-11-27T14:42:32.730935Z\", \"created_time\": \"2020-11-27T14:42:07.684229Z\", \"created_time_dt\": \"2020-11-27T14:42:07.684229Z\", \"duration\": \"0:00:25\", \"iteration\": \"35\", \"goal\": \"r2_score_max\", \"run_name\": \"TruncatedSVDWrapper, ElasticNet\", \"run_properties\": \"n_components=0.6531578947368422, random_state=None\", \"primary_metric\": 0.69303924, \"best_metric\": 0.8439703}, {\"run_id\": \"AutoML_4798bf11-a0a6-4219-af08-bb9b29393c00_36\", \"run_number\": 38, \"metric\": null, \"status\": \"Completed\", \"run_type\": null, \"training_percent\": \"100\", \"start_time\": \"2020-11-27T14:42:34.976521Z\", \"end_time\": \"2020-11-27T14:43:01.199952Z\", \"created_time\": \"2020-11-27T14:42:34.864316Z\", \"created_time_dt\": \"2020-11-27T14:42:34.864316Z\", \"duration\": \"0:00:26\", \"iteration\": \"36\", \"goal\": \"r2_score_max\", \"run_name\": \"MaxAbsScaler, RandomForest\", \"run_properties\": \"copy=True\", \"primary_metric\": 0.81677324, \"best_metric\": 0.8439703}, {\"run_id\": \"AutoML_4798bf11-a0a6-4219-af08-bb9b29393c00_37\", \"run_number\": 39, \"metric\": null, \"status\": \"Completed\", \"run_type\": null, \"training_percent\": \"100\", \"start_time\": \"2020-11-27T14:43:02.638973Z\", \"end_time\": \"2020-11-27T14:43:26.968105Z\", \"created_time\": \"2020-11-27T14:43:02.516653Z\", \"created_time_dt\": \"2020-11-27T14:43:02.516653Z\", \"duration\": \"0:00:24\", \"iteration\": \"37\", \"goal\": \"r2_score_max\", \"run_name\": \"MaxAbsScaler, ExtremeRandomTrees\", \"run_properties\": \"copy=True\", \"primary_metric\": 0.75379703, \"best_metric\": 0.8439703}, {\"run_id\": \"AutoML_4798bf11-a0a6-4219-af08-bb9b29393c00_38\", \"run_number\": 40, \"metric\": null, \"status\": \"Completed\", \"run_type\": null, \"training_percent\": \"100\", \"start_time\": \"2020-11-27T14:43:29.816509Z\", \"end_time\": \"2020-11-27T14:44:00.580469Z\", \"created_time\": \"2020-11-27T14:43:29.296824Z\", \"created_time_dt\": \"2020-11-27T14:43:29.296824Z\", \"duration\": \"0:00:31\", \"iteration\": \"38\", \"goal\": \"r2_score_max\", \"run_name\": \"SparseNormalizer, XGBoostRegressor\", \"run_properties\": \"<azureml.automl.runtime.shared.model_wrappers.SparseNormalizer object at 0x7f9f737b3438\", \"primary_metric\": 0.82902109, \"best_metric\": 0.8439703}, {\"run_id\": \"AutoML_4798bf11-a0a6-4219-af08-bb9b29393c00_39\", \"run_number\": 41, \"metric\": null, \"status\": \"Completed\", \"run_type\": null, \"training_percent\": \"100\", \"start_time\": \"2020-11-27T14:44:03.153812Z\", \"end_time\": \"2020-11-27T14:44:32.739473Z\", \"created_time\": \"2020-11-27T14:44:02.694071Z\", \"created_time_dt\": \"2020-11-27T14:44:02.694071Z\", \"duration\": \"0:00:30\", \"iteration\": \"39\", \"goal\": \"r2_score_max\", \"run_name\": \"SparseNormalizer, LightGBM\", \"run_properties\": \"<azureml.automl.runtime.shared.model_wrappers.SparseNormalizer object at 0x7f9f966f1320\", \"primary_metric\": 0.77961653, \"best_metric\": 0.8439703}, {\"run_id\": \"AutoML_4798bf11-a0a6-4219-af08-bb9b29393c00_40\", \"run_number\": 42, \"metric\": null, \"status\": \"Completed\", \"run_type\": null, \"training_percent\": \"100\", \"start_time\": \"2020-11-27T14:44:35.252068Z\", \"end_time\": \"2020-11-27T14:45:00.245698Z\", \"created_time\": \"2020-11-27T14:44:35.105626Z\", \"created_time_dt\": \"2020-11-27T14:44:35.105626Z\", \"duration\": \"0:00:25\", \"iteration\": \"40\", \"goal\": \"r2_score_max\", \"run_name\": \"TruncatedSVDWrapper, ElasticNet\", \"run_properties\": \"n_components=0.20789473684210527, random_state=None\", \"primary_metric\": 0.69021529, \"best_metric\": 0.8439703}, {\"run_id\": \"AutoML_4798bf11-a0a6-4219-af08-bb9b29393c00_41\", \"run_number\": 43, \"metric\": null, \"status\": \"Completed\", \"run_type\": null, \"training_percent\": \"100\", \"start_time\": \"2020-11-27T14:45:01.722117Z\", \"end_time\": \"2020-11-27T14:45:29.597432Z\", \"created_time\": \"2020-11-27T14:45:01.60384Z\", \"created_time_dt\": \"2020-11-27T14:45:01.60384Z\", \"duration\": \"0:00:27\", \"iteration\": \"41\", \"goal\": \"r2_score_max\", \"run_name\": \"MaxAbsScaler, ExtremeRandomTrees\", \"run_properties\": \"copy=True\", \"primary_metric\": 0.83302539, \"best_metric\": 0.8439703}, {\"run_id\": \"AutoML_4798bf11-a0a6-4219-af08-bb9b29393c00_42\", \"run_number\": 44, \"metric\": null, \"status\": \"Completed\", \"run_type\": null, \"training_percent\": \"100\", \"start_time\": \"2020-11-27T14:45:30.944654Z\", \"end_time\": \"2020-11-27T14:45:55.460253Z\", \"created_time\": \"2020-11-27T14:45:30.845005Z\", \"created_time_dt\": \"2020-11-27T14:45:30.845005Z\", \"duration\": \"0:00:24\", \"iteration\": \"42\", \"goal\": \"r2_score_max\", \"run_name\": \"MaxAbsScaler, LightGBM\", \"run_properties\": \"copy=True\", \"primary_metric\": 0.81211193, \"best_metric\": 0.8439703}, {\"run_id\": \"AutoML_4798bf11-a0a6-4219-af08-bb9b29393c00_43\", \"run_number\": 45, \"metric\": null, \"status\": \"Completed\", \"run_type\": null, \"training_percent\": \"100\", \"start_time\": \"2020-11-27T14:45:55.811607Z\", \"end_time\": \"2020-11-27T14:46:30.711571Z\", \"created_time\": \"2020-11-27T14:45:55.70252Z\", \"created_time_dt\": \"2020-11-27T14:45:55.70252Z\", \"duration\": \"0:00:35\", \"iteration\": \"43\", \"goal\": \"r2_score_max\", \"run_name\": \"VotingEnsemble\", \"run_properties\": \"estimators=[('25',\\n                                          Pipeline(memory=None,\\n                                                   steps=[('truncatedsvdwrapper',\\n                                                           TruncatedSVDWrapper(n_components=0.8015789473684211,\\n                                                                               random_state=None\", \"primary_metric\": 0.86401424, \"best_metric\": 0.86401424}, {\"run_id\": \"AutoML_4798bf11-a0a6-4219-af08-bb9b29393c00_44\", \"run_number\": 46, \"metric\": null, \"status\": \"Completed\", \"run_type\": null, \"training_percent\": \"100\", \"start_time\": \"2020-11-27T14:46:31.078166Z\", \"end_time\": \"2020-11-27T14:47:06.768297Z\", \"created_time\": \"2020-11-27T14:46:30.960891Z\", \"created_time_dt\": \"2020-11-27T14:46:30.960891Z\", \"duration\": \"0:00:35\", \"iteration\": \"44\", \"goal\": \"r2_score_max\", \"run_name\": \"StackEnsemble\", \"run_properties\": \"base_learners=[('25',\\n                                       Pipeline(memory=None,\\n                                                steps=[('truncatedsvdwrapper',\\n                                                        TruncatedSVDWrapper(n_components=0.8015789473684211,\\n                                                                            random_state=None\", \"primary_metric\": 0.85755456, \"best_metric\": 0.86401424}], \"children_metrics\": {\"categories\": [0], \"series\": {\"spearman_correlation\": [{\"categories\": [\"0\", \"1\", \"2\", \"3\", \"4\", \"5\", \"6\", \"7\", \"8\", \"9\", \"10\", \"11\", \"12\", \"13\", \"14\", \"15\", \"16\", \"17\", \"18\", \"19\", \"20\", \"21\", \"22\", \"23\", \"24\", \"25\", \"26\", \"27\", \"28\", \"29\", \"30\", \"31\", \"32\", \"33\", \"34\", \"35\", \"36\", \"37\", \"38\", \"39\", \"40\", \"41\", \"42\", \"43\", \"44\"], \"mode\": \"markers\", \"name\": \"spearman_correlation\", \"stepped\": false, \"type\": \"scatter\", \"data\": [0.9110616545109774, 0.9271103882435526, 0.9303164352490221, 0.924244730631668, 0.9235846407393026, 0.9358812329162646, 0.9286293438485574, 0.8766866433933297, 0.9303981410189524, 0.9202504391732385, 0.9054441860361638, 0.9071695973814743, 0.9251402871758958, 0.9342639519116043, 0.9235811704104959, 0.9151316031056416, 0.916688949258253, 0.8734029446295081, 0.9083905323134722, 0.9076070581679182, 0.9198704345498753, 0.9242608053649377, 0.7915200887434009, 0.9163186726392641, 0.9135659939501837, 0.9363700851205348, 0.8686064658630875, 0.930466859656236, 0.9111760332723975, 0.929202772553524, 0.9125965745343946, 0.9342346528784531, 0.9179815983743781, 0.9296169187608752, 0.9224829015523044, 0.8771909308057696, 0.9264180588990273, 0.9058465479139569, 0.9336063289671017, 0.9092115629957459, 0.8775174250282648, 0.9300263263726204, 0.9251443032098466, 0.9470048180487209, 0.9456414631495765]}, {\"categories\": [\"0\", \"1\", \"2\", \"3\", \"4\", \"5\", \"6\", \"7\", \"8\", \"9\", \"10\", \"11\", \"12\", \"13\", \"14\", \"15\", \"16\", \"17\", \"18\", \"19\", \"20\", \"21\", \"22\", \"23\", \"24\", \"25\", \"26\", \"27\", \"28\", \"29\", \"30\", \"31\", \"32\", \"33\", \"34\", \"35\", \"36\", \"37\", \"38\", \"39\", \"40\", \"41\", \"42\", \"43\", \"44\"], \"mode\": \"lines\", \"name\": \"spearman_correlation_max\", \"stepped\": true, \"type\": \"scatter\", \"data\": [0.9110616545109774, 0.9271103882435526, 0.9303164352490221, 0.9303164352490221, 0.9303164352490221, 0.9358812329162646, 0.9358812329162646, 0.9358812329162646, 0.9358812329162646, 0.9358812329162646, 0.9358812329162646, 0.9358812329162646, 0.9358812329162646, 0.9358812329162646, 0.9358812329162646, 0.9358812329162646, 0.9358812329162646, 0.9358812329162646, 0.9358812329162646, 0.9358812329162646, 0.9358812329162646, 0.9358812329162646, 0.9358812329162646, 0.9358812329162646, 0.9358812329162646, 0.9363700851205348, 0.9363700851205348, 0.9363700851205348, 0.9363700851205348, 0.9363700851205348, 0.9363700851205348, 0.9363700851205348, 0.9363700851205348, 0.9363700851205348, 0.9363700851205348, 0.9363700851205348, 0.9363700851205348, 0.9363700851205348, 0.9363700851205348, 0.9363700851205348, 0.9363700851205348, 0.9363700851205348, 0.9363700851205348, 0.9470048180487209, 0.9470048180487209]}], \"normalized_root_mean_squared_error\": [{\"categories\": [\"0\", \"1\", \"2\", \"3\", \"4\", \"5\", \"6\", \"7\", \"8\", \"9\", \"10\", \"11\", \"12\", \"13\", \"14\", \"15\", \"16\", \"17\", \"18\", \"19\", \"20\", \"21\", \"22\", \"23\", \"24\", \"25\", \"26\", \"27\", \"28\", \"29\", \"30\", \"31\", \"32\", \"33\", \"34\", \"35\", \"36\", \"37\", \"38\", \"39\", \"40\", \"41\", \"42\", \"43\", \"44\"], \"mode\": \"markers\", \"name\": \"normalized_root_mean_squared_error\", \"stepped\": false, \"type\": \"scatter\", \"data\": [0.09661793082037977, 0.08757346859305541, 0.08454356180005713, 0.09206245211499024, 0.09000115243276952, 0.08198171030315113, 0.08678635789467204, 0.11021264000464918, 0.0857636620954715, 0.09152079683580744, 0.10425352473349918, 0.09835582472649868, 0.08798714773998166, 0.08238047668746015, 0.08884157816354926, 0.11218128710157677, 0.09119369480663349, 0.11854101339470292, 0.09758713003535786, 0.09847362762756105, 0.0929355224487232, 0.08753297973793946, 0.13074365775090382, 0.09157499505904419, 0.09270992279436768, 0.08158330822882293, 0.11831157327452978, 0.08570265013245781, 0.10312751371318025, 0.08819531000148495, 0.10063655169072099, 0.08502915454224573, 0.09037729713968297, 0.08495086101504472, 0.08848264332067342, 0.11472674464023559, 0.08813237843648698, 0.10260902089672536, 0.08479190171238353, 0.09706942950360982, 0.11521292836094821, 0.08418138382213693, 0.08923598145071764, 0.07610949861512173, 0.07792852291239055]}, {\"categories\": [\"0\", \"1\", \"2\", \"3\", \"4\", \"5\", \"6\", \"7\", \"8\", \"9\", \"10\", \"11\", \"12\", \"13\", \"14\", \"15\", \"16\", \"17\", \"18\", \"19\", \"20\", \"21\", \"22\", \"23\", \"24\", \"25\", \"26\", \"27\", \"28\", \"29\", \"30\", \"31\", \"32\", \"33\", \"34\", \"35\", \"36\", \"37\", \"38\", \"39\", \"40\", \"41\", \"42\", \"43\", \"44\"], \"mode\": \"lines\", \"name\": \"normalized_root_mean_squared_error_min\", \"stepped\": true, \"type\": \"scatter\", \"data\": [0.09661793082037977, 0.08757346859305541, 0.08454356180005713, 0.08454356180005713, 0.08454356180005713, 0.08198171030315113, 0.08198171030315113, 0.08198171030315113, 0.08198171030315113, 0.08198171030315113, 0.08198171030315113, 0.08198171030315113, 0.08198171030315113, 0.08198171030315113, 0.08198171030315113, 0.08198171030315113, 0.08198171030315113, 0.08198171030315113, 0.08198171030315113, 0.08198171030315113, 0.08198171030315113, 0.08198171030315113, 0.08198171030315113, 0.08198171030315113, 0.08198171030315113, 0.08158330822882293, 0.08158330822882293, 0.08158330822882293, 0.08158330822882293, 0.08158330822882293, 0.08158330822882293, 0.08158330822882293, 0.08158330822882293, 0.08158330822882293, 0.08158330822882293, 0.08158330822882293, 0.08158330822882293, 0.08158330822882293, 0.08158330822882293, 0.08158330822882293, 0.08158330822882293, 0.08158330822882293, 0.08158330822882293, 0.07610949861512173, 0.07610949861512173]}], \"normalized_root_mean_squared_log_error\": [{\"categories\": [\"0\", \"1\", \"2\", \"3\", \"4\", \"5\", \"6\", \"7\", \"8\", \"9\", \"10\", \"11\", \"12\", \"13\", \"14\", \"15\", \"16\", \"17\", \"18\", \"19\", \"20\", \"21\", \"22\", \"23\", \"24\", \"25\", \"26\", \"27\", \"28\", \"29\", \"30\", \"31\", \"32\", \"33\", \"34\", \"35\", \"36\", \"37\", \"38\", \"39\", \"40\", \"41\", \"42\", \"43\", \"44\"], \"mode\": \"markers\", \"name\": \"normalized_root_mean_squared_log_error\", \"stepped\": false, \"type\": \"scatter\", \"data\": [0.08795575126620962, 0.08151303783576562, 0.07952750300014705, 0.08428978018042972, 0.08246131962490427, 0.0797227453949658, 0.08030528807971286, 0.0994243977881114, 0.07910572905978121, 0.08384251556046883, 0.09923045198973275, 0.08996113601991056, 0.08207740284671658, 0.07691245528277424, 0.08235888020346445, 0.09984956842316224, 0.08505024309215026, 0.10723941641371258, 0.09079825485728699, 0.09036976461368688, 0.0849527977935819, 0.08200793078472139, 0.1246680254818583, 0.08511621347438697, 0.08825649383181837, 0.08003298905534735, 0.10795139747006738, 0.07823392336239236, 0.09682574105668063, 0.08287556353038832, 0.09548024339449719, 0.07724137844704503, 0.0853766187562115, 0.07903424350154821, 0.08341230394740316, 0.10939890697744527, 0.08184054592303913, 0.09178550475645747, 0.07666481078104996, 0.09321623343485834, 0.1105470448558178, 0.07940026530475007, 0.0818887728083363, 0.07057827584759484, 0.07184743056236875]}, {\"categories\": [\"0\", \"1\", \"2\", \"3\", \"4\", \"5\", \"6\", \"7\", \"8\", \"9\", \"10\", \"11\", \"12\", \"13\", \"14\", \"15\", \"16\", \"17\", \"18\", \"19\", \"20\", \"21\", \"22\", \"23\", \"24\", \"25\", \"26\", \"27\", \"28\", \"29\", \"30\", \"31\", \"32\", \"33\", \"34\", \"35\", \"36\", \"37\", \"38\", \"39\", \"40\", \"41\", \"42\", \"43\", \"44\"], \"mode\": \"lines\", \"name\": \"normalized_root_mean_squared_log_error_min\", \"stepped\": true, \"type\": \"scatter\", \"data\": [0.08795575126620962, 0.08151303783576562, 0.07952750300014705, 0.07952750300014705, 0.07952750300014705, 0.07952750300014705, 0.07952750300014705, 0.07952750300014705, 0.07910572905978121, 0.07910572905978121, 0.07910572905978121, 0.07910572905978121, 0.07910572905978121, 0.07691245528277424, 0.07691245528277424, 0.07691245528277424, 0.07691245528277424, 0.07691245528277424, 0.07691245528277424, 0.07691245528277424, 0.07691245528277424, 0.07691245528277424, 0.07691245528277424, 0.07691245528277424, 0.07691245528277424, 0.07691245528277424, 0.07691245528277424, 0.07691245528277424, 0.07691245528277424, 0.07691245528277424, 0.07691245528277424, 0.07691245528277424, 0.07691245528277424, 0.07691245528277424, 0.07691245528277424, 0.07691245528277424, 0.07691245528277424, 0.07691245528277424, 0.07666481078104996, 0.07666481078104996, 0.07666481078104996, 0.07666481078104996, 0.07666481078104996, 0.07057827584759484, 0.07057827584759484]}], \"mean_absolute_percentage_error\": [{\"categories\": [\"0\", \"1\", \"2\", \"3\", \"4\", \"5\", \"6\", \"7\", \"8\", \"9\", \"10\", \"11\", \"12\", \"13\", \"14\", \"15\", \"16\", \"17\", \"18\", \"19\", \"20\", \"21\", \"22\", \"23\", \"24\", \"25\", \"26\", \"27\", \"28\", \"29\", \"30\", \"31\", \"32\", \"33\", \"34\", \"35\", \"36\", \"37\", \"38\", \"39\", \"40\", \"41\", \"42\", \"43\", \"44\"], \"mode\": \"markers\", \"name\": \"mean_absolute_percentage_error\", \"stepped\": false, \"type\": \"scatter\", \"data\": [10.845777438404355, 9.736422866167231, 9.621879134725463, 10.344797802865104, 10.02177897342103, 10.250602054999646, 9.419216689341772, 12.583396773734902, 9.284264548660378, 10.30566979580854, 12.908693874572664, 10.892422274846128, 9.437807073964393, 9.087256289273654, 9.505826469951224, 11.483970630764768, 9.912050960139355, 12.796835746798175, 11.626331476566278, 11.18992918561397, 10.712958612718312, 9.420533212854842, 16.448556176326303, 10.199884089369968, 11.210339332044077, 10.283483182307245, 12.646173190568632, 9.637421168662051, 12.416502844565473, 10.890734198077197, 12.359247663361264, 9.515222864014282, 9.981082884201514, 9.269166506121275, 9.7670541091301, 14.353689109320271, 9.818567068753957, 10.978788759024903, 9.397393762719409, 11.798794764162016, 14.498812775587245, 9.188137118047917, 9.865836885819327, 8.775411267236603, 8.886745116548697]}, {\"categories\": [\"0\", \"1\", \"2\", \"3\", \"4\", \"5\", \"6\", \"7\", \"8\", \"9\", \"10\", \"11\", \"12\", \"13\", \"14\", \"15\", \"16\", \"17\", \"18\", \"19\", \"20\", \"21\", \"22\", \"23\", \"24\", \"25\", \"26\", \"27\", \"28\", \"29\", \"30\", \"31\", \"32\", \"33\", \"34\", \"35\", \"36\", \"37\", \"38\", \"39\", \"40\", \"41\", \"42\", \"43\", \"44\"], \"mode\": \"lines\", \"name\": \"mean_absolute_percentage_error_min\", \"stepped\": true, \"type\": \"scatter\", \"data\": [10.845777438404355, 9.736422866167231, 9.621879134725463, 9.621879134725463, 9.621879134725463, 9.621879134725463, 9.419216689341772, 9.419216689341772, 9.284264548660378, 9.284264548660378, 9.284264548660378, 9.284264548660378, 9.284264548660378, 9.087256289273654, 9.087256289273654, 9.087256289273654, 9.087256289273654, 9.087256289273654, 9.087256289273654, 9.087256289273654, 9.087256289273654, 9.087256289273654, 9.087256289273654, 9.087256289273654, 9.087256289273654, 9.087256289273654, 9.087256289273654, 9.087256289273654, 9.087256289273654, 9.087256289273654, 9.087256289273654, 9.087256289273654, 9.087256289273654, 9.087256289273654, 9.087256289273654, 9.087256289273654, 9.087256289273654, 9.087256289273654, 9.087256289273654, 9.087256289273654, 9.087256289273654, 9.087256289273654, 9.087256289273654, 8.775411267236603, 8.775411267236603]}], \"median_absolute_error\": [{\"categories\": [\"0\", \"1\", \"2\", \"3\", \"4\", \"5\", \"6\", \"7\", \"8\", \"9\", \"10\", \"11\", \"12\", \"13\", \"14\", \"15\", \"16\", \"17\", \"18\", \"19\", \"20\", \"21\", \"22\", \"23\", \"24\", \"25\", \"26\", \"27\", \"28\", \"29\", \"30\", \"31\", \"32\", \"33\", \"34\", \"35\", \"36\", \"37\", \"38\", \"39\", \"40\", \"41\", \"42\", \"43\", \"44\"], \"mode\": \"markers\", \"name\": \"median_absolute_error\", \"stepped\": false, \"type\": \"scatter\", \"data\": [1.8389472354932241, 1.549153391520182, 1.5593512217203778, 1.77117073628229, 1.7859887088395692, 1.765411967800662, 1.370436668395996, 2.303276588105324, 1.501333333333332, 1.8438365079365082, 2.3110225424983373, 1.8023966244167517, 1.565833333333326, 1.5795714649003993, 1.4296627044677734, 2.102670892079671, 1.5549444444444447, 2.0, 2.1479912201126674, 1.9736767674743927, 1.8974494715821966, 1.588666666666665, 2.951176744502178, 1.6595806057368556, 1.9272161462904542, 1.7512879829757757, 2.0, 1.5931316693623856, 2.2149910920621227, 1.9025538236633024, 2.2091076859373246, 1.554999999999988, 1.563333333333335, 1.5157290013227496, 1.6133430523180514, 2.551845214262682, 1.5859899470899428, 1.934666666666666, 1.5659217834472656, 1.8543904245847227, 2.6277524117998285, 1.4737102843915395, 1.604262122368448, 1.3572896116061977, 1.4171429881035873]}, {\"categories\": [\"0\", \"1\", \"2\", \"3\", \"4\", \"5\", \"6\", \"7\", \"8\", \"9\", \"10\", \"11\", \"12\", \"13\", \"14\", \"15\", \"16\", \"17\", \"18\", \"19\", \"20\", \"21\", \"22\", \"23\", \"24\", \"25\", \"26\", \"27\", \"28\", \"29\", \"30\", \"31\", \"32\", \"33\", \"34\", \"35\", \"36\", \"37\", \"38\", \"39\", \"40\", \"41\", \"42\", \"43\", \"44\"], \"mode\": \"lines\", \"name\": \"median_absolute_error_min\", \"stepped\": true, \"type\": \"scatter\", \"data\": [1.8389472354932241, 1.549153391520182, 1.549153391520182, 1.549153391520182, 1.549153391520182, 1.549153391520182, 1.370436668395996, 1.370436668395996, 1.370436668395996, 1.370436668395996, 1.370436668395996, 1.370436668395996, 1.370436668395996, 1.370436668395996, 1.370436668395996, 1.370436668395996, 1.370436668395996, 1.370436668395996, 1.370436668395996, 1.370436668395996, 1.370436668395996, 1.370436668395996, 1.370436668395996, 1.370436668395996, 1.370436668395996, 1.370436668395996, 1.370436668395996, 1.370436668395996, 1.370436668395996, 1.370436668395996, 1.370436668395996, 1.370436668395996, 1.370436668395996, 1.370436668395996, 1.370436668395996, 1.370436668395996, 1.370436668395996, 1.370436668395996, 1.370436668395996, 1.370436668395996, 1.370436668395996, 1.370436668395996, 1.370436668395996, 1.3572896116061977, 1.3572896116061977]}], \"mean_absolute_error\": [{\"categories\": [\"0\", \"1\", \"2\", \"3\", \"4\", \"5\", \"6\", \"7\", \"8\", \"9\", \"10\", \"11\", \"12\", \"13\", \"14\", \"15\", \"16\", \"17\", \"18\", \"19\", \"20\", \"21\", \"22\", \"23\", \"24\", \"25\", \"26\", \"27\", \"28\", \"29\", \"30\", \"31\", \"32\", \"33\", \"34\", \"35\", \"36\", \"37\", \"38\", \"39\", \"40\", \"41\", \"42\", \"43\", \"44\"], \"mode\": \"markers\", \"name\": \"mean_absolute_error\", \"stepped\": false, \"type\": \"scatter\", \"data\": [2.5869153160808485, 2.2842987504211494, 2.2344745398672297, 2.4351637309531426, 2.372729842128716, 2.3178734706855852, 2.212328290262119, 3.013376330799623, 2.2052573858889652, 2.439989903194133, 2.9490196325124276, 2.551390073357147, 2.231410211133895, 2.141194344563886, 2.24627194844609, 2.923561709035979, 2.332993558884725, 3.0626338573706993, 2.729287403013156, 2.648860083874785, 2.5292166777125757, 2.2247145610237715, 3.7514990501893846, 2.386109769784399, 2.605249291304362, 2.316418928120902, 3.056111111111111, 2.279123562593852, 2.855298863989155, 2.4910080405285733, 2.826112875482591, 2.2528157277663876, 2.352339371155161, 2.1933765185522485, 2.294986467064755, 3.2853435672788316, 2.2999479723011826, 2.664884635832004, 2.2373135639973487, 2.655637939395141, 3.310904970059305, 2.166999293180192, 2.3297816983031683, 2.036164988607308, 2.0675327961048637]}, {\"categories\": [\"0\", \"1\", \"2\", \"3\", \"4\", \"5\", \"6\", \"7\", \"8\", \"9\", \"10\", \"11\", \"12\", \"13\", \"14\", \"15\", \"16\", \"17\", \"18\", \"19\", \"20\", \"21\", \"22\", \"23\", \"24\", \"25\", \"26\", \"27\", \"28\", \"29\", \"30\", \"31\", \"32\", \"33\", \"34\", \"35\", \"36\", \"37\", \"38\", \"39\", \"40\", \"41\", \"42\", \"43\", \"44\"], \"mode\": \"lines\", \"name\": \"mean_absolute_error_min\", \"stepped\": true, \"type\": \"scatter\", \"data\": [2.5869153160808485, 2.2842987504211494, 2.2344745398672297, 2.2344745398672297, 2.2344745398672297, 2.2344745398672297, 2.212328290262119, 2.212328290262119, 2.2052573858889652, 2.2052573858889652, 2.2052573858889652, 2.2052573858889652, 2.2052573858889652, 2.141194344563886, 2.141194344563886, 2.141194344563886, 2.141194344563886, 2.141194344563886, 2.141194344563886, 2.141194344563886, 2.141194344563886, 2.141194344563886, 2.141194344563886, 2.141194344563886, 2.141194344563886, 2.141194344563886, 2.141194344563886, 2.141194344563886, 2.141194344563886, 2.141194344563886, 2.141194344563886, 2.141194344563886, 2.141194344563886, 2.141194344563886, 2.141194344563886, 2.141194344563886, 2.141194344563886, 2.141194344563886, 2.141194344563886, 2.141194344563886, 2.141194344563886, 2.141194344563886, 2.141194344563886, 2.036164988607308, 2.036164988607308]}], \"normalized_median_absolute_error\": [{\"categories\": [\"0\", \"1\", \"2\", \"3\", \"4\", \"5\", \"6\", \"7\", \"8\", \"9\", \"10\", \"11\", \"12\", \"13\", \"14\", \"15\", \"16\", \"17\", \"18\", \"19\", \"20\", \"21\", \"22\", \"23\", \"24\", \"25\", \"26\", \"27\", \"28\", \"29\", \"30\", \"31\", \"32\", \"33\", \"34\", \"35\", \"36\", \"37\", \"38\", \"39\", \"40\", \"41\", \"42\", \"43\", \"44\"], \"mode\": \"markers\", \"name\": \"normalized_median_absolute_error\", \"stepped\": false, \"type\": \"scatter\", \"data\": [0.04890817115673468, 0.04120088807234527, 0.04147210696064835, 0.047105604688358775, 0.04749969970318003, 0.04695244595214526, 0.03644778373393606, 0.06125735606663096, 0.03992907801418436, 0.04903820499831139, 0.061463365491977055, 0.047936080436615736, 0.041644503546099096, 0.04200987938564892, 0.03802294426775993, 0.05592209819360827, 0.041354905437352256, 0.05319148936170213, 0.05712742606682627, 0.052491403390276394, 0.05046408169101587, 0.04225177304964534, 0.07848874320484517, 0.044137782067469565, 0.051255748571554634, 0.04657680805786637, 0.05319148936170213, 0.04237052312134004, 0.058909337554843684, 0.05059983573572613, 0.0587528639876948, 0.04135638297872308, 0.0415780141843972, 0.04031194152454121, 0.042908059902075836, 0.06786822378358197, 0.04218058369920061, 0.051453900709219846, 0.041646855942746426, 0.049318894270870293, 0.06988703222871884, 0.039194422457221795, 0.042666545807671485, 0.03609812796824994, 0.037689973087861366]}, {\"categories\": [\"0\", \"1\", \"2\", \"3\", \"4\", \"5\", \"6\", \"7\", \"8\", \"9\", \"10\", \"11\", \"12\", \"13\", \"14\", \"15\", \"16\", \"17\", \"18\", \"19\", \"20\", \"21\", \"22\", \"23\", \"24\", \"25\", \"26\", \"27\", \"28\", \"29\", \"30\", \"31\", \"32\", \"33\", \"34\", \"35\", \"36\", \"37\", \"38\", \"39\", \"40\", \"41\", \"42\", \"43\", \"44\"], \"mode\": \"lines\", \"name\": \"normalized_median_absolute_error_min\", \"stepped\": true, \"type\": \"scatter\", \"data\": [0.04890817115673468, 0.04120088807234527, 0.04120088807234527, 0.04120088807234527, 0.04120088807234527, 0.04120088807234527, 0.03644778373393606, 0.03644778373393606, 0.03644778373393606, 0.03644778373393606, 0.03644778373393606, 0.03644778373393606, 0.03644778373393606, 0.03644778373393606, 0.03644778373393606, 0.03644778373393606, 0.03644778373393606, 0.03644778373393606, 0.03644778373393606, 0.03644778373393606, 0.03644778373393606, 0.03644778373393606, 0.03644778373393606, 0.03644778373393606, 0.03644778373393606, 0.03644778373393606, 0.03644778373393606, 0.03644778373393606, 0.03644778373393606, 0.03644778373393606, 0.03644778373393606, 0.03644778373393606, 0.03644778373393606, 0.03644778373393606, 0.03644778373393606, 0.03644778373393606, 0.03644778373393606, 0.03644778373393606, 0.03644778373393606, 0.03644778373393606, 0.03644778373393606, 0.03644778373393606, 0.03644778373393606, 0.03609812796824994, 0.03609812796824994]}], \"normalized_mean_absolute_error\": [{\"categories\": [\"0\", \"1\", \"2\", \"3\", \"4\", \"5\", \"6\", \"7\", \"8\", \"9\", \"10\", \"11\", \"12\", \"13\", \"14\", \"15\", \"16\", \"17\", \"18\", \"19\", \"20\", \"21\", \"22\", \"23\", \"24\", \"25\", \"26\", \"27\", \"28\", \"29\", \"30\", \"31\", \"32\", \"33\", \"34\", \"35\", \"36\", \"37\", \"38\", \"39\", \"40\", \"41\", \"42\", \"43\", \"44\"], \"mode\": \"markers\", \"name\": \"normalized_mean_absolute_error\", \"stepped\": false, \"type\": \"scatter\", \"data\": [0.06880093925746938, 0.06075262634098801, 0.05942751435817099, 0.06476499284449846, 0.06310451707789139, 0.061645571028871936, 0.05883851835803507, 0.08014298752126656, 0.05865046239066396, 0.06489334848920565, 0.07843137320511774, 0.06785611897226453, 0.059346016253561035, 0.05694665810010335, 0.05974127522463005, 0.07775430077223348, 0.0620477010341682, 0.08145302812156116, 0.07258743093120096, 0.07044840648603153, 0.06726640100299404, 0.05916794045275988, 0.09977391090929215, 0.06346036621767019, 0.06928854498149899, 0.061606886386194194, 0.08127955082742315, 0.06061498836685777, 0.07593879957417965, 0.06625021384384504, 0.07516257647560083, 0.059915311908680526, 0.0625622173179564, 0.05833448187638959, 0.06103687412406264, 0.08737615870422426, 0.061168829050563374, 0.07087459137851075, 0.05950302031907842, 0.0706286686009346, 0.08805598324625812, 0.057632959925005105, 0.061962279210190645, 0.05415332416508797, 0.05498757436449106]}, {\"categories\": [\"0\", \"1\", \"2\", \"3\", \"4\", \"5\", \"6\", \"7\", \"8\", \"9\", \"10\", \"11\", \"12\", \"13\", \"14\", \"15\", \"16\", \"17\", \"18\", \"19\", \"20\", \"21\", \"22\", \"23\", \"24\", \"25\", \"26\", \"27\", \"28\", \"29\", \"30\", \"31\", \"32\", \"33\", \"34\", \"35\", \"36\", \"37\", \"38\", \"39\", \"40\", \"41\", \"42\", \"43\", \"44\"], \"mode\": \"lines\", \"name\": \"normalized_mean_absolute_error_min\", \"stepped\": true, \"type\": \"scatter\", \"data\": [0.06880093925746938, 0.06075262634098801, 0.05942751435817099, 0.05942751435817099, 0.05942751435817099, 0.05942751435817099, 0.05883851835803507, 0.05883851835803507, 0.05865046239066396, 0.05865046239066396, 0.05865046239066396, 0.05865046239066396, 0.05865046239066396, 0.05694665810010335, 0.05694665810010335, 0.05694665810010335, 0.05694665810010335, 0.05694665810010335, 0.05694665810010335, 0.05694665810010335, 0.05694665810010335, 0.05694665810010335, 0.05694665810010335, 0.05694665810010335, 0.05694665810010335, 0.05694665810010335, 0.05694665810010335, 0.05694665810010335, 0.05694665810010335, 0.05694665810010335, 0.05694665810010335, 0.05694665810010335, 0.05694665810010335, 0.05694665810010335, 0.05694665810010335, 0.05694665810010335, 0.05694665810010335, 0.05694665810010335, 0.05694665810010335, 0.05694665810010335, 0.05694665810010335, 0.05694665810010335, 0.05694665810010335, 0.05415332416508797, 0.05415332416508797]}], \"root_mean_squared_log_error\": [{\"categories\": [\"0\", \"1\", \"2\", \"3\", \"4\", \"5\", \"6\", \"7\", \"8\", \"9\", \"10\", \"11\", \"12\", \"13\", \"14\", \"15\", \"16\", \"17\", \"18\", \"19\", \"20\", \"21\", \"22\", \"23\", \"24\", \"25\", \"26\", \"27\", \"28\", \"29\", \"30\", \"31\", \"32\", \"33\", \"34\", \"35\", \"36\", \"37\", \"38\", \"39\", \"40\", \"41\", \"42\", \"43\", \"44\"], \"mode\": \"markers\", \"name\": \"root_mean_squared_log_error\", \"stepped\": false, \"type\": \"scatter\", \"data\": [0.13723275582169378, 0.1271805272146835, 0.12408260111719376, 0.1315129329832582, 0.1286600816650247, 0.12438722760845194, 0.12529613847398077, 0.15512668481539793, 0.12342452931021218, 0.13081508940287645, 0.1548240813357121, 0.14036165270758635, 0.12806107640705788, 0.12000247901381779, 0.12850025079658703, 0.15579005630734158, 0.1326994434680557, 0.1673200494032704, 0.14166776542164553, 0.1409992145182034, 0.13254740466818316, 0.12795268278432184, 0.1945129960625693, 0.13280237360311367, 0.13770198870842634, 0.12487128455614956, 0.1684309161862814, 0.12206429650369995, 0.15107213670961828, 0.12930640475264019, 0.14897282711956972, 0.1205156806139025, 0.13320867033687867, 0.12331299413466605, 0.13014385273673956, 0.17068938951992782, 0.12769152094418285, 0.1432081197747997, 0.11961609225744922, 0.1454404108591635, 0.1724807689674804, 0.12388407879963793, 0.1277667668295144, 0.11011959031984427, 0.11209978600421029]}, {\"categories\": [\"0\", \"1\", \"2\", \"3\", \"4\", \"5\", \"6\", \"7\", \"8\", \"9\", \"10\", \"11\", \"12\", \"13\", \"14\", \"15\", \"16\", \"17\", \"18\", \"19\", \"20\", \"21\", \"22\", \"23\", \"24\", \"25\", \"26\", \"27\", \"28\", \"29\", \"30\", \"31\", \"32\", \"33\", \"34\", \"35\", \"36\", \"37\", \"38\", \"39\", \"40\", \"41\", \"42\", \"43\", \"44\"], \"mode\": \"lines\", \"name\": \"root_mean_squared_log_error_min\", \"stepped\": true, \"type\": \"scatter\", \"data\": [0.13723275582169378, 0.1271805272146835, 0.12408260111719376, 0.12408260111719376, 0.12408260111719376, 0.12408260111719376, 0.12408260111719376, 0.12408260111719376, 0.12342452931021218, 0.12342452931021218, 0.12342452931021218, 0.12342452931021218, 0.12342452931021218, 0.12000247901381779, 0.12000247901381779, 0.12000247901381779, 0.12000247901381779, 0.12000247901381779, 0.12000247901381779, 0.12000247901381779, 0.12000247901381779, 0.12000247901381779, 0.12000247901381779, 0.12000247901381779, 0.12000247901381779, 0.12000247901381779, 0.12000247901381779, 0.12000247901381779, 0.12000247901381779, 0.12000247901381779, 0.12000247901381779, 0.12000247901381779, 0.12000247901381779, 0.12000247901381779, 0.12000247901381779, 0.12000247901381779, 0.12000247901381779, 0.12000247901381779, 0.11961609225744922, 0.11961609225744922, 0.11961609225744922, 0.11961609225744922, 0.11961609225744922, 0.11011959031984427, 0.11011959031984427]}], \"explained_variance\": [{\"categories\": [\"0\", \"1\", \"2\", \"3\", \"4\", \"5\", \"6\", \"7\", \"8\", \"9\", \"10\", \"11\", \"12\", \"13\", \"14\", \"15\", \"16\", \"17\", \"18\", \"19\", \"20\", \"21\", \"22\", \"23\", \"24\", \"25\", \"26\", \"27\", \"28\", \"29\", \"30\", \"31\", \"32\", \"33\", \"34\", \"35\", \"36\", \"37\", \"38\", \"39\", \"40\", \"41\", \"42\", \"43\", \"44\"], \"mode\": \"markers\", \"name\": \"explained_variance\", \"stepped\": false, \"type\": \"scatter\", \"data\": [0.783471764314181, 0.8198093402881272, 0.8314587260626843, 0.801188351322908, 0.8096751009782618, 0.8424400564839898, 0.823204166093379, 0.7172642750375441, 0.8272455200364338, 0.8043457415217828, 0.7475964290687337, 0.7720849266194397, 0.8193325114619708, 0.8404021593863421, 0.8137267388755515, 0.7761551645797047, 0.805550229392932, 0.67315024875195, 0.775510365320014, 0.7760500651486297, 0.7986234457905595, 0.8207335246002355, 0.6088870396308288, 0.8031450678371094, 0.7948746044892485, 0.8440078531989341, 0.6764804852983207, 0.8292517786906365, 0.7504646430676479, 0.824277368259394, 0.7647538550440278, 0.8303744042243207, 0.8076608770450991, 0.8297263186881679, 0.8166973350706085, 0.6946502212092422, 0.8169748827797744, 0.7588512850246124, 0.830058381246614, 0.7801977486607635, 0.6918103668436958, 0.8336389577860714, 0.8136655007377449, 0.8642570382274245, 0.858197228639752]}, {\"categories\": [\"0\", \"1\", \"2\", \"3\", \"4\", \"5\", \"6\", \"7\", \"8\", \"9\", \"10\", \"11\", \"12\", \"13\", \"14\", \"15\", \"16\", \"17\", \"18\", \"19\", \"20\", \"21\", \"22\", \"23\", \"24\", \"25\", \"26\", \"27\", \"28\", \"29\", \"30\", \"31\", \"32\", \"33\", \"34\", \"35\", \"36\", \"37\", \"38\", \"39\", \"40\", \"41\", \"42\", \"43\", \"44\"], \"mode\": \"lines\", \"name\": \"explained_variance_max\", \"stepped\": true, \"type\": \"scatter\", \"data\": [0.783471764314181, 0.8198093402881272, 0.8314587260626843, 0.8314587260626843, 0.8314587260626843, 0.8424400564839898, 0.8424400564839898, 0.8424400564839898, 0.8424400564839898, 0.8424400564839898, 0.8424400564839898, 0.8424400564839898, 0.8424400564839898, 0.8424400564839898, 0.8424400564839898, 0.8424400564839898, 0.8424400564839898, 0.8424400564839898, 0.8424400564839898, 0.8424400564839898, 0.8424400564839898, 0.8424400564839898, 0.8424400564839898, 0.8424400564839898, 0.8424400564839898, 0.8440078531989341, 0.8440078531989341, 0.8440078531989341, 0.8440078531989341, 0.8440078531989341, 0.8440078531989341, 0.8440078531989341, 0.8440078531989341, 0.8440078531989341, 0.8440078531989341, 0.8440078531989341, 0.8440078531989341, 0.8440078531989341, 0.8440078531989341, 0.8440078531989341, 0.8440078531989341, 0.8440078531989341, 0.8440078531989341, 0.8642570382274245, 0.8642570382274245]}], \"root_mean_squared_error\": [{\"categories\": [\"0\", \"1\", \"2\", \"3\", \"4\", \"5\", \"6\", \"7\", \"8\", \"9\", \"10\", \"11\", \"12\", \"13\", \"14\", \"15\", \"16\", \"17\", \"18\", \"19\", \"20\", \"21\", \"22\", \"23\", \"24\", \"25\", \"26\", \"27\", \"28\", \"29\", \"30\", \"31\", \"32\", \"33\", \"34\", \"35\", \"36\", \"37\", \"38\", \"39\", \"40\", \"41\", \"42\", \"43\", \"44\"], \"mode\": \"markers\", \"name\": \"root_mean_squared_error\", \"stepped\": false, \"type\": \"scatter\", \"data\": [3.632834198846279, 3.292762419098883, 3.178837923682149, 3.4615481995236337, 3.384043331472134, 3.0825123073984826, 3.2631670568396687, 4.1439952641748095, 3.224713694789729, 3.4411819610263596, 3.919932529979569, 3.69817900971635, 3.308316755023311, 3.097505923448502, 3.340443338949452, 4.218016395019286, 3.42888292472942, 4.45714210364083, 3.669276089329456, 3.702608398796295, 3.4943756440719924, 3.291240038146524, 4.915961531433984, 3.443219814220061, 3.485893097068225, 3.0675323894037416, 4.44851515512232, 3.222419644980414, 3.8775945156155776, 3.3161436560558344, 3.7839343435711092, 3.1970962107884393, 3.3981863724520793, 3.1941523741656805, 3.3269473888573207, 4.313725598472859, 3.3137774292119104, 3.8580991857168736, 3.188175504385621, 3.6498105493357293, 4.332006106371653, 3.1652200317123484, 3.3552729025469836, 2.861717147928577, 2.930112461505884]}, {\"categories\": [\"0\", \"1\", \"2\", \"3\", \"4\", \"5\", \"6\", \"7\", \"8\", \"9\", \"10\", \"11\", \"12\", \"13\", \"14\", \"15\", \"16\", \"17\", \"18\", \"19\", \"20\", \"21\", \"22\", \"23\", \"24\", \"25\", \"26\", \"27\", \"28\", \"29\", \"30\", \"31\", \"32\", \"33\", \"34\", \"35\", \"36\", \"37\", \"38\", \"39\", \"40\", \"41\", \"42\", \"43\", \"44\"], \"mode\": \"lines\", \"name\": \"root_mean_squared_error_min\", \"stepped\": true, \"type\": \"scatter\", \"data\": [3.632834198846279, 3.292762419098883, 3.178837923682149, 3.178837923682149, 3.178837923682149, 3.0825123073984826, 3.0825123073984826, 3.0825123073984826, 3.0825123073984826, 3.0825123073984826, 3.0825123073984826, 3.0825123073984826, 3.0825123073984826, 3.0825123073984826, 3.0825123073984826, 3.0825123073984826, 3.0825123073984826, 3.0825123073984826, 3.0825123073984826, 3.0825123073984826, 3.0825123073984826, 3.0825123073984826, 3.0825123073984826, 3.0825123073984826, 3.0825123073984826, 3.0675323894037416, 3.0675323894037416, 3.0675323894037416, 3.0675323894037416, 3.0675323894037416, 3.0675323894037416, 3.0675323894037416, 3.0675323894037416, 3.0675323894037416, 3.0675323894037416, 3.0675323894037416, 3.0675323894037416, 3.0675323894037416, 3.0675323894037416, 3.0675323894037416, 3.0675323894037416, 3.0675323894037416, 3.0675323894037416, 2.861717147928577, 2.861717147928577]}], \"r2_score\": [{\"categories\": [\"0\", \"1\", \"2\", \"3\", \"4\", \"5\", \"6\", \"7\", \"8\", \"9\", \"10\", \"11\", \"12\", \"13\", \"14\", \"15\", \"16\", \"17\", \"18\", \"19\", \"20\", \"21\", \"22\", \"23\", \"24\", \"25\", \"26\", \"27\", \"28\", \"29\", \"30\", \"31\", \"32\", \"33\", \"34\", \"35\", \"36\", \"37\", \"38\", \"39\", \"40\", \"41\", \"42\", \"43\", \"44\"], \"mode\": \"markers\", \"name\": \"r2_score\", \"stepped\": false, \"type\": \"scatter\", \"data\": [0.7821713908634371, 0.8192159488875538, 0.8308307384798118, 0.8007024432024883, 0.8092833205387322, 0.8423901729893788, 0.8224767482673188, 0.7160536059891016, 0.8266978511228363, 0.8038097683670603, 0.7462434639680623, 0.771406724529272, 0.8186195433917232, 0.8400262918744357, 0.8125013477487227, 0.7052338933920405, 0.8045358221050107, 0.669209931748747, 0.7735793767901532, 0.7725021077486605, 0.7962907609474783, 0.8199931788189234, 0.6011405536880063, 0.8026063690090587, 0.7937179622849256, 0.8439703030920782, 0.672825156137931, 0.8283270692093919, 0.7501649893963019, 0.8175719041037066, 0.7634781514326027, 0.8301108923146209, 0.8067727117456854, 0.8293357451492572, 0.8162519212206245, 0.6930392426575304, 0.8167732369083701, 0.7537970263967212, 0.8290210868912199, 0.7796165316137987, 0.6902152868947024, 0.8330253862896329, 0.8121119289445783, 0.864014240072818, 0.8575545573414473]}, {\"categories\": [\"0\", \"1\", \"2\", \"3\", \"4\", \"5\", \"6\", \"7\", \"8\", \"9\", \"10\", \"11\", \"12\", \"13\", \"14\", \"15\", \"16\", \"17\", \"18\", \"19\", \"20\", \"21\", \"22\", \"23\", \"24\", \"25\", \"26\", \"27\", \"28\", \"29\", \"30\", \"31\", \"32\", \"33\", \"34\", \"35\", \"36\", \"37\", \"38\", \"39\", \"40\", \"41\", \"42\", \"43\", \"44\"], \"mode\": \"lines\", \"name\": \"r2_score_max\", \"stepped\": true, \"type\": \"scatter\", \"data\": [0.7821713908634371, 0.8192159488875538, 0.8308307384798118, 0.8308307384798118, 0.8308307384798118, 0.8423901729893788, 0.8423901729893788, 0.8423901729893788, 0.8423901729893788, 0.8423901729893788, 0.8423901729893788, 0.8423901729893788, 0.8423901729893788, 0.8423901729893788, 0.8423901729893788, 0.8423901729893788, 0.8423901729893788, 0.8423901729893788, 0.8423901729893788, 0.8423901729893788, 0.8423901729893788, 0.8423901729893788, 0.8423901729893788, 0.8423901729893788, 0.8423901729893788, 0.8439703030920782, 0.8439703030920782, 0.8439703030920782, 0.8439703030920782, 0.8439703030920782, 0.8439703030920782, 0.8439703030920782, 0.8439703030920782, 0.8439703030920782, 0.8439703030920782, 0.8439703030920782, 0.8439703030920782, 0.8439703030920782, 0.8439703030920782, 0.8439703030920782, 0.8439703030920782, 0.8439703030920782, 0.8439703030920782, 0.864014240072818, 0.864014240072818]}]}, \"metricName\": null, \"primaryMetricName\": \"r2_score\", \"showLegend\": false}, \"run_metrics\": [{\"name\": \"experiment_status\", \"run_id\": \"AutoML_4798bf11-a0a6-4219-af08-bb9b29393c00\", \"categories\": [0, 1, 2, 3, 4, 5, 6, 7, 8, 9, 10, 11, 12, 13], \"series\": [{\"data\": [\"DatasetEvaluation\", \"FeaturesGeneration\", \"DatasetFeaturization\", \"DatasetFeaturizationCompleted\", \"DatasetCrossValidationSplit\", \"ModelSelection\", \"BestRunExplainModel\", \"ModelExplanationDataSetSetup\", \"PickSurrogateModel\", \"EngineeredFeatureExplanations\", \"EngineeredFeatureExplanations\", \"RawFeaturesExplanations\", \"RawFeaturesExplanations\", \"BestRunExplainModel\"]}]}, {\"name\": \"experiment_status_description\", \"run_id\": \"AutoML_4798bf11-a0a6-4219-af08-bb9b29393c00\", \"categories\": [0, 1, 2, 3, 4, 5, 6, 7, 8, 9, 10, 11, 12, 13], \"series\": [{\"data\": [\"Gathering dataset statistics.\", \"Generating features for the dataset.\", \"Beginning to fit featurizers and featurize the dataset.\", \"Completed fit featurizers and featurizing the dataset.\", \"Generating individually featurized CV splits.\", \"Beginning model selection.\", \"Best run model explanations started\", \"Model explanations data setup completed\", \"Choosing LightGBM as the surrogate model for explanations\", \"Computation of engineered features started\", \"Computation of engineered features completed\", \"Computation of raw features started\", \"Computation of raw features completed\", \"Best run model explanations completed\"]}]}, {\"name\": \"spearman_correlation\", \"run_id\": \"AutoML_4798bf11-a0a6-4219-af08-bb9b29393c00\", \"categories\": [0], \"series\": [{\"data\": [0.9470048180487209]}]}, {\"name\": \"normalized_root_mean_squared_error\", \"run_id\": \"AutoML_4798bf11-a0a6-4219-af08-bb9b29393c00\", \"categories\": [0], \"series\": [{\"data\": [0.07610949861512173]}]}, {\"name\": \"normalized_root_mean_squared_log_error\", \"run_id\": \"AutoML_4798bf11-a0a6-4219-af08-bb9b29393c00\", \"categories\": [0], \"series\": [{\"data\": [0.07057827584759484]}]}, {\"name\": \"mean_absolute_percentage_error\", \"run_id\": \"AutoML_4798bf11-a0a6-4219-af08-bb9b29393c00\", \"categories\": [0], \"series\": [{\"data\": [8.775411267236603]}]}, {\"name\": \"median_absolute_error\", \"run_id\": \"AutoML_4798bf11-a0a6-4219-af08-bb9b29393c00\", \"categories\": [0], \"series\": [{\"data\": [1.3572896116061977]}]}, {\"name\": \"mean_absolute_error\", \"run_id\": \"AutoML_4798bf11-a0a6-4219-af08-bb9b29393c00\", \"categories\": [0], \"series\": [{\"data\": [2.036164988607308]}]}, {\"name\": \"normalized_median_absolute_error\", \"run_id\": \"AutoML_4798bf11-a0a6-4219-af08-bb9b29393c00\", \"categories\": [0], \"series\": [{\"data\": [0.03609812796824994]}]}, {\"name\": \"normalized_mean_absolute_error\", \"run_id\": \"AutoML_4798bf11-a0a6-4219-af08-bb9b29393c00\", \"categories\": [0], \"series\": [{\"data\": [0.05415332416508797]}]}, {\"name\": \"root_mean_squared_log_error\", \"run_id\": \"AutoML_4798bf11-a0a6-4219-af08-bb9b29393c00\", \"categories\": [0], \"series\": [{\"data\": [0.11011959031984427]}]}, {\"name\": \"explained_variance\", \"run_id\": \"AutoML_4798bf11-a0a6-4219-af08-bb9b29393c00\", \"categories\": [0], \"series\": [{\"data\": [0.8642570382274245]}]}, {\"name\": \"root_mean_squared_error\", \"run_id\": \"AutoML_4798bf11-a0a6-4219-af08-bb9b29393c00\", \"categories\": [0], \"series\": [{\"data\": [2.861717147928577]}]}, {\"name\": \"r2_score\", \"run_id\": \"AutoML_4798bf11-a0a6-4219-af08-bb9b29393c00\", \"categories\": [0], \"series\": [{\"data\": [0.864014240072818]}]}], \"run_logs\": \"\\nRun is completed.\", \"graph\": {}, \"widget_settings\": {\"childWidgetDisplay\": \"popup\", \"send_telemetry\": false, \"log_level\": \"INFO\", \"sdk_version\": \"1.18.0\"}, \"loading\": false}"
     },
     "metadata": {},
     "output_type": "display_data"
    },
    {
     "name": "stdout",
     "output_type": "stream",
     "text": [
      "\n",
      "****************************************************************************************************\n",
      "\n",
      "****************************************************************************************************\n",
      "ITERATION: The iteration being evaluated.\n",
      "PIPELINE: A summary description of the pipeline being evaluated.\n",
      "DURATION: Time taken for the current iteration.\n",
      "METRIC: The result of computing score on the fitted pipeline.\n",
      "BEST: The best observed score thus far.\n",
      "****************************************************************************************************\n",
      "\n",
      " ITERATION   PIPELINE                                       DURATION      METRIC      BEST\n",
      "         0   MaxAbsScaler LightGBM                          0:00:34       0.7822    0.7822\n",
      "         1   MaxAbsScaler XGBoostRegressor                  0:00:26       0.8192    0.8192\n",
      "         2   StandardScalerWrapper XGBoostRegressor         0:00:26       0.8308    0.8308\n",
      "         3   StandardScalerWrapper RandomForest             0:00:26       0.8007    0.8308\n",
      "         4   MaxAbsScaler ExtremeRandomTrees                0:00:30       0.8093    0.8308\n",
      "         5   MaxAbsScaler ElasticNet                        0:00:24       0.8424    0.8424\n",
      "         6   StandardScalerWrapper XGBoostRegressor         0:00:25       0.8225    0.8424\n",
      "         7   MaxAbsScaler RandomForest                      0:00:25       0.7161    0.8424\n",
      "         8   MaxAbsScaler ExtremeRandomTrees                0:00:24       0.8267    0.8424\n",
      "         9   SparseNormalizer RandomForest                  0:00:25       0.8038    0.8424\n",
      "        10   StandardScalerWrapper ElasticNet               0:00:25       0.7462    0.8424\n",
      "        11   StandardScalerWrapper RandomForest             0:00:25       0.7714    0.8424\n",
      "        12   MaxAbsScaler ExtremeRandomTrees                0:00:27       0.8186    0.8424\n",
      "        13   MaxAbsScaler ExtremeRandomTrees                0:00:31       0.8400    0.8424\n",
      "        14   StandardScalerWrapper XGBoostRegressor         0:00:25       0.8125    0.8424\n",
      "        15   StandardScalerWrapper XGBoostRegressor         0:00:23       0.7052    0.8424\n",
      "        16   MaxAbsScaler RandomForest                      0:00:25       0.8045    0.8424\n",
      "        17   StandardScalerWrapper DecisionTree             0:00:23       0.6692    0.8424\n",
      "        18   MaxAbsScaler SGD                               0:00:24       0.7736    0.8424\n",
      "        19   MaxAbsScaler LightGBM                          0:00:25       0.7725    0.8424\n",
      "        20   MaxAbsScaler SGD                               0:00:23       0.7963    0.8424\n",
      "        21   MaxAbsScaler ExtremeRandomTrees                0:00:27       0.8200    0.8424\n",
      "        22   MaxAbsScaler SGD                               0:00:27       0.6011    0.8424\n",
      "        23   MaxAbsScaler RandomForest                      0:00:27       0.8026    0.8424\n",
      "        24   MaxAbsScaler SGD                               0:00:25       0.7937    0.8424\n",
      "        25   TruncatedSVDWrapper ElasticNet                 0:00:25       0.8440    0.8440\n",
      "        26   StandardScalerWrapper DecisionTree             0:00:25       0.6728    0.8440\n",
      "        27   SparseNormalizer XGBoostRegressor              0:00:26       0.8283    0.8440\n",
      "        28   MaxAbsScaler ExtremeRandomTrees                0:00:32       0.7502    0.8440\n",
      "        29   MaxAbsScaler SGD                               0:00:24       0.8176    0.8440\n",
      "        30   TruncatedSVDWrapper ElasticNet                 0:00:28       0.7635    0.8440\n",
      "        31   MaxAbsScaler ExtremeRandomTrees                0:00:32       0.8301    0.8440\n",
      "        32   MaxAbsScaler ExtremeRandomTrees                0:00:25       0.8068    0.8440\n",
      "        33   MaxAbsScaler ExtremeRandomTrees                0:00:29       0.8293    0.8440\n",
      "        34   MaxAbsScaler ExtremeRandomTrees                0:00:25       0.8163    0.8440\n",
      "        35   TruncatedSVDWrapper ElasticNet                 0:00:25       0.6930    0.8440\n",
      "        36   MaxAbsScaler RandomForest                      0:00:26       0.8168    0.8440\n",
      "        37   MaxAbsScaler ExtremeRandomTrees                0:00:24       0.7538    0.8440\n",
      "        38   SparseNormalizer XGBoostRegressor              0:00:31       0.8290    0.8440\n",
      "        39   SparseNormalizer LightGBM                      0:00:30       0.7796    0.8440\n",
      "        40   TruncatedSVDWrapper ElasticNet                 0:00:25       0.6902    0.8440\n",
      "        41   MaxAbsScaler ExtremeRandomTrees                0:00:28       0.8330    0.8440\n",
      "        42   MaxAbsScaler LightGBM                          0:00:25       0.8121    0.8440\n",
      "        43    VotingEnsemble                                0:00:35       0.8640    0.8640\n",
      "        44    StackEnsemble                                 0:00:36       0.8576    0.8640\n"
     ]
    },
    {
     "data": {
      "text/plain": [
       "{'runId': 'AutoML_4798bf11-a0a6-4219-af08-bb9b29393c00',\n",
       " 'target': 'local',\n",
       " 'status': 'Completed',\n",
       " 'startTimeUtc': '2020-11-27T14:25:38.628329Z',\n",
       " 'endTimeUtc': '2020-11-27T14:47:08.702042Z',\n",
       " 'properties': {'num_iterations': '1000',\n",
       "  'training_type': 'TrainFull',\n",
       "  'acquisition_function': 'EI',\n",
       "  'primary_metric': 'r2_score',\n",
       "  'train_split': '0',\n",
       "  'acquisition_parameter': '0',\n",
       "  'num_cross_validation': '3',\n",
       "  'target': 'local',\n",
       "  'AMLSettingsJsonString': '{\"path\":null,\"name\":\"AutoRanga\",\"subscription_id\":\"3ec87f2b-33cf-4aed-b36f-750175813524\",\"resource_group\":\"aml-quickstarts-128089\",\"workspace_name\":\"quick-starts-ws-128089\",\"region\":\"southcentralus\",\"compute_target\":\"local\",\"spark_service\":null,\"azure_service\":\"Microsoft.AzureNotebookVM\",\"_local_managed_run_id\":null,\"many_models\":false,\"pipeline_fetch_max_batch_size\":1,\"iterations\":1000,\"primary_metric\":\"r2_score\",\"task_type\":\"regression\",\"data_script\":null,\"validation_size\":0.0,\"n_cross_validations\":3,\"y_min\":null,\"y_max\":null,\"num_classes\":null,\"featurization\":\"auto\",\"_ignore_package_version_incompatibilities\":false,\"is_timeseries\":false,\"max_cores_per_iteration\":1,\"max_concurrent_iterations\":1,\"iteration_timeout_minutes\":null,\"mem_in_mb\":null,\"enforce_time_on_windows\":false,\"experiment_timeout_minutes\":20,\"experiment_exit_score\":null,\"whitelist_models\":null,\"blacklist_algos\":[\"TensorFlowDNN\",\"TensorFlowLinearRegressor\"],\"supported_models\":[\"ElasticNet\",\"KNN\",\"DecisionTree\",\"GradientBoosting\",\"RandomForest\",\"ExtremeRandomTrees\",\"OnlineGradientDescentRegressor\",\"LassoLars\",\"TensorFlowDNN\",\"LightGBM\",\"TensorFlowLinearRegressor\",\"FastLinearRegressor\",\"SGD\",\"XGBoostRegressor\"],\"auto_blacklist\":true,\"blacklist_samples_reached\":false,\"exclude_nan_labels\":true,\"verbosity\":20,\"_debug_log\":\"automl.log\",\"show_warnings\":false,\"model_explainability\":true,\"service_url\":null,\"sdk_url\":null,\"sdk_packages\":null,\"enable_onnx_compatible_models\":false,\"enable_split_onnx_featurizer_estimator_models\":false,\"vm_type\":null,\"telemetry_verbosity\":20,\"send_telemetry\":true,\"enable_dnn\":false,\"scenario\":\"SDK-1.13.0\",\"environment_label\":null,\"force_text_dnn\":false,\"enable_feature_sweeping\":true,\"enable_early_stopping\":false,\"early_stopping_n_iters\":10,\"metrics\":null,\"enable_ensembling\":true,\"enable_stack_ensembling\":true,\"ensemble_iterations\":15,\"enable_tf\":false,\"enable_subsampling\":null,\"subsample_seed\":null,\"enable_nimbusml\":false,\"enable_streaming\":false,\"force_streaming\":false,\"track_child_runs\":true,\"allowed_private_models\":[],\"label_column_name\":\"mpg\",\"weight_column_name\":null,\"cv_split_column_names\":null,\"enable_local_managed\":false,\"cost_mode\":1,\"lag_length\":0,\"metric_operation\":\"maximize\",\"preprocess\":true}',\n",
       "  'DataPrepJsonString': None,\n",
       "  'EnableSubsampling': None,\n",
       "  'runTemplate': 'AutoML',\n",
       "  'azureml.runsource': 'automl',\n",
       "  'display_task_type': 'regression',\n",
       "  'dependencies_versions': '{\"azureml-widgets\": \"1.18.0\", \"azureml-train\": \"1.18.0\", \"azureml-train-restclients-hyperdrive\": \"1.18.0\", \"azureml-train-core\": \"1.18.0\", \"azureml-train-automl\": \"1.18.0\", \"azureml-train-automl-runtime\": \"1.18.0\", \"azureml-train-automl-client\": \"1.18.0\", \"azureml-tensorboard\": \"1.18.0\", \"azureml-telemetry\": \"1.18.0\", \"azureml-sdk\": \"1.18.0\", \"azureml-samples\": \"0+unknown\", \"azureml-pipeline\": \"1.18.0\", \"azureml-pipeline-steps\": \"1.18.0\", \"azureml-pipeline-core\": \"1.18.0\", \"azureml-opendatasets\": \"1.18.0\", \"azureml-model-management-sdk\": \"1.0.1b6.post1\", \"azureml-mlflow\": \"1.18.0\", \"azureml-interpret\": \"1.18.0\", \"azureml-explain-model\": \"1.18.0\", \"azureml-defaults\": \"1.18.0\", \"azureml-dataset-runtime\": \"1.18.0\", \"azureml-dataprep\": \"2.4.2\", \"azureml-dataprep-rslex\": \"1.2.2\", \"azureml-dataprep-native\": \"24.0.0\", \"azureml-datadrift\": \"1.18.0\", \"azureml-core\": \"1.18.0\", \"azureml-contrib-services\": \"1.18.0\", \"azureml-contrib-server\": \"1.18.0\", \"azureml-contrib-reinforcementlearning\": \"1.18.0\", \"azureml-contrib-pipeline-steps\": \"1.18.0\", \"azureml-contrib-notebook\": \"1.18.0\", \"azureml-contrib-interpret\": \"1.18.0\", \"azureml-contrib-gbdt\": \"1.18.0\", \"azureml-contrib-fairness\": \"1.18.0\", \"azureml-contrib-dataset\": \"1.18.0\", \"azureml-cli-common\": \"1.18.0\", \"azureml-automl-runtime\": \"1.18.0\", \"azureml-automl-core\": \"1.18.0\", \"azureml-accel-models\": \"1.18.0\"}',\n",
       "  '_aml_system_scenario_identification': 'Local.Parent',\n",
       "  'ClientSdkVersion': '1.18.0',\n",
       "  'ClientType': 'SDK',\n",
       "  'environment_cpu_name': 'AzureML-AutoML',\n",
       "  'environment_cpu_version': '44',\n",
       "  'environment_gpu_name': 'AzureML-AutoML-GPU',\n",
       "  'environment_gpu_version': '32',\n",
       "  'root_attribution': 'automl',\n",
       "  'attribution': 'AutoML',\n",
       "  'Orchestrator': 'AutoML',\n",
       "  '_azureml.ComputeTargetType': 'local',\n",
       "  'ProblemInfoJsonString': '{\"dataset_num_categorical\": 0, \"is_sparse\": true, \"subsampling\": false, \"dataset_classes\": 129, \"dataset_features\": 88, \"dataset_samples\": 398, \"single_frequency_class_detected\": false}',\n",
       "  'feature_skus': 'automatedml_sdk_guardrails'},\n",
       " 'inputDatasets': [],\n",
       " 'outputDatasets': [],\n",
       " 'logFiles': {}}"
      ]
     },
     "execution_count": 4,
     "metadata": {},
     "output_type": "execute_result"
    }
   ],
   "source": [
    "# TODO: Submit your experiment\n",
    "autoexp = Experiment(workspace=ws,name='AutoRanga')\n",
    "remote_run = autoexp.submit(automl_config)\n",
    "RunDetails(remote_run).show()\n",
    "remote_run.wait_for_completion(show_output=True)"
   ]
  },
  {
   "cell_type": "markdown",
   "metadata": {},
   "source": [
    "## Run Details\n",
    "\n",
    "OPTIONAL: Write about the different models trained and their performance. Why do you think some models did better than others?\n",
    "\n",
    "TODO: In the cell below, use the `RunDetails` widget to show the different experiments."
   ]
  },
  {
   "cell_type": "code",
   "execution_count": 5,
   "metadata": {
    "gather": {
     "logged": 1606488966237
    },
    "jupyter": {
     "outputs_hidden": false,
     "source_hidden": false
    },
    "nteract": {
     "transient": {
      "deleting": false
     }
    }
   },
   "outputs": [
    {
     "data": {
      "application/vnd.jupyter.widget-view+json": {
       "model_id": "8077d4db08854d17bb8cc22cd311ae91",
       "version_major": 2,
       "version_minor": 0
      },
      "text/plain": [
       "_AutoMLWidget(widget_settings={'childWidgetDisplay': 'popup', 'send_telemetry': False, 'log_level': 'INFO', 's…"
      ]
     },
     "metadata": {},
     "output_type": "display_data"
    },
    {
     "data": {
      "application/aml.mini.widget.v1": "{\"status\": \"Completed\", \"workbench_run_details_uri\": \"https://ml.azure.com/experiments/AutoRanga/runs/AutoML_4798bf11-a0a6-4219-af08-bb9b29393c00?wsid=/subscriptions/3ec87f2b-33cf-4aed-b36f-750175813524/resourcegroups/aml-quickstarts-128089/workspaces/quick-starts-ws-128089\", \"run_id\": \"AutoML_4798bf11-a0a6-4219-af08-bb9b29393c00\", \"run_properties\": {\"run_id\": \"AutoML_4798bf11-a0a6-4219-af08-bb9b29393c00\", \"created_utc\": \"2020-11-27T14:25:36.256068Z\", \"properties\": {\"num_iterations\": \"1000\", \"training_type\": \"TrainFull\", \"acquisition_function\": \"EI\", \"primary_metric\": \"r2_score\", \"train_split\": \"0\", \"acquisition_parameter\": \"0\", \"num_cross_validation\": \"3\", \"target\": \"local\", \"AMLSettingsJsonString\": \"{\\\"path\\\":null,\\\"name\\\":\\\"AutoRanga\\\",\\\"subscription_id\\\":\\\"3ec87f2b-33cf-4aed-b36f-750175813524\\\",\\\"resource_group\\\":\\\"aml-quickstarts-128089\\\",\\\"workspace_name\\\":\\\"quick-starts-ws-128089\\\",\\\"region\\\":\\\"southcentralus\\\",\\\"compute_target\\\":\\\"local\\\",\\\"spark_service\\\":null,\\\"azure_service\\\":\\\"Microsoft.AzureNotebookVM\\\",\\\"_local_managed_run_id\\\":null,\\\"many_models\\\":false,\\\"pipeline_fetch_max_batch_size\\\":1,\\\"iterations\\\":1000,\\\"primary_metric\\\":\\\"r2_score\\\",\\\"task_type\\\":\\\"regression\\\",\\\"data_script\\\":null,\\\"validation_size\\\":0.0,\\\"n_cross_validations\\\":3,\\\"y_min\\\":null,\\\"y_max\\\":null,\\\"num_classes\\\":null,\\\"featurization\\\":\\\"auto\\\",\\\"_ignore_package_version_incompatibilities\\\":false,\\\"is_timeseries\\\":false,\\\"max_cores_per_iteration\\\":1,\\\"max_concurrent_iterations\\\":1,\\\"iteration_timeout_minutes\\\":null,\\\"mem_in_mb\\\":null,\\\"enforce_time_on_windows\\\":false,\\\"experiment_timeout_minutes\\\":20,\\\"experiment_exit_score\\\":null,\\\"whitelist_models\\\":null,\\\"blacklist_algos\\\":[\\\"TensorFlowDNN\\\",\\\"TensorFlowLinearRegressor\\\"],\\\"supported_models\\\":[\\\"ElasticNet\\\",\\\"KNN\\\",\\\"DecisionTree\\\",\\\"GradientBoosting\\\",\\\"RandomForest\\\",\\\"ExtremeRandomTrees\\\",\\\"OnlineGradientDescentRegressor\\\",\\\"LassoLars\\\",\\\"TensorFlowDNN\\\",\\\"LightGBM\\\",\\\"TensorFlowLinearRegressor\\\",\\\"FastLinearRegressor\\\",\\\"SGD\\\",\\\"XGBoostRegressor\\\"],\\\"auto_blacklist\\\":true,\\\"blacklist_samples_reached\\\":false,\\\"exclude_nan_labels\\\":true,\\\"verbosity\\\":20,\\\"_debug_log\\\":\\\"automl.log\\\",\\\"show_warnings\\\":false,\\\"model_explainability\\\":true,\\\"service_url\\\":null,\\\"sdk_url\\\":null,\\\"sdk_packages\\\":null,\\\"enable_onnx_compatible_models\\\":false,\\\"enable_split_onnx_featurizer_estimator_models\\\":false,\\\"vm_type\\\":null,\\\"telemetry_verbosity\\\":20,\\\"send_telemetry\\\":true,\\\"enable_dnn\\\":false,\\\"scenario\\\":\\\"SDK-1.13.0\\\",\\\"environment_label\\\":null,\\\"force_text_dnn\\\":false,\\\"enable_feature_sweeping\\\":true,\\\"enable_early_stopping\\\":false,\\\"early_stopping_n_iters\\\":10,\\\"metrics\\\":null,\\\"enable_ensembling\\\":true,\\\"enable_stack_ensembling\\\":true,\\\"ensemble_iterations\\\":15,\\\"enable_tf\\\":false,\\\"enable_subsampling\\\":null,\\\"subsample_seed\\\":null,\\\"enable_nimbusml\\\":false,\\\"enable_streaming\\\":false,\\\"force_streaming\\\":false,\\\"track_child_runs\\\":true,\\\"allowed_private_models\\\":[],\\\"label_column_name\\\":\\\"mpg\\\",\\\"weight_column_name\\\":null,\\\"cv_split_column_names\\\":null,\\\"enable_local_managed\\\":false,\\\"cost_mode\\\":1,\\\"lag_length\\\":0,\\\"metric_operation\\\":\\\"maximize\\\",\\\"preprocess\\\":true}\", \"DataPrepJsonString\": null, \"EnableSubsampling\": null, \"runTemplate\": \"AutoML\", \"azureml.runsource\": \"automl\", \"display_task_type\": \"regression\", \"dependencies_versions\": \"{\\\"azureml-widgets\\\": \\\"1.18.0\\\", \\\"azureml-train\\\": \\\"1.18.0\\\", \\\"azureml-train-restclients-hyperdrive\\\": \\\"1.18.0\\\", \\\"azureml-train-core\\\": \\\"1.18.0\\\", \\\"azureml-train-automl\\\": \\\"1.18.0\\\", \\\"azureml-train-automl-runtime\\\": \\\"1.18.0\\\", \\\"azureml-train-automl-client\\\": \\\"1.18.0\\\", \\\"azureml-tensorboard\\\": \\\"1.18.0\\\", \\\"azureml-telemetry\\\": \\\"1.18.0\\\", \\\"azureml-sdk\\\": \\\"1.18.0\\\", \\\"azureml-samples\\\": \\\"0+unknown\\\", \\\"azureml-pipeline\\\": \\\"1.18.0\\\", \\\"azureml-pipeline-steps\\\": \\\"1.18.0\\\", \\\"azureml-pipeline-core\\\": \\\"1.18.0\\\", \\\"azureml-opendatasets\\\": \\\"1.18.0\\\", \\\"azureml-model-management-sdk\\\": \\\"1.0.1b6.post1\\\", \\\"azureml-mlflow\\\": \\\"1.18.0\\\", \\\"azureml-interpret\\\": \\\"1.18.0\\\", \\\"azureml-explain-model\\\": \\\"1.18.0\\\", \\\"azureml-defaults\\\": \\\"1.18.0\\\", \\\"azureml-dataset-runtime\\\": \\\"1.18.0\\\", \\\"azureml-dataprep\\\": \\\"2.4.2\\\", \\\"azureml-dataprep-rslex\\\": \\\"1.2.2\\\", \\\"azureml-dataprep-native\\\": \\\"24.0.0\\\", \\\"azureml-datadrift\\\": \\\"1.18.0\\\", \\\"azureml-core\\\": \\\"1.18.0\\\", \\\"azureml-contrib-services\\\": \\\"1.18.0\\\", \\\"azureml-contrib-server\\\": \\\"1.18.0\\\", \\\"azureml-contrib-reinforcementlearning\\\": \\\"1.18.0\\\", \\\"azureml-contrib-pipeline-steps\\\": \\\"1.18.0\\\", \\\"azureml-contrib-notebook\\\": \\\"1.18.0\\\", \\\"azureml-contrib-interpret\\\": \\\"1.18.0\\\", \\\"azureml-contrib-gbdt\\\": \\\"1.18.0\\\", \\\"azureml-contrib-fairness\\\": \\\"1.18.0\\\", \\\"azureml-contrib-dataset\\\": \\\"1.18.0\\\", \\\"azureml-cli-common\\\": \\\"1.18.0\\\", \\\"azureml-automl-runtime\\\": \\\"1.18.0\\\", \\\"azureml-automl-core\\\": \\\"1.18.0\\\", \\\"azureml-accel-models\\\": \\\"1.18.0\\\"}\", \"_aml_system_scenario_identification\": \"Local.Parent\", \"ClientSdkVersion\": \"1.18.0\", \"ClientType\": \"SDK\", \"environment_cpu_name\": \"AzureML-AutoML\", \"environment_cpu_version\": \"44\", \"environment_gpu_name\": \"AzureML-AutoML-GPU\", \"environment_gpu_version\": \"32\", \"root_attribution\": \"automl\", \"attribution\": \"AutoML\", \"Orchestrator\": \"AutoML\", \"_azureml.ComputeTargetType\": \"local\", \"ProblemInfoJsonString\": \"{\\\"dataset_num_categorical\\\": 0, \\\"is_sparse\\\": true, \\\"subsampling\\\": false, \\\"dataset_classes\\\": 129, \\\"dataset_features\\\": 88, \\\"dataset_samples\\\": 398, \\\"single_frequency_class_detected\\\": false}\", \"feature_skus\": \"automatedml_sdk_guardrails\"}, \"tags\": {\"model_explain_run\": \"best_run\", \"best_score\": \"0.864014240072818\", \"best_pipeline\": \"VotingEnsemble\", \"automl_best_child_run_id\": \"AutoML_4798bf11-a0a6-4219-af08-bb9b29393c00_43\", \"model_explain_best_run_child_id\": \"AutoML_4798bf11-a0a6-4219-af08-bb9b29393c00_43\"}, \"end_time_utc\": \"2020-11-27T14:47:08.702042Z\", \"status\": \"Completed\", \"log_files\": {}, \"log_groups\": [], \"run_duration\": \"0:21:32\"}, \"child_runs\": [{\"run_id\": \"AutoML_4798bf11-a0a6-4219-af08-bb9b29393c00_0\", \"run_number\": 2, \"metric\": null, \"status\": \"Completed\", \"run_type\": null, \"training_percent\": \"100\", \"start_time\": \"2020-11-27T14:25:48.164959Z\", \"end_time\": \"2020-11-27T14:26:21.712987Z\", \"created_time\": \"2020-11-27T14:25:47.615793Z\", \"created_time_dt\": \"2020-11-27T14:25:47.615793Z\", \"duration\": \"0:00:34\", \"iteration\": \"0\", \"goal\": \"r2_score_max\", \"run_name\": \"MaxAbsScaler, LightGBM\", \"run_properties\": \"copy=True\", \"primary_metric\": 0.78217139, \"best_metric\": 0.78217139}, {\"run_id\": \"AutoML_4798bf11-a0a6-4219-af08-bb9b29393c00_1\", \"run_number\": 3, \"metric\": null, \"status\": \"Completed\", \"run_type\": null, \"training_percent\": \"100\", \"start_time\": \"2020-11-27T14:26:22.95936Z\", \"end_time\": \"2020-11-27T14:26:49.176443Z\", \"created_time\": \"2020-11-27T14:26:22.567535Z\", \"created_time_dt\": \"2020-11-27T14:26:22.567535Z\", \"duration\": \"0:00:26\", \"iteration\": \"1\", \"goal\": \"r2_score_max\", \"run_name\": \"MaxAbsScaler, XGBoostRegressor\", \"run_properties\": \"copy=True\", \"primary_metric\": 0.81921595, \"best_metric\": 0.81921595}, {\"run_id\": \"AutoML_4798bf11-a0a6-4219-af08-bb9b29393c00_2\", \"run_number\": 4, \"metric\": null, \"status\": \"Completed\", \"run_type\": null, \"training_percent\": \"100\", \"start_time\": \"2020-11-27T14:26:49.953265Z\", \"end_time\": \"2020-11-27T14:27:16.296793Z\", \"created_time\": \"2020-11-27T14:26:49.836159Z\", \"created_time_dt\": \"2020-11-27T14:26:49.836159Z\", \"duration\": \"0:00:26\", \"iteration\": \"2\", \"goal\": \"r2_score_max\", \"run_name\": \"StandardScalerWrapper, XGBoostRegressor\", \"run_properties\": \"<azureml.automl.runtime.shared.model_wrappers.StandardScalerWrapper object at 0x7f9f8e8dfba8\", \"primary_metric\": 0.83083074, \"best_metric\": 0.83083074}, {\"run_id\": \"AutoML_4798bf11-a0a6-4219-af08-bb9b29393c00_3\", \"run_number\": 5, \"metric\": null, \"status\": \"Completed\", \"run_type\": null, \"training_percent\": \"100\", \"start_time\": \"2020-11-27T14:27:18.022328Z\", \"end_time\": \"2020-11-27T14:27:44.183192Z\", \"created_time\": \"2020-11-27T14:27:17.911873Z\", \"created_time_dt\": \"2020-11-27T14:27:17.911873Z\", \"duration\": \"0:00:26\", \"iteration\": \"3\", \"goal\": \"r2_score_max\", \"run_name\": \"StandardScalerWrapper, RandomForest\", \"run_properties\": \"<azureml.automl.runtime.shared.model_wrappers.StandardScalerWrapper object at 0x7f9f97a3c828\", \"primary_metric\": 0.80070244, \"best_metric\": 0.83083074}, {\"run_id\": \"AutoML_4798bf11-a0a6-4219-af08-bb9b29393c00_4\", \"run_number\": 6, \"metric\": null, \"status\": \"Completed\", \"run_type\": null, \"training_percent\": \"100\", \"start_time\": \"2020-11-27T14:27:46.263707Z\", \"end_time\": \"2020-11-27T14:28:16.630824Z\", \"created_time\": \"2020-11-27T14:27:45.978903Z\", \"created_time_dt\": \"2020-11-27T14:27:45.978903Z\", \"duration\": \"0:00:30\", \"iteration\": \"4\", \"goal\": \"r2_score_max\", \"run_name\": \"MaxAbsScaler, ExtremeRandomTrees\", \"run_properties\": \"copy=True\", \"primary_metric\": 0.80928332, \"best_metric\": 0.83083074}, {\"run_id\": \"AutoML_4798bf11-a0a6-4219-af08-bb9b29393c00_5\", \"run_number\": 7, \"metric\": null, \"status\": \"Completed\", \"run_type\": null, \"training_percent\": \"100\", \"start_time\": \"2020-11-27T14:28:18.186232Z\", \"end_time\": \"2020-11-27T14:28:42.07099Z\", \"created_time\": \"2020-11-27T14:28:18.076065Z\", \"created_time_dt\": \"2020-11-27T14:28:18.076065Z\", \"duration\": \"0:00:23\", \"iteration\": \"5\", \"goal\": \"r2_score_max\", \"run_name\": \"MaxAbsScaler, ElasticNet\", \"run_properties\": \"copy=True\", \"primary_metric\": 0.84239017, \"best_metric\": 0.84239017}, {\"run_id\": \"AutoML_4798bf11-a0a6-4219-af08-bb9b29393c00_6\", \"run_number\": 8, \"metric\": null, \"status\": \"Completed\", \"run_type\": null, \"training_percent\": \"100\", \"start_time\": \"2020-11-27T14:28:43.639559Z\", \"end_time\": \"2020-11-27T14:29:08.198511Z\", \"created_time\": \"2020-11-27T14:28:43.506278Z\", \"created_time_dt\": \"2020-11-27T14:28:43.506278Z\", \"duration\": \"0:00:24\", \"iteration\": \"6\", \"goal\": \"r2_score_max\", \"run_name\": \"StandardScalerWrapper, XGBoostRegressor\", \"run_properties\": \"<azureml.automl.runtime.shared.model_wrappers.StandardScalerWrapper object at 0x7f9f96932710\", \"primary_metric\": 0.82247675, \"best_metric\": 0.84239017}, {\"run_id\": \"AutoML_4798bf11-a0a6-4219-af08-bb9b29393c00_7\", \"run_number\": 9, \"metric\": null, \"status\": \"Completed\", \"run_type\": null, \"training_percent\": \"100\", \"start_time\": \"2020-11-27T14:29:10.495729Z\", \"end_time\": \"2020-11-27T14:29:35.206484Z\", \"created_time\": \"2020-11-27T14:29:10.197491Z\", \"created_time_dt\": \"2020-11-27T14:29:10.197491Z\", \"duration\": \"0:00:25\", \"iteration\": \"7\", \"goal\": \"r2_score_max\", \"run_name\": \"MaxAbsScaler, RandomForest\", \"run_properties\": \"copy=True\", \"primary_metric\": 0.71605361, \"best_metric\": 0.84239017}, {\"run_id\": \"AutoML_4798bf11-a0a6-4219-af08-bb9b29393c00_8\", \"run_number\": 10, \"metric\": null, \"status\": \"Completed\", \"run_type\": null, \"training_percent\": \"100\", \"start_time\": \"2020-11-27T14:29:37.076841Z\", \"end_time\": \"2020-11-27T14:30:01.346735Z\", \"created_time\": \"2020-11-27T14:29:36.912849Z\", \"created_time_dt\": \"2020-11-27T14:29:36.912849Z\", \"duration\": \"0:00:24\", \"iteration\": \"8\", \"goal\": \"r2_score_max\", \"run_name\": \"MaxAbsScaler, ExtremeRandomTrees\", \"run_properties\": \"copy=True\", \"primary_metric\": 0.82669785, \"best_metric\": 0.84239017}, {\"run_id\": \"AutoML_4798bf11-a0a6-4219-af08-bb9b29393c00_9\", \"run_number\": 11, \"metric\": null, \"status\": \"Completed\", \"run_type\": null, \"training_percent\": \"100\", \"start_time\": \"2020-11-27T14:30:03.460764Z\", \"end_time\": \"2020-11-27T14:30:28.55671Z\", \"created_time\": \"2020-11-27T14:30:03.155864Z\", \"created_time_dt\": \"2020-11-27T14:30:03.155864Z\", \"duration\": \"0:00:25\", \"iteration\": \"9\", \"goal\": \"r2_score_max\", \"run_name\": \"SparseNormalizer, RandomForest\", \"run_properties\": \"<azureml.automl.runtime.shared.model_wrappers.SparseNormalizer object at 0x7f9f9688c630\", \"primary_metric\": 0.80380977, \"best_metric\": 0.84239017}, {\"run_id\": \"AutoML_4798bf11-a0a6-4219-af08-bb9b29393c00_10\", \"run_number\": 12, \"metric\": null, \"status\": \"Completed\", \"run_type\": null, \"training_percent\": \"100\", \"start_time\": \"2020-11-27T14:30:30.273303Z\", \"end_time\": \"2020-11-27T14:30:55.176682Z\", \"created_time\": \"2020-11-27T14:30:30.162844Z\", \"created_time_dt\": \"2020-11-27T14:30:30.162844Z\", \"duration\": \"0:00:25\", \"iteration\": \"10\", \"goal\": \"r2_score_max\", \"run_name\": \"StandardScalerWrapper, ElasticNet\", \"run_properties\": \"<azureml.automl.runtime.shared.model_wrappers.StandardScalerWrapper object at 0x7f9f96828128\", \"primary_metric\": 0.74624346, \"best_metric\": 0.84239017}, {\"run_id\": \"AutoML_4798bf11-a0a6-4219-af08-bb9b29393c00_11\", \"run_number\": 13, \"metric\": null, \"status\": \"Completed\", \"run_type\": null, \"training_percent\": \"100\", \"start_time\": \"2020-11-27T14:30:57.024728Z\", \"end_time\": \"2020-11-27T14:31:21.636894Z\", \"created_time\": \"2020-11-27T14:30:56.90706Z\", \"created_time_dt\": \"2020-11-27T14:30:56.90706Z\", \"duration\": \"0:00:24\", \"iteration\": \"11\", \"goal\": \"r2_score_max\", \"run_name\": \"StandardScalerWrapper, RandomForest\", \"run_properties\": \"<azureml.automl.runtime.shared.model_wrappers.StandardScalerWrapper object at 0x7f9f96559128\", \"primary_metric\": 0.77140672, \"best_metric\": 0.84239017}, {\"run_id\": \"AutoML_4798bf11-a0a6-4219-af08-bb9b29393c00_12\", \"run_number\": 14, \"metric\": null, \"status\": \"Completed\", \"run_type\": null, \"training_percent\": \"100\", \"start_time\": \"2020-11-27T14:31:23.281054Z\", \"end_time\": \"2020-11-27T14:31:49.813927Z\", \"created_time\": \"2020-11-27T14:31:23.159095Z\", \"created_time_dt\": \"2020-11-27T14:31:23.159095Z\", \"duration\": \"0:00:26\", \"iteration\": \"12\", \"goal\": \"r2_score_max\", \"run_name\": \"MaxAbsScaler, ExtremeRandomTrees\", \"run_properties\": \"copy=True\", \"primary_metric\": 0.81861954, \"best_metric\": 0.84239017}, {\"run_id\": \"AutoML_4798bf11-a0a6-4219-af08-bb9b29393c00_13\", \"run_number\": 15, \"metric\": null, \"status\": \"Completed\", \"run_type\": null, \"training_percent\": \"100\", \"start_time\": \"2020-11-27T14:31:51.662191Z\", \"end_time\": \"2020-11-27T14:32:22.305695Z\", \"created_time\": \"2020-11-27T14:31:51.493364Z\", \"created_time_dt\": \"2020-11-27T14:31:51.493364Z\", \"duration\": \"0:00:30\", \"iteration\": \"13\", \"goal\": \"r2_score_max\", \"run_name\": \"MaxAbsScaler, ExtremeRandomTrees\", \"run_properties\": \"copy=True\", \"primary_metric\": 0.84002629, \"best_metric\": 0.84239017}, {\"run_id\": \"AutoML_4798bf11-a0a6-4219-af08-bb9b29393c00_14\", \"run_number\": 16, \"metric\": null, \"status\": \"Completed\", \"run_type\": null, \"training_percent\": \"100\", \"start_time\": \"2020-11-27T14:32:24.255881Z\", \"end_time\": \"2020-11-27T14:32:48.952794Z\", \"created_time\": \"2020-11-27T14:32:24.110757Z\", \"created_time_dt\": \"2020-11-27T14:32:24.110757Z\", \"duration\": \"0:00:24\", \"iteration\": \"14\", \"goal\": \"r2_score_max\", \"run_name\": \"StandardScalerWrapper, XGBoostRegressor\", \"run_properties\": \"<azureml.automl.runtime.shared.model_wrappers.StandardScalerWrapper object at 0x7f9f967046d8\", \"primary_metric\": 0.81250135, \"best_metric\": 0.84239017}, {\"run_id\": \"AutoML_4798bf11-a0a6-4219-af08-bb9b29393c00_15\", \"run_number\": 17, \"metric\": null, \"status\": \"Completed\", \"run_type\": null, \"training_percent\": \"100\", \"start_time\": \"2020-11-27T14:32:50.375001Z\", \"end_time\": \"2020-11-27T14:33:13.714245Z\", \"created_time\": \"2020-11-27T14:32:50.260485Z\", \"created_time_dt\": \"2020-11-27T14:32:50.260485Z\", \"duration\": \"0:00:23\", \"iteration\": \"15\", \"goal\": \"r2_score_max\", \"run_name\": \"StandardScalerWrapper, XGBoostRegressor\", \"run_properties\": \"<azureml.automl.runtime.shared.model_wrappers.StandardScalerWrapper object at 0x7f9f96358438\", \"primary_metric\": 0.70523389, \"best_metric\": 0.84239017}, {\"run_id\": \"AutoML_4798bf11-a0a6-4219-af08-bb9b29393c00_16\", \"run_number\": 18, \"metric\": null, \"status\": \"Completed\", \"run_type\": null, \"training_percent\": \"100\", \"start_time\": \"2020-11-27T14:33:15.362279Z\", \"end_time\": \"2020-11-27T14:33:40.402653Z\", \"created_time\": \"2020-11-27T14:33:15.238039Z\", \"created_time_dt\": \"2020-11-27T14:33:15.238039Z\", \"duration\": \"0:00:25\", \"iteration\": \"16\", \"goal\": \"r2_score_max\", \"run_name\": \"MaxAbsScaler, RandomForest\", \"run_properties\": \"copy=True\", \"primary_metric\": 0.80453582, \"best_metric\": 0.84239017}, {\"run_id\": \"AutoML_4798bf11-a0a6-4219-af08-bb9b29393c00_17\", \"run_number\": 19, \"metric\": null, \"status\": \"Completed\", \"run_type\": null, \"training_percent\": \"100\", \"start_time\": \"2020-11-27T14:33:42.060738Z\", \"end_time\": \"2020-11-27T14:34:05.329561Z\", \"created_time\": \"2020-11-27T14:33:41.950743Z\", \"created_time_dt\": \"2020-11-27T14:33:41.950743Z\", \"duration\": \"0:00:23\", \"iteration\": \"17\", \"goal\": \"r2_score_max\", \"run_name\": \"StandardScalerWrapper, DecisionTree\", \"run_properties\": \"<azureml.automl.runtime.shared.model_wrappers.StandardScalerWrapper object at 0x7f9f9647f860\", \"primary_metric\": 0.66920993, \"best_metric\": 0.84239017}, {\"run_id\": \"AutoML_4798bf11-a0a6-4219-af08-bb9b29393c00_18\", \"run_number\": 20, \"metric\": null, \"status\": \"Completed\", \"run_type\": null, \"training_percent\": \"100\", \"start_time\": \"2020-11-27T14:34:09.020441Z\", \"end_time\": \"2020-11-27T14:34:33.284243Z\", \"created_time\": \"2020-11-27T14:34:08.918636Z\", \"created_time_dt\": \"2020-11-27T14:34:08.918636Z\", \"duration\": \"0:00:24\", \"iteration\": \"18\", \"goal\": \"r2_score_max\", \"run_name\": \"MaxAbsScaler, SGD\", \"run_properties\": \"copy=True\", \"primary_metric\": 0.77357938, \"best_metric\": 0.84239017}, {\"run_id\": \"AutoML_4798bf11-a0a6-4219-af08-bb9b29393c00_19\", \"run_number\": 21, \"metric\": null, \"status\": \"Completed\", \"run_type\": null, \"training_percent\": \"100\", \"start_time\": \"2020-11-27T14:34:35.000649Z\", \"end_time\": \"2020-11-27T14:35:00.455845Z\", \"created_time\": \"2020-11-27T14:34:34.86203Z\", \"created_time_dt\": \"2020-11-27T14:34:34.86203Z\", \"duration\": \"0:00:25\", \"iteration\": \"19\", \"goal\": \"r2_score_max\", \"run_name\": \"MaxAbsScaler, LightGBM\", \"run_properties\": \"copy=True\", \"primary_metric\": 0.77250211, \"best_metric\": 0.84239017}, {\"run_id\": \"AutoML_4798bf11-a0a6-4219-af08-bb9b29393c00_20\", \"run_number\": 22, \"metric\": null, \"status\": \"Completed\", \"run_type\": null, \"training_percent\": \"100\", \"start_time\": \"2020-11-27T14:35:02.189281Z\", \"end_time\": \"2020-11-27T14:35:25.424521Z\", \"created_time\": \"2020-11-27T14:35:02.064736Z\", \"created_time_dt\": \"2020-11-27T14:35:02.064736Z\", \"duration\": \"0:00:23\", \"iteration\": \"20\", \"goal\": \"r2_score_max\", \"run_name\": \"MaxAbsScaler, SGD\", \"run_properties\": \"copy=True\", \"primary_metric\": 0.79629076, \"best_metric\": 0.84239017}, {\"run_id\": \"AutoML_4798bf11-a0a6-4219-af08-bb9b29393c00_21\", \"run_number\": 23, \"metric\": null, \"status\": \"Completed\", \"run_type\": null, \"training_percent\": \"100\", \"start_time\": \"2020-11-27T14:35:26.990657Z\", \"end_time\": \"2020-11-27T14:35:54.15589Z\", \"created_time\": \"2020-11-27T14:35:26.876107Z\", \"created_time_dt\": \"2020-11-27T14:35:26.876107Z\", \"duration\": \"0:00:27\", \"iteration\": \"21\", \"goal\": \"r2_score_max\", \"run_name\": \"MaxAbsScaler, ExtremeRandomTrees\", \"run_properties\": \"copy=True\", \"primary_metric\": 0.81999318, \"best_metric\": 0.84239017}, {\"run_id\": \"AutoML_4798bf11-a0a6-4219-af08-bb9b29393c00_22\", \"run_number\": 24, \"metric\": null, \"status\": \"Completed\", \"run_type\": null, \"training_percent\": \"100\", \"start_time\": \"2020-11-27T14:35:55.530427Z\", \"end_time\": \"2020-11-27T14:36:23.009985Z\", \"created_time\": \"2020-11-27T14:35:55.425824Z\", \"created_time_dt\": \"2020-11-27T14:35:55.425824Z\", \"duration\": \"0:00:27\", \"iteration\": \"22\", \"goal\": \"r2_score_max\", \"run_name\": \"MaxAbsScaler, SGD\", \"run_properties\": \"copy=True\", \"primary_metric\": 0.60114055, \"best_metric\": 0.84239017}, {\"run_id\": \"AutoML_4798bf11-a0a6-4219-af08-bb9b29393c00_23\", \"run_number\": 25, \"metric\": null, \"status\": \"Completed\", \"run_type\": null, \"training_percent\": \"100\", \"start_time\": \"2020-11-27T14:36:24.446328Z\", \"end_time\": \"2020-11-27T14:36:51.152412Z\", \"created_time\": \"2020-11-27T14:36:24.34532Z\", \"created_time_dt\": \"2020-11-27T14:36:24.34532Z\", \"duration\": \"0:00:26\", \"iteration\": \"23\", \"goal\": \"r2_score_max\", \"run_name\": \"MaxAbsScaler, RandomForest\", \"run_properties\": \"copy=True\", \"primary_metric\": 0.80260637, \"best_metric\": 0.84239017}, {\"run_id\": \"AutoML_4798bf11-a0a6-4219-af08-bb9b29393c00_24\", \"run_number\": 26, \"metric\": null, \"status\": \"Completed\", \"run_type\": null, \"training_percent\": \"100\", \"start_time\": \"2020-11-27T14:36:52.597763Z\", \"end_time\": \"2020-11-27T14:37:17.356554Z\", \"created_time\": \"2020-11-27T14:36:52.475769Z\", \"created_time_dt\": \"2020-11-27T14:36:52.475769Z\", \"duration\": \"0:00:24\", \"iteration\": \"24\", \"goal\": \"r2_score_max\", \"run_name\": \"MaxAbsScaler, SGD\", \"run_properties\": \"copy=True\", \"primary_metric\": 0.79371796, \"best_metric\": 0.84239017}, {\"run_id\": \"AutoML_4798bf11-a0a6-4219-af08-bb9b29393c00_25\", \"run_number\": 27, \"metric\": null, \"status\": \"Completed\", \"run_type\": null, \"training_percent\": \"100\", \"start_time\": \"2020-11-27T14:37:20.177317Z\", \"end_time\": \"2020-11-27T14:37:45.343963Z\", \"created_time\": \"2020-11-27T14:37:20.069818Z\", \"created_time_dt\": \"2020-11-27T14:37:20.069818Z\", \"duration\": \"0:00:25\", \"iteration\": \"25\", \"goal\": \"r2_score_max\", \"run_name\": \"TruncatedSVDWrapper, ElasticNet\", \"run_properties\": \"n_components=0.8015789473684211, random_state=None\", \"primary_metric\": 0.8439703, \"best_metric\": 0.8439703}, {\"run_id\": \"AutoML_4798bf11-a0a6-4219-af08-bb9b29393c00_26\", \"run_number\": 28, \"metric\": null, \"status\": \"Completed\", \"run_type\": null, \"training_percent\": \"100\", \"start_time\": \"2020-11-27T14:37:46.909665Z\", \"end_time\": \"2020-11-27T14:38:12.403363Z\", \"created_time\": \"2020-11-27T14:37:46.788781Z\", \"created_time_dt\": \"2020-11-27T14:37:46.788781Z\", \"duration\": \"0:00:25\", \"iteration\": \"26\", \"goal\": \"r2_score_max\", \"run_name\": \"StandardScalerWrapper, DecisionTree\", \"run_properties\": \"<azureml.automl.runtime.shared.model_wrappers.StandardScalerWrapper object at 0x7f9f962d8d68\", \"primary_metric\": 0.67282516, \"best_metric\": 0.8439703}, {\"run_id\": \"AutoML_4798bf11-a0a6-4219-af08-bb9b29393c00_27\", \"run_number\": 29, \"metric\": null, \"status\": \"Completed\", \"run_type\": null, \"training_percent\": \"100\", \"start_time\": \"2020-11-27T14:38:13.76884Z\", \"end_time\": \"2020-11-27T14:38:39.484041Z\", \"created_time\": \"2020-11-27T14:38:13.659934Z\", \"created_time_dt\": \"2020-11-27T14:38:13.659934Z\", \"duration\": \"0:00:25\", \"iteration\": \"27\", \"goal\": \"r2_score_max\", \"run_name\": \"SparseNormalizer, XGBoostRegressor\", \"run_properties\": \"<azureml.automl.runtime.shared.model_wrappers.SparseNormalizer object at 0x7f9f967ed0f0\", \"primary_metric\": 0.82832707, \"best_metric\": 0.8439703}, {\"run_id\": \"AutoML_4798bf11-a0a6-4219-af08-bb9b29393c00_28\", \"run_number\": 30, \"metric\": null, \"status\": \"Completed\", \"run_type\": null, \"training_percent\": \"100\", \"start_time\": \"2020-11-27T14:38:41.026511Z\", \"end_time\": \"2020-11-27T14:39:13.510789Z\", \"created_time\": \"2020-11-27T14:38:40.925598Z\", \"created_time_dt\": \"2020-11-27T14:38:40.925598Z\", \"duration\": \"0:00:32\", \"iteration\": \"28\", \"goal\": \"r2_score_max\", \"run_name\": \"MaxAbsScaler, ExtremeRandomTrees\", \"run_properties\": \"copy=True\", \"primary_metric\": 0.75016499, \"best_metric\": 0.8439703}, {\"run_id\": \"AutoML_4798bf11-a0a6-4219-af08-bb9b29393c00_29\", \"run_number\": 31, \"metric\": null, \"status\": \"Completed\", \"run_type\": null, \"training_percent\": \"100\", \"start_time\": \"2020-11-27T14:39:14.873268Z\", \"end_time\": \"2020-11-27T14:39:39.121946Z\", \"created_time\": \"2020-11-27T14:39:14.76492Z\", \"created_time_dt\": \"2020-11-27T14:39:14.76492Z\", \"duration\": \"0:00:24\", \"iteration\": \"29\", \"goal\": \"r2_score_max\", \"run_name\": \"MaxAbsScaler, SGD\", \"run_properties\": \"copy=True\", \"primary_metric\": 0.8175719, \"best_metric\": 0.8439703}, {\"run_id\": \"AutoML_4798bf11-a0a6-4219-af08-bb9b29393c00_30\", \"run_number\": 32, \"metric\": null, \"status\": \"Completed\", \"run_type\": null, \"training_percent\": \"100\", \"start_time\": \"2020-11-27T14:39:41.423199Z\", \"end_time\": \"2020-11-27T14:40:09.557889Z\", \"created_time\": \"2020-11-27T14:39:41.28686Z\", \"created_time_dt\": \"2020-11-27T14:39:41.28686Z\", \"duration\": \"0:00:28\", \"iteration\": \"30\", \"goal\": \"r2_score_max\", \"run_name\": \"TruncatedSVDWrapper, ElasticNet\", \"run_properties\": \"n_components=0.6036842105263158, random_state=None\", \"primary_metric\": 0.76347815, \"best_metric\": 0.8439703}, {\"run_id\": \"AutoML_4798bf11-a0a6-4219-af08-bb9b29393c00_31\", \"run_number\": 33, \"metric\": null, \"status\": \"Completed\", \"run_type\": null, \"training_percent\": \"100\", \"start_time\": \"2020-11-27T14:40:11.022015Z\", \"end_time\": \"2020-11-27T14:40:42.980744Z\", \"created_time\": \"2020-11-27T14:40:10.890708Z\", \"created_time_dt\": \"2020-11-27T14:40:10.890708Z\", \"duration\": \"0:00:32\", \"iteration\": \"31\", \"goal\": \"r2_score_max\", \"run_name\": \"MaxAbsScaler, ExtremeRandomTrees\", \"run_properties\": \"copy=True\", \"primary_metric\": 0.83011089, \"best_metric\": 0.8439703}, {\"run_id\": \"AutoML_4798bf11-a0a6-4219-af08-bb9b29393c00_32\", \"run_number\": 34, \"metric\": null, \"status\": \"Completed\", \"run_type\": null, \"training_percent\": \"100\", \"start_time\": \"2020-11-27T14:40:44.395023Z\", \"end_time\": \"2020-11-27T14:41:09.112238Z\", \"created_time\": \"2020-11-27T14:40:44.286065Z\", \"created_time_dt\": \"2020-11-27T14:40:44.286065Z\", \"duration\": \"0:00:24\", \"iteration\": \"32\", \"goal\": \"r2_score_max\", \"run_name\": \"MaxAbsScaler, ExtremeRandomTrees\", \"run_properties\": \"copy=True\", \"primary_metric\": 0.80677271, \"best_metric\": 0.8439703}, {\"run_id\": \"AutoML_4798bf11-a0a6-4219-af08-bb9b29393c00_33\", \"run_number\": 35, \"metric\": null, \"status\": \"Completed\", \"run_type\": null, \"training_percent\": \"100\", \"start_time\": \"2020-11-27T14:41:10.471282Z\", \"end_time\": \"2020-11-27T14:41:39.297868Z\", \"created_time\": \"2020-11-27T14:41:10.359747Z\", \"created_time_dt\": \"2020-11-27T14:41:10.359747Z\", \"duration\": \"0:00:28\", \"iteration\": \"33\", \"goal\": \"r2_score_max\", \"run_name\": \"MaxAbsScaler, ExtremeRandomTrees\", \"run_properties\": \"copy=True\", \"primary_metric\": 0.82933575, \"best_metric\": 0.8439703}, {\"run_id\": \"AutoML_4798bf11-a0a6-4219-af08-bb9b29393c00_34\", \"run_number\": 36, \"metric\": null, \"status\": \"Completed\", \"run_type\": null, \"training_percent\": \"100\", \"start_time\": \"2020-11-27T14:41:40.708233Z\", \"end_time\": \"2020-11-27T14:42:05.442389Z\", \"created_time\": \"2020-11-27T14:41:40.596283Z\", \"created_time_dt\": \"2020-11-27T14:41:40.596283Z\", \"duration\": \"0:00:24\", \"iteration\": \"34\", \"goal\": \"r2_score_max\", \"run_name\": \"MaxAbsScaler, ExtremeRandomTrees\", \"run_properties\": \"copy=True\", \"primary_metric\": 0.81625192, \"best_metric\": 0.8439703}, {\"run_id\": \"AutoML_4798bf11-a0a6-4219-af08-bb9b29393c00_35\", \"run_number\": 37, \"metric\": null, \"status\": \"Completed\", \"run_type\": null, \"training_percent\": \"100\", \"start_time\": \"2020-11-27T14:42:07.830508Z\", \"end_time\": \"2020-11-27T14:42:32.730935Z\", \"created_time\": \"2020-11-27T14:42:07.684229Z\", \"created_time_dt\": \"2020-11-27T14:42:07.684229Z\", \"duration\": \"0:00:25\", \"iteration\": \"35\", \"goal\": \"r2_score_max\", \"run_name\": \"TruncatedSVDWrapper, ElasticNet\", \"run_properties\": \"n_components=0.6531578947368422, random_state=None\", \"primary_metric\": 0.69303924, \"best_metric\": 0.8439703}, {\"run_id\": \"AutoML_4798bf11-a0a6-4219-af08-bb9b29393c00_36\", \"run_number\": 38, \"metric\": null, \"status\": \"Completed\", \"run_type\": null, \"training_percent\": \"100\", \"start_time\": \"2020-11-27T14:42:34.976521Z\", \"end_time\": \"2020-11-27T14:43:01.199952Z\", \"created_time\": \"2020-11-27T14:42:34.864316Z\", \"created_time_dt\": \"2020-11-27T14:42:34.864316Z\", \"duration\": \"0:00:26\", \"iteration\": \"36\", \"goal\": \"r2_score_max\", \"run_name\": \"MaxAbsScaler, RandomForest\", \"run_properties\": \"copy=True\", \"primary_metric\": 0.81677324, \"best_metric\": 0.8439703}, {\"run_id\": \"AutoML_4798bf11-a0a6-4219-af08-bb9b29393c00_37\", \"run_number\": 39, \"metric\": null, \"status\": \"Completed\", \"run_type\": null, \"training_percent\": \"100\", \"start_time\": \"2020-11-27T14:43:02.638973Z\", \"end_time\": \"2020-11-27T14:43:26.968105Z\", \"created_time\": \"2020-11-27T14:43:02.516653Z\", \"created_time_dt\": \"2020-11-27T14:43:02.516653Z\", \"duration\": \"0:00:24\", \"iteration\": \"37\", \"goal\": \"r2_score_max\", \"run_name\": \"MaxAbsScaler, ExtremeRandomTrees\", \"run_properties\": \"copy=True\", \"primary_metric\": 0.75379703, \"best_metric\": 0.8439703}, {\"run_id\": \"AutoML_4798bf11-a0a6-4219-af08-bb9b29393c00_38\", \"run_number\": 40, \"metric\": null, \"status\": \"Completed\", \"run_type\": null, \"training_percent\": \"100\", \"start_time\": \"2020-11-27T14:43:29.816509Z\", \"end_time\": \"2020-11-27T14:44:00.580469Z\", \"created_time\": \"2020-11-27T14:43:29.296824Z\", \"created_time_dt\": \"2020-11-27T14:43:29.296824Z\", \"duration\": \"0:00:31\", \"iteration\": \"38\", \"goal\": \"r2_score_max\", \"run_name\": \"SparseNormalizer, XGBoostRegressor\", \"run_properties\": \"<azureml.automl.runtime.shared.model_wrappers.SparseNormalizer object at 0x7f9f737b3438\", \"primary_metric\": 0.82902109, \"best_metric\": 0.8439703}, {\"run_id\": \"AutoML_4798bf11-a0a6-4219-af08-bb9b29393c00_39\", \"run_number\": 41, \"metric\": null, \"status\": \"Completed\", \"run_type\": null, \"training_percent\": \"100\", \"start_time\": \"2020-11-27T14:44:03.153812Z\", \"end_time\": \"2020-11-27T14:44:32.739473Z\", \"created_time\": \"2020-11-27T14:44:02.694071Z\", \"created_time_dt\": \"2020-11-27T14:44:02.694071Z\", \"duration\": \"0:00:30\", \"iteration\": \"39\", \"goal\": \"r2_score_max\", \"run_name\": \"SparseNormalizer, LightGBM\", \"run_properties\": \"<azureml.automl.runtime.shared.model_wrappers.SparseNormalizer object at 0x7f9f966f1320\", \"primary_metric\": 0.77961653, \"best_metric\": 0.8439703}, {\"run_id\": \"AutoML_4798bf11-a0a6-4219-af08-bb9b29393c00_40\", \"run_number\": 42, \"metric\": null, \"status\": \"Completed\", \"run_type\": null, \"training_percent\": \"100\", \"start_time\": \"2020-11-27T14:44:35.252068Z\", \"end_time\": \"2020-11-27T14:45:00.245698Z\", \"created_time\": \"2020-11-27T14:44:35.105626Z\", \"created_time_dt\": \"2020-11-27T14:44:35.105626Z\", \"duration\": \"0:00:25\", \"iteration\": \"40\", \"goal\": \"r2_score_max\", \"run_name\": \"TruncatedSVDWrapper, ElasticNet\", \"run_properties\": \"n_components=0.20789473684210527, random_state=None\", \"primary_metric\": 0.69021529, \"best_metric\": 0.8439703}, {\"run_id\": \"AutoML_4798bf11-a0a6-4219-af08-bb9b29393c00_41\", \"run_number\": 43, \"metric\": null, \"status\": \"Completed\", \"run_type\": null, \"training_percent\": \"100\", \"start_time\": \"2020-11-27T14:45:01.722117Z\", \"end_time\": \"2020-11-27T14:45:29.597432Z\", \"created_time\": \"2020-11-27T14:45:01.60384Z\", \"created_time_dt\": \"2020-11-27T14:45:01.60384Z\", \"duration\": \"0:00:27\", \"iteration\": \"41\", \"goal\": \"r2_score_max\", \"run_name\": \"MaxAbsScaler, ExtremeRandomTrees\", \"run_properties\": \"copy=True\", \"primary_metric\": 0.83302539, \"best_metric\": 0.8439703}, {\"run_id\": \"AutoML_4798bf11-a0a6-4219-af08-bb9b29393c00_42\", \"run_number\": 44, \"metric\": null, \"status\": \"Completed\", \"run_type\": null, \"training_percent\": \"100\", \"start_time\": \"2020-11-27T14:45:30.944654Z\", \"end_time\": \"2020-11-27T14:45:55.460253Z\", \"created_time\": \"2020-11-27T14:45:30.845005Z\", \"created_time_dt\": \"2020-11-27T14:45:30.845005Z\", \"duration\": \"0:00:24\", \"iteration\": \"42\", \"goal\": \"r2_score_max\", \"run_name\": \"MaxAbsScaler, LightGBM\", \"run_properties\": \"copy=True\", \"primary_metric\": 0.81211193, \"best_metric\": 0.8439703}, {\"run_id\": \"AutoML_4798bf11-a0a6-4219-af08-bb9b29393c00_43\", \"run_number\": 45, \"metric\": null, \"status\": \"Completed\", \"run_type\": null, \"training_percent\": \"100\", \"start_time\": \"2020-11-27T14:45:55.811607Z\", \"end_time\": \"2020-11-27T14:46:30.711571Z\", \"created_time\": \"2020-11-27T14:45:55.70252Z\", \"created_time_dt\": \"2020-11-27T14:45:55.70252Z\", \"duration\": \"0:00:35\", \"iteration\": \"43\", \"goal\": \"r2_score_max\", \"run_name\": \"VotingEnsemble\", \"run_properties\": \"estimators=[('25',\\n                                          Pipeline(memory=None,\\n                                                   steps=[('truncatedsvdwrapper',\\n                                                           TruncatedSVDWrapper(n_components=0.8015789473684211,\\n                                                                               random_state=None\", \"primary_metric\": 0.86401424, \"best_metric\": 0.86401424}, {\"run_id\": \"AutoML_4798bf11-a0a6-4219-af08-bb9b29393c00_44\", \"run_number\": 46, \"metric\": null, \"status\": \"Completed\", \"run_type\": null, \"training_percent\": \"100\", \"start_time\": \"2020-11-27T14:46:31.078166Z\", \"end_time\": \"2020-11-27T14:47:06.768297Z\", \"created_time\": \"2020-11-27T14:46:30.960891Z\", \"created_time_dt\": \"2020-11-27T14:46:30.960891Z\", \"duration\": \"0:00:35\", \"iteration\": \"44\", \"goal\": \"r2_score_max\", \"run_name\": \"StackEnsemble\", \"run_properties\": \"base_learners=[('25',\\n                                       Pipeline(memory=None,\\n                                                steps=[('truncatedsvdwrapper',\\n                                                        TruncatedSVDWrapper(n_components=0.8015789473684211,\\n                                                                            random_state=None\", \"primary_metric\": 0.85755456, \"best_metric\": 0.86401424}], \"children_metrics\": {\"categories\": [0], \"series\": {\"spearman_correlation\": [{\"categories\": [\"0\", \"1\", \"2\", \"3\", \"4\", \"5\", \"6\", \"7\", \"8\", \"9\", \"10\", \"11\", \"12\", \"13\", \"14\", \"15\", \"16\", \"17\", \"18\", \"19\", \"20\", \"21\", \"22\", \"23\", \"24\", \"25\", \"26\", \"27\", \"28\", \"29\", \"30\", \"31\", \"32\", \"33\", \"34\", \"35\", \"36\", \"37\", \"38\", \"39\", \"40\", \"41\", \"42\", \"43\", \"44\"], \"mode\": \"markers\", \"name\": \"spearman_correlation\", \"stepped\": false, \"type\": \"scatter\", \"data\": [0.9110616545109774, 0.9271103882435526, 0.9303164352490221, 0.924244730631668, 0.9235846407393026, 0.9358812329162646, 0.9286293438485574, 0.8766866433933297, 0.9303981410189524, 0.9202504391732385, 0.9054441860361638, 0.9071695973814743, 0.9251402871758958, 0.9342639519116043, 0.9235811704104959, 0.9151316031056416, 0.916688949258253, 0.8734029446295081, 0.9083905323134722, 0.9076070581679182, 0.9198704345498753, 0.9242608053649377, 0.7915200887434009, 0.9163186726392641, 0.9135659939501837, 0.9363700851205348, 0.8686064658630875, 0.930466859656236, 0.9111760332723975, 0.929202772553524, 0.9125965745343946, 0.9342346528784531, 0.9179815983743781, 0.9296169187608752, 0.9224829015523044, 0.8771909308057696, 0.9264180588990273, 0.9058465479139569, 0.9336063289671017, 0.9092115629957459, 0.8775174250282648, 0.9300263263726204, 0.9251443032098466, 0.9470048180487209, 0.9456414631495765]}, {\"categories\": [\"0\", \"1\", \"2\", \"3\", \"4\", \"5\", \"6\", \"7\", \"8\", \"9\", \"10\", \"11\", \"12\", \"13\", \"14\", \"15\", \"16\", \"17\", \"18\", \"19\", \"20\", \"21\", \"22\", \"23\", \"24\", \"25\", \"26\", \"27\", \"28\", \"29\", \"30\", \"31\", \"32\", \"33\", \"34\", \"35\", \"36\", \"37\", \"38\", \"39\", \"40\", \"41\", \"42\", \"43\", \"44\"], \"mode\": \"lines\", \"name\": \"spearman_correlation_max\", \"stepped\": true, \"type\": \"scatter\", \"data\": [0.9110616545109774, 0.9271103882435526, 0.9303164352490221, 0.9303164352490221, 0.9303164352490221, 0.9358812329162646, 0.9358812329162646, 0.9358812329162646, 0.9358812329162646, 0.9358812329162646, 0.9358812329162646, 0.9358812329162646, 0.9358812329162646, 0.9358812329162646, 0.9358812329162646, 0.9358812329162646, 0.9358812329162646, 0.9358812329162646, 0.9358812329162646, 0.9358812329162646, 0.9358812329162646, 0.9358812329162646, 0.9358812329162646, 0.9358812329162646, 0.9358812329162646, 0.9363700851205348, 0.9363700851205348, 0.9363700851205348, 0.9363700851205348, 0.9363700851205348, 0.9363700851205348, 0.9363700851205348, 0.9363700851205348, 0.9363700851205348, 0.9363700851205348, 0.9363700851205348, 0.9363700851205348, 0.9363700851205348, 0.9363700851205348, 0.9363700851205348, 0.9363700851205348, 0.9363700851205348, 0.9363700851205348, 0.9470048180487209, 0.9470048180487209]}], \"normalized_root_mean_squared_error\": [{\"categories\": [\"0\", \"1\", \"2\", \"3\", \"4\", \"5\", \"6\", \"7\", \"8\", \"9\", \"10\", \"11\", \"12\", \"13\", \"14\", \"15\", \"16\", \"17\", \"18\", \"19\", \"20\", \"21\", \"22\", \"23\", \"24\", \"25\", \"26\", \"27\", \"28\", \"29\", \"30\", \"31\", \"32\", \"33\", \"34\", \"35\", \"36\", \"37\", \"38\", \"39\", \"40\", \"41\", \"42\", \"43\", \"44\"], \"mode\": \"markers\", \"name\": \"normalized_root_mean_squared_error\", \"stepped\": false, \"type\": \"scatter\", \"data\": [0.09661793082037977, 0.08757346859305541, 0.08454356180005713, 0.09206245211499024, 0.09000115243276952, 0.08198171030315113, 0.08678635789467204, 0.11021264000464918, 0.0857636620954715, 0.09152079683580744, 0.10425352473349918, 0.09835582472649868, 0.08798714773998166, 0.08238047668746015, 0.08884157816354926, 0.11218128710157677, 0.09119369480663349, 0.11854101339470292, 0.09758713003535786, 0.09847362762756105, 0.0929355224487232, 0.08753297973793946, 0.13074365775090382, 0.09157499505904419, 0.09270992279436768, 0.08158330822882293, 0.11831157327452978, 0.08570265013245781, 0.10312751371318025, 0.08819531000148495, 0.10063655169072099, 0.08502915454224573, 0.09037729713968297, 0.08495086101504472, 0.08848264332067342, 0.11472674464023559, 0.08813237843648698, 0.10260902089672536, 0.08479190171238353, 0.09706942950360982, 0.11521292836094821, 0.08418138382213693, 0.08923598145071764, 0.07610949861512173, 0.07792852291239055]}, {\"categories\": [\"0\", \"1\", \"2\", \"3\", \"4\", \"5\", \"6\", \"7\", \"8\", \"9\", \"10\", \"11\", \"12\", \"13\", \"14\", \"15\", \"16\", \"17\", \"18\", \"19\", \"20\", \"21\", \"22\", \"23\", \"24\", \"25\", \"26\", \"27\", \"28\", \"29\", \"30\", \"31\", \"32\", \"33\", \"34\", \"35\", \"36\", \"37\", \"38\", \"39\", \"40\", \"41\", \"42\", \"43\", \"44\"], \"mode\": \"lines\", \"name\": \"normalized_root_mean_squared_error_min\", \"stepped\": true, \"type\": \"scatter\", \"data\": [0.09661793082037977, 0.08757346859305541, 0.08454356180005713, 0.08454356180005713, 0.08454356180005713, 0.08198171030315113, 0.08198171030315113, 0.08198171030315113, 0.08198171030315113, 0.08198171030315113, 0.08198171030315113, 0.08198171030315113, 0.08198171030315113, 0.08198171030315113, 0.08198171030315113, 0.08198171030315113, 0.08198171030315113, 0.08198171030315113, 0.08198171030315113, 0.08198171030315113, 0.08198171030315113, 0.08198171030315113, 0.08198171030315113, 0.08198171030315113, 0.08198171030315113, 0.08158330822882293, 0.08158330822882293, 0.08158330822882293, 0.08158330822882293, 0.08158330822882293, 0.08158330822882293, 0.08158330822882293, 0.08158330822882293, 0.08158330822882293, 0.08158330822882293, 0.08158330822882293, 0.08158330822882293, 0.08158330822882293, 0.08158330822882293, 0.08158330822882293, 0.08158330822882293, 0.08158330822882293, 0.08158330822882293, 0.07610949861512173, 0.07610949861512173]}], \"normalized_root_mean_squared_log_error\": [{\"categories\": [\"0\", \"1\", \"2\", \"3\", \"4\", \"5\", \"6\", \"7\", \"8\", \"9\", \"10\", \"11\", \"12\", \"13\", \"14\", \"15\", \"16\", \"17\", \"18\", \"19\", \"20\", \"21\", \"22\", \"23\", \"24\", \"25\", \"26\", \"27\", \"28\", \"29\", \"30\", \"31\", \"32\", \"33\", \"34\", \"35\", \"36\", \"37\", \"38\", \"39\", \"40\", \"41\", \"42\", \"43\", \"44\"], \"mode\": \"markers\", \"name\": \"normalized_root_mean_squared_log_error\", \"stepped\": false, \"type\": \"scatter\", \"data\": [0.08795575126620962, 0.08151303783576562, 0.07952750300014705, 0.08428978018042972, 0.08246131962490427, 0.0797227453949658, 0.08030528807971286, 0.0994243977881114, 0.07910572905978121, 0.08384251556046883, 0.09923045198973275, 0.08996113601991056, 0.08207740284671658, 0.07691245528277424, 0.08235888020346445, 0.09984956842316224, 0.08505024309215026, 0.10723941641371258, 0.09079825485728699, 0.09036976461368688, 0.0849527977935819, 0.08200793078472139, 0.1246680254818583, 0.08511621347438697, 0.08825649383181837, 0.08003298905534735, 0.10795139747006738, 0.07823392336239236, 0.09682574105668063, 0.08287556353038832, 0.09548024339449719, 0.07724137844704503, 0.0853766187562115, 0.07903424350154821, 0.08341230394740316, 0.10939890697744527, 0.08184054592303913, 0.09178550475645747, 0.07666481078104996, 0.09321623343485834, 0.1105470448558178, 0.07940026530475007, 0.0818887728083363, 0.07057827584759484, 0.07184743056236875]}, {\"categories\": [\"0\", \"1\", \"2\", \"3\", \"4\", \"5\", \"6\", \"7\", \"8\", \"9\", \"10\", \"11\", \"12\", \"13\", \"14\", \"15\", \"16\", \"17\", \"18\", \"19\", \"20\", \"21\", \"22\", \"23\", \"24\", \"25\", \"26\", \"27\", \"28\", \"29\", \"30\", \"31\", \"32\", \"33\", \"34\", \"35\", \"36\", \"37\", \"38\", \"39\", \"40\", \"41\", \"42\", \"43\", \"44\"], \"mode\": \"lines\", \"name\": \"normalized_root_mean_squared_log_error_min\", \"stepped\": true, \"type\": \"scatter\", \"data\": [0.08795575126620962, 0.08151303783576562, 0.07952750300014705, 0.07952750300014705, 0.07952750300014705, 0.07952750300014705, 0.07952750300014705, 0.07952750300014705, 0.07910572905978121, 0.07910572905978121, 0.07910572905978121, 0.07910572905978121, 0.07910572905978121, 0.07691245528277424, 0.07691245528277424, 0.07691245528277424, 0.07691245528277424, 0.07691245528277424, 0.07691245528277424, 0.07691245528277424, 0.07691245528277424, 0.07691245528277424, 0.07691245528277424, 0.07691245528277424, 0.07691245528277424, 0.07691245528277424, 0.07691245528277424, 0.07691245528277424, 0.07691245528277424, 0.07691245528277424, 0.07691245528277424, 0.07691245528277424, 0.07691245528277424, 0.07691245528277424, 0.07691245528277424, 0.07691245528277424, 0.07691245528277424, 0.07691245528277424, 0.07666481078104996, 0.07666481078104996, 0.07666481078104996, 0.07666481078104996, 0.07666481078104996, 0.07057827584759484, 0.07057827584759484]}], \"mean_absolute_percentage_error\": [{\"categories\": [\"0\", \"1\", \"2\", \"3\", \"4\", \"5\", \"6\", \"7\", \"8\", \"9\", \"10\", \"11\", \"12\", \"13\", \"14\", \"15\", \"16\", \"17\", \"18\", \"19\", \"20\", \"21\", \"22\", \"23\", \"24\", \"25\", \"26\", \"27\", \"28\", \"29\", \"30\", \"31\", \"32\", \"33\", \"34\", \"35\", \"36\", \"37\", \"38\", \"39\", \"40\", \"41\", \"42\", \"43\", \"44\"], \"mode\": \"markers\", \"name\": \"mean_absolute_percentage_error\", \"stepped\": false, \"type\": \"scatter\", \"data\": [10.845777438404355, 9.736422866167231, 9.621879134725463, 10.344797802865104, 10.02177897342103, 10.250602054999646, 9.419216689341772, 12.583396773734902, 9.284264548660378, 10.30566979580854, 12.908693874572664, 10.892422274846128, 9.437807073964393, 9.087256289273654, 9.505826469951224, 11.483970630764768, 9.912050960139355, 12.796835746798175, 11.626331476566278, 11.18992918561397, 10.712958612718312, 9.420533212854842, 16.448556176326303, 10.199884089369968, 11.210339332044077, 10.283483182307245, 12.646173190568632, 9.637421168662051, 12.416502844565473, 10.890734198077197, 12.359247663361264, 9.515222864014282, 9.981082884201514, 9.269166506121275, 9.7670541091301, 14.353689109320271, 9.818567068753957, 10.978788759024903, 9.397393762719409, 11.798794764162016, 14.498812775587245, 9.188137118047917, 9.865836885819327, 8.775411267236603, 8.886745116548697]}, {\"categories\": [\"0\", \"1\", \"2\", \"3\", \"4\", \"5\", \"6\", \"7\", \"8\", \"9\", \"10\", \"11\", \"12\", \"13\", \"14\", \"15\", \"16\", \"17\", \"18\", \"19\", \"20\", \"21\", \"22\", \"23\", \"24\", \"25\", \"26\", \"27\", \"28\", \"29\", \"30\", \"31\", \"32\", \"33\", \"34\", \"35\", \"36\", \"37\", \"38\", \"39\", \"40\", \"41\", \"42\", \"43\", \"44\"], \"mode\": \"lines\", \"name\": \"mean_absolute_percentage_error_min\", \"stepped\": true, \"type\": \"scatter\", \"data\": [10.845777438404355, 9.736422866167231, 9.621879134725463, 9.621879134725463, 9.621879134725463, 9.621879134725463, 9.419216689341772, 9.419216689341772, 9.284264548660378, 9.284264548660378, 9.284264548660378, 9.284264548660378, 9.284264548660378, 9.087256289273654, 9.087256289273654, 9.087256289273654, 9.087256289273654, 9.087256289273654, 9.087256289273654, 9.087256289273654, 9.087256289273654, 9.087256289273654, 9.087256289273654, 9.087256289273654, 9.087256289273654, 9.087256289273654, 9.087256289273654, 9.087256289273654, 9.087256289273654, 9.087256289273654, 9.087256289273654, 9.087256289273654, 9.087256289273654, 9.087256289273654, 9.087256289273654, 9.087256289273654, 9.087256289273654, 9.087256289273654, 9.087256289273654, 9.087256289273654, 9.087256289273654, 9.087256289273654, 9.087256289273654, 8.775411267236603, 8.775411267236603]}], \"median_absolute_error\": [{\"categories\": [\"0\", \"1\", \"2\", \"3\", \"4\", \"5\", \"6\", \"7\", \"8\", \"9\", \"10\", \"11\", \"12\", \"13\", \"14\", \"15\", \"16\", \"17\", \"18\", \"19\", \"20\", \"21\", \"22\", \"23\", \"24\", \"25\", \"26\", \"27\", \"28\", \"29\", \"30\", \"31\", \"32\", \"33\", \"34\", \"35\", \"36\", \"37\", \"38\", \"39\", \"40\", \"41\", \"42\", \"43\", \"44\"], \"mode\": \"markers\", \"name\": \"median_absolute_error\", \"stepped\": false, \"type\": \"scatter\", \"data\": [1.8389472354932241, 1.549153391520182, 1.5593512217203778, 1.77117073628229, 1.7859887088395692, 1.765411967800662, 1.370436668395996, 2.303276588105324, 1.501333333333332, 1.8438365079365082, 2.3110225424983373, 1.8023966244167517, 1.565833333333326, 1.5795714649003993, 1.4296627044677734, 2.102670892079671, 1.5549444444444447, 2.0, 2.1479912201126674, 1.9736767674743927, 1.8974494715821966, 1.588666666666665, 2.951176744502178, 1.6595806057368556, 1.9272161462904542, 1.7512879829757757, 2.0, 1.5931316693623856, 2.2149910920621227, 1.9025538236633024, 2.2091076859373246, 1.554999999999988, 1.563333333333335, 1.5157290013227496, 1.6133430523180514, 2.551845214262682, 1.5859899470899428, 1.934666666666666, 1.5659217834472656, 1.8543904245847227, 2.6277524117998285, 1.4737102843915395, 1.604262122368448, 1.3572896116061977, 1.4171429881035873]}, {\"categories\": [\"0\", \"1\", \"2\", \"3\", \"4\", \"5\", \"6\", \"7\", \"8\", \"9\", \"10\", \"11\", \"12\", \"13\", \"14\", \"15\", \"16\", \"17\", \"18\", \"19\", \"20\", \"21\", \"22\", \"23\", \"24\", \"25\", \"26\", \"27\", \"28\", \"29\", \"30\", \"31\", \"32\", \"33\", \"34\", \"35\", \"36\", \"37\", \"38\", \"39\", \"40\", \"41\", \"42\", \"43\", \"44\"], \"mode\": \"lines\", \"name\": \"median_absolute_error_min\", \"stepped\": true, \"type\": \"scatter\", \"data\": [1.8389472354932241, 1.549153391520182, 1.549153391520182, 1.549153391520182, 1.549153391520182, 1.549153391520182, 1.370436668395996, 1.370436668395996, 1.370436668395996, 1.370436668395996, 1.370436668395996, 1.370436668395996, 1.370436668395996, 1.370436668395996, 1.370436668395996, 1.370436668395996, 1.370436668395996, 1.370436668395996, 1.370436668395996, 1.370436668395996, 1.370436668395996, 1.370436668395996, 1.370436668395996, 1.370436668395996, 1.370436668395996, 1.370436668395996, 1.370436668395996, 1.370436668395996, 1.370436668395996, 1.370436668395996, 1.370436668395996, 1.370436668395996, 1.370436668395996, 1.370436668395996, 1.370436668395996, 1.370436668395996, 1.370436668395996, 1.370436668395996, 1.370436668395996, 1.370436668395996, 1.370436668395996, 1.370436668395996, 1.370436668395996, 1.3572896116061977, 1.3572896116061977]}], \"mean_absolute_error\": [{\"categories\": [\"0\", \"1\", \"2\", \"3\", \"4\", \"5\", \"6\", \"7\", \"8\", \"9\", \"10\", \"11\", \"12\", \"13\", \"14\", \"15\", \"16\", \"17\", \"18\", \"19\", \"20\", \"21\", \"22\", \"23\", \"24\", \"25\", \"26\", \"27\", \"28\", \"29\", \"30\", \"31\", \"32\", \"33\", \"34\", \"35\", \"36\", \"37\", \"38\", \"39\", \"40\", \"41\", \"42\", \"43\", \"44\"], \"mode\": \"markers\", \"name\": \"mean_absolute_error\", \"stepped\": false, \"type\": \"scatter\", \"data\": [2.5869153160808485, 2.2842987504211494, 2.2344745398672297, 2.4351637309531426, 2.372729842128716, 2.3178734706855852, 2.212328290262119, 3.013376330799623, 2.2052573858889652, 2.439989903194133, 2.9490196325124276, 2.551390073357147, 2.231410211133895, 2.141194344563886, 2.24627194844609, 2.923561709035979, 2.332993558884725, 3.0626338573706993, 2.729287403013156, 2.648860083874785, 2.5292166777125757, 2.2247145610237715, 3.7514990501893846, 2.386109769784399, 2.605249291304362, 2.316418928120902, 3.056111111111111, 2.279123562593852, 2.855298863989155, 2.4910080405285733, 2.826112875482591, 2.2528157277663876, 2.352339371155161, 2.1933765185522485, 2.294986467064755, 3.2853435672788316, 2.2999479723011826, 2.664884635832004, 2.2373135639973487, 2.655637939395141, 3.310904970059305, 2.166999293180192, 2.3297816983031683, 2.036164988607308, 2.0675327961048637]}, {\"categories\": [\"0\", \"1\", \"2\", \"3\", \"4\", \"5\", \"6\", \"7\", \"8\", \"9\", \"10\", \"11\", \"12\", \"13\", \"14\", \"15\", \"16\", \"17\", \"18\", \"19\", \"20\", \"21\", \"22\", \"23\", \"24\", \"25\", \"26\", \"27\", \"28\", \"29\", \"30\", \"31\", \"32\", \"33\", \"34\", \"35\", \"36\", \"37\", \"38\", \"39\", \"40\", \"41\", \"42\", \"43\", \"44\"], \"mode\": \"lines\", \"name\": \"mean_absolute_error_min\", \"stepped\": true, \"type\": \"scatter\", \"data\": [2.5869153160808485, 2.2842987504211494, 2.2344745398672297, 2.2344745398672297, 2.2344745398672297, 2.2344745398672297, 2.212328290262119, 2.212328290262119, 2.2052573858889652, 2.2052573858889652, 2.2052573858889652, 2.2052573858889652, 2.2052573858889652, 2.141194344563886, 2.141194344563886, 2.141194344563886, 2.141194344563886, 2.141194344563886, 2.141194344563886, 2.141194344563886, 2.141194344563886, 2.141194344563886, 2.141194344563886, 2.141194344563886, 2.141194344563886, 2.141194344563886, 2.141194344563886, 2.141194344563886, 2.141194344563886, 2.141194344563886, 2.141194344563886, 2.141194344563886, 2.141194344563886, 2.141194344563886, 2.141194344563886, 2.141194344563886, 2.141194344563886, 2.141194344563886, 2.141194344563886, 2.141194344563886, 2.141194344563886, 2.141194344563886, 2.141194344563886, 2.036164988607308, 2.036164988607308]}], \"normalized_median_absolute_error\": [{\"categories\": [\"0\", \"1\", \"2\", \"3\", \"4\", \"5\", \"6\", \"7\", \"8\", \"9\", \"10\", \"11\", \"12\", \"13\", \"14\", \"15\", \"16\", \"17\", \"18\", \"19\", \"20\", \"21\", \"22\", \"23\", \"24\", \"25\", \"26\", \"27\", \"28\", \"29\", \"30\", \"31\", \"32\", \"33\", \"34\", \"35\", \"36\", \"37\", \"38\", \"39\", \"40\", \"41\", \"42\", \"43\", \"44\"], \"mode\": \"markers\", \"name\": \"normalized_median_absolute_error\", \"stepped\": false, \"type\": \"scatter\", \"data\": [0.04890817115673468, 0.04120088807234527, 0.04147210696064835, 0.047105604688358775, 0.04749969970318003, 0.04695244595214526, 0.03644778373393606, 0.06125735606663096, 0.03992907801418436, 0.04903820499831139, 0.061463365491977055, 0.047936080436615736, 0.041644503546099096, 0.04200987938564892, 0.03802294426775993, 0.05592209819360827, 0.041354905437352256, 0.05319148936170213, 0.05712742606682627, 0.052491403390276394, 0.05046408169101587, 0.04225177304964534, 0.07848874320484517, 0.044137782067469565, 0.051255748571554634, 0.04657680805786637, 0.05319148936170213, 0.04237052312134004, 0.058909337554843684, 0.05059983573572613, 0.0587528639876948, 0.04135638297872308, 0.0415780141843972, 0.04031194152454121, 0.042908059902075836, 0.06786822378358197, 0.04218058369920061, 0.051453900709219846, 0.041646855942746426, 0.049318894270870293, 0.06988703222871884, 0.039194422457221795, 0.042666545807671485, 0.03609812796824994, 0.037689973087861366]}, {\"categories\": [\"0\", \"1\", \"2\", \"3\", \"4\", \"5\", \"6\", \"7\", \"8\", \"9\", \"10\", \"11\", \"12\", \"13\", \"14\", \"15\", \"16\", \"17\", \"18\", \"19\", \"20\", \"21\", \"22\", \"23\", \"24\", \"25\", \"26\", \"27\", \"28\", \"29\", \"30\", \"31\", \"32\", \"33\", \"34\", \"35\", \"36\", \"37\", \"38\", \"39\", \"40\", \"41\", \"42\", \"43\", \"44\"], \"mode\": \"lines\", \"name\": \"normalized_median_absolute_error_min\", \"stepped\": true, \"type\": \"scatter\", \"data\": [0.04890817115673468, 0.04120088807234527, 0.04120088807234527, 0.04120088807234527, 0.04120088807234527, 0.04120088807234527, 0.03644778373393606, 0.03644778373393606, 0.03644778373393606, 0.03644778373393606, 0.03644778373393606, 0.03644778373393606, 0.03644778373393606, 0.03644778373393606, 0.03644778373393606, 0.03644778373393606, 0.03644778373393606, 0.03644778373393606, 0.03644778373393606, 0.03644778373393606, 0.03644778373393606, 0.03644778373393606, 0.03644778373393606, 0.03644778373393606, 0.03644778373393606, 0.03644778373393606, 0.03644778373393606, 0.03644778373393606, 0.03644778373393606, 0.03644778373393606, 0.03644778373393606, 0.03644778373393606, 0.03644778373393606, 0.03644778373393606, 0.03644778373393606, 0.03644778373393606, 0.03644778373393606, 0.03644778373393606, 0.03644778373393606, 0.03644778373393606, 0.03644778373393606, 0.03644778373393606, 0.03644778373393606, 0.03609812796824994, 0.03609812796824994]}], \"normalized_mean_absolute_error\": [{\"categories\": [\"0\", \"1\", \"2\", \"3\", \"4\", \"5\", \"6\", \"7\", \"8\", \"9\", \"10\", \"11\", \"12\", \"13\", \"14\", \"15\", \"16\", \"17\", \"18\", \"19\", \"20\", \"21\", \"22\", \"23\", \"24\", \"25\", \"26\", \"27\", \"28\", \"29\", \"30\", \"31\", \"32\", \"33\", \"34\", \"35\", \"36\", \"37\", \"38\", \"39\", \"40\", \"41\", \"42\", \"43\", \"44\"], \"mode\": \"markers\", \"name\": \"normalized_mean_absolute_error\", \"stepped\": false, \"type\": \"scatter\", \"data\": [0.06880093925746938, 0.06075262634098801, 0.05942751435817099, 0.06476499284449846, 0.06310451707789139, 0.061645571028871936, 0.05883851835803507, 0.08014298752126656, 0.05865046239066396, 0.06489334848920565, 0.07843137320511774, 0.06785611897226453, 0.059346016253561035, 0.05694665810010335, 0.05974127522463005, 0.07775430077223348, 0.0620477010341682, 0.08145302812156116, 0.07258743093120096, 0.07044840648603153, 0.06726640100299404, 0.05916794045275988, 0.09977391090929215, 0.06346036621767019, 0.06928854498149899, 0.061606886386194194, 0.08127955082742315, 0.06061498836685777, 0.07593879957417965, 0.06625021384384504, 0.07516257647560083, 0.059915311908680526, 0.0625622173179564, 0.05833448187638959, 0.06103687412406264, 0.08737615870422426, 0.061168829050563374, 0.07087459137851075, 0.05950302031907842, 0.0706286686009346, 0.08805598324625812, 0.057632959925005105, 0.061962279210190645, 0.05415332416508797, 0.05498757436449106]}, {\"categories\": [\"0\", \"1\", \"2\", \"3\", \"4\", \"5\", \"6\", \"7\", \"8\", \"9\", \"10\", \"11\", \"12\", \"13\", \"14\", \"15\", \"16\", \"17\", \"18\", \"19\", \"20\", \"21\", \"22\", \"23\", \"24\", \"25\", \"26\", \"27\", \"28\", \"29\", \"30\", \"31\", \"32\", \"33\", \"34\", \"35\", \"36\", \"37\", \"38\", \"39\", \"40\", \"41\", \"42\", \"43\", \"44\"], \"mode\": \"lines\", \"name\": \"normalized_mean_absolute_error_min\", \"stepped\": true, \"type\": \"scatter\", \"data\": [0.06880093925746938, 0.06075262634098801, 0.05942751435817099, 0.05942751435817099, 0.05942751435817099, 0.05942751435817099, 0.05883851835803507, 0.05883851835803507, 0.05865046239066396, 0.05865046239066396, 0.05865046239066396, 0.05865046239066396, 0.05865046239066396, 0.05694665810010335, 0.05694665810010335, 0.05694665810010335, 0.05694665810010335, 0.05694665810010335, 0.05694665810010335, 0.05694665810010335, 0.05694665810010335, 0.05694665810010335, 0.05694665810010335, 0.05694665810010335, 0.05694665810010335, 0.05694665810010335, 0.05694665810010335, 0.05694665810010335, 0.05694665810010335, 0.05694665810010335, 0.05694665810010335, 0.05694665810010335, 0.05694665810010335, 0.05694665810010335, 0.05694665810010335, 0.05694665810010335, 0.05694665810010335, 0.05694665810010335, 0.05694665810010335, 0.05694665810010335, 0.05694665810010335, 0.05694665810010335, 0.05694665810010335, 0.05415332416508797, 0.05415332416508797]}], \"root_mean_squared_log_error\": [{\"categories\": [\"0\", \"1\", \"2\", \"3\", \"4\", \"5\", \"6\", \"7\", \"8\", \"9\", \"10\", \"11\", \"12\", \"13\", \"14\", \"15\", \"16\", \"17\", \"18\", \"19\", \"20\", \"21\", \"22\", \"23\", \"24\", \"25\", \"26\", \"27\", \"28\", \"29\", \"30\", \"31\", \"32\", \"33\", \"34\", \"35\", \"36\", \"37\", \"38\", \"39\", \"40\", \"41\", \"42\", \"43\", \"44\"], \"mode\": \"markers\", \"name\": \"root_mean_squared_log_error\", \"stepped\": false, \"type\": \"scatter\", \"data\": [0.13723275582169378, 0.1271805272146835, 0.12408260111719376, 0.1315129329832582, 0.1286600816650247, 0.12438722760845194, 0.12529613847398077, 0.15512668481539793, 0.12342452931021218, 0.13081508940287645, 0.1548240813357121, 0.14036165270758635, 0.12806107640705788, 0.12000247901381779, 0.12850025079658703, 0.15579005630734158, 0.1326994434680557, 0.1673200494032704, 0.14166776542164553, 0.1409992145182034, 0.13254740466818316, 0.12795268278432184, 0.1945129960625693, 0.13280237360311367, 0.13770198870842634, 0.12487128455614956, 0.1684309161862814, 0.12206429650369995, 0.15107213670961828, 0.12930640475264019, 0.14897282711956972, 0.1205156806139025, 0.13320867033687867, 0.12331299413466605, 0.13014385273673956, 0.17068938951992782, 0.12769152094418285, 0.1432081197747997, 0.11961609225744922, 0.1454404108591635, 0.1724807689674804, 0.12388407879963793, 0.1277667668295144, 0.11011959031984427, 0.11209978600421029]}, {\"categories\": [\"0\", \"1\", \"2\", \"3\", \"4\", \"5\", \"6\", \"7\", \"8\", \"9\", \"10\", \"11\", \"12\", \"13\", \"14\", \"15\", \"16\", \"17\", \"18\", \"19\", \"20\", \"21\", \"22\", \"23\", \"24\", \"25\", \"26\", \"27\", \"28\", \"29\", \"30\", \"31\", \"32\", \"33\", \"34\", \"35\", \"36\", \"37\", \"38\", \"39\", \"40\", \"41\", \"42\", \"43\", \"44\"], \"mode\": \"lines\", \"name\": \"root_mean_squared_log_error_min\", \"stepped\": true, \"type\": \"scatter\", \"data\": [0.13723275582169378, 0.1271805272146835, 0.12408260111719376, 0.12408260111719376, 0.12408260111719376, 0.12408260111719376, 0.12408260111719376, 0.12408260111719376, 0.12342452931021218, 0.12342452931021218, 0.12342452931021218, 0.12342452931021218, 0.12342452931021218, 0.12000247901381779, 0.12000247901381779, 0.12000247901381779, 0.12000247901381779, 0.12000247901381779, 0.12000247901381779, 0.12000247901381779, 0.12000247901381779, 0.12000247901381779, 0.12000247901381779, 0.12000247901381779, 0.12000247901381779, 0.12000247901381779, 0.12000247901381779, 0.12000247901381779, 0.12000247901381779, 0.12000247901381779, 0.12000247901381779, 0.12000247901381779, 0.12000247901381779, 0.12000247901381779, 0.12000247901381779, 0.12000247901381779, 0.12000247901381779, 0.12000247901381779, 0.11961609225744922, 0.11961609225744922, 0.11961609225744922, 0.11961609225744922, 0.11961609225744922, 0.11011959031984427, 0.11011959031984427]}], \"explained_variance\": [{\"categories\": [\"0\", \"1\", \"2\", \"3\", \"4\", \"5\", \"6\", \"7\", \"8\", \"9\", \"10\", \"11\", \"12\", \"13\", \"14\", \"15\", \"16\", \"17\", \"18\", \"19\", \"20\", \"21\", \"22\", \"23\", \"24\", \"25\", \"26\", \"27\", \"28\", \"29\", \"30\", \"31\", \"32\", \"33\", \"34\", \"35\", \"36\", \"37\", \"38\", \"39\", \"40\", \"41\", \"42\", \"43\", \"44\"], \"mode\": \"markers\", \"name\": \"explained_variance\", \"stepped\": false, \"type\": \"scatter\", \"data\": [0.783471764314181, 0.8198093402881272, 0.8314587260626843, 0.801188351322908, 0.8096751009782618, 0.8424400564839898, 0.823204166093379, 0.7172642750375441, 0.8272455200364338, 0.8043457415217828, 0.7475964290687337, 0.7720849266194397, 0.8193325114619708, 0.8404021593863421, 0.8137267388755515, 0.7761551645797047, 0.805550229392932, 0.67315024875195, 0.775510365320014, 0.7760500651486297, 0.7986234457905595, 0.8207335246002355, 0.6088870396308288, 0.8031450678371094, 0.7948746044892485, 0.8440078531989341, 0.6764804852983207, 0.8292517786906365, 0.7504646430676479, 0.824277368259394, 0.7647538550440278, 0.8303744042243207, 0.8076608770450991, 0.8297263186881679, 0.8166973350706085, 0.6946502212092422, 0.8169748827797744, 0.7588512850246124, 0.830058381246614, 0.7801977486607635, 0.6918103668436958, 0.8336389577860714, 0.8136655007377449, 0.8642570382274245, 0.858197228639752]}, {\"categories\": [\"0\", \"1\", \"2\", \"3\", \"4\", \"5\", \"6\", \"7\", \"8\", \"9\", \"10\", \"11\", \"12\", \"13\", \"14\", \"15\", \"16\", \"17\", \"18\", \"19\", \"20\", \"21\", \"22\", \"23\", \"24\", \"25\", \"26\", \"27\", \"28\", \"29\", \"30\", \"31\", \"32\", \"33\", \"34\", \"35\", \"36\", \"37\", \"38\", \"39\", \"40\", \"41\", \"42\", \"43\", \"44\"], \"mode\": \"lines\", \"name\": \"explained_variance_max\", \"stepped\": true, \"type\": \"scatter\", \"data\": [0.783471764314181, 0.8198093402881272, 0.8314587260626843, 0.8314587260626843, 0.8314587260626843, 0.8424400564839898, 0.8424400564839898, 0.8424400564839898, 0.8424400564839898, 0.8424400564839898, 0.8424400564839898, 0.8424400564839898, 0.8424400564839898, 0.8424400564839898, 0.8424400564839898, 0.8424400564839898, 0.8424400564839898, 0.8424400564839898, 0.8424400564839898, 0.8424400564839898, 0.8424400564839898, 0.8424400564839898, 0.8424400564839898, 0.8424400564839898, 0.8424400564839898, 0.8440078531989341, 0.8440078531989341, 0.8440078531989341, 0.8440078531989341, 0.8440078531989341, 0.8440078531989341, 0.8440078531989341, 0.8440078531989341, 0.8440078531989341, 0.8440078531989341, 0.8440078531989341, 0.8440078531989341, 0.8440078531989341, 0.8440078531989341, 0.8440078531989341, 0.8440078531989341, 0.8440078531989341, 0.8440078531989341, 0.8642570382274245, 0.8642570382274245]}], \"root_mean_squared_error\": [{\"categories\": [\"0\", \"1\", \"2\", \"3\", \"4\", \"5\", \"6\", \"7\", \"8\", \"9\", \"10\", \"11\", \"12\", \"13\", \"14\", \"15\", \"16\", \"17\", \"18\", \"19\", \"20\", \"21\", \"22\", \"23\", \"24\", \"25\", \"26\", \"27\", \"28\", \"29\", \"30\", \"31\", \"32\", \"33\", \"34\", \"35\", \"36\", \"37\", \"38\", \"39\", \"40\", \"41\", \"42\", \"43\", \"44\"], \"mode\": \"markers\", \"name\": \"root_mean_squared_error\", \"stepped\": false, \"type\": \"scatter\", \"data\": [3.632834198846279, 3.292762419098883, 3.178837923682149, 3.4615481995236337, 3.384043331472134, 3.0825123073984826, 3.2631670568396687, 4.1439952641748095, 3.224713694789729, 3.4411819610263596, 3.919932529979569, 3.69817900971635, 3.308316755023311, 3.097505923448502, 3.340443338949452, 4.218016395019286, 3.42888292472942, 4.45714210364083, 3.669276089329456, 3.702608398796295, 3.4943756440719924, 3.291240038146524, 4.915961531433984, 3.443219814220061, 3.485893097068225, 3.0675323894037416, 4.44851515512232, 3.222419644980414, 3.8775945156155776, 3.3161436560558344, 3.7839343435711092, 3.1970962107884393, 3.3981863724520793, 3.1941523741656805, 3.3269473888573207, 4.313725598472859, 3.3137774292119104, 3.8580991857168736, 3.188175504385621, 3.6498105493357293, 4.332006106371653, 3.1652200317123484, 3.3552729025469836, 2.861717147928577, 2.930112461505884]}, {\"categories\": [\"0\", \"1\", \"2\", \"3\", \"4\", \"5\", \"6\", \"7\", \"8\", \"9\", \"10\", \"11\", \"12\", \"13\", \"14\", \"15\", \"16\", \"17\", \"18\", \"19\", \"20\", \"21\", \"22\", \"23\", \"24\", \"25\", \"26\", \"27\", \"28\", \"29\", \"30\", \"31\", \"32\", \"33\", \"34\", \"35\", \"36\", \"37\", \"38\", \"39\", \"40\", \"41\", \"42\", \"43\", \"44\"], \"mode\": \"lines\", \"name\": \"root_mean_squared_error_min\", \"stepped\": true, \"type\": \"scatter\", \"data\": [3.632834198846279, 3.292762419098883, 3.178837923682149, 3.178837923682149, 3.178837923682149, 3.0825123073984826, 3.0825123073984826, 3.0825123073984826, 3.0825123073984826, 3.0825123073984826, 3.0825123073984826, 3.0825123073984826, 3.0825123073984826, 3.0825123073984826, 3.0825123073984826, 3.0825123073984826, 3.0825123073984826, 3.0825123073984826, 3.0825123073984826, 3.0825123073984826, 3.0825123073984826, 3.0825123073984826, 3.0825123073984826, 3.0825123073984826, 3.0825123073984826, 3.0675323894037416, 3.0675323894037416, 3.0675323894037416, 3.0675323894037416, 3.0675323894037416, 3.0675323894037416, 3.0675323894037416, 3.0675323894037416, 3.0675323894037416, 3.0675323894037416, 3.0675323894037416, 3.0675323894037416, 3.0675323894037416, 3.0675323894037416, 3.0675323894037416, 3.0675323894037416, 3.0675323894037416, 3.0675323894037416, 2.861717147928577, 2.861717147928577]}], \"r2_score\": [{\"categories\": [\"0\", \"1\", \"2\", \"3\", \"4\", \"5\", \"6\", \"7\", \"8\", \"9\", \"10\", \"11\", \"12\", \"13\", \"14\", \"15\", \"16\", \"17\", \"18\", \"19\", \"20\", \"21\", \"22\", \"23\", \"24\", \"25\", \"26\", \"27\", \"28\", \"29\", \"30\", \"31\", \"32\", \"33\", \"34\", \"35\", \"36\", \"37\", \"38\", \"39\", \"40\", \"41\", \"42\", \"43\", \"44\"], \"mode\": \"markers\", \"name\": \"r2_score\", \"stepped\": false, \"type\": \"scatter\", \"data\": [0.7821713908634371, 0.8192159488875538, 0.8308307384798118, 0.8007024432024883, 0.8092833205387322, 0.8423901729893788, 0.8224767482673188, 0.7160536059891016, 0.8266978511228363, 0.8038097683670603, 0.7462434639680623, 0.771406724529272, 0.8186195433917232, 0.8400262918744357, 0.8125013477487227, 0.7052338933920405, 0.8045358221050107, 0.669209931748747, 0.7735793767901532, 0.7725021077486605, 0.7962907609474783, 0.8199931788189234, 0.6011405536880063, 0.8026063690090587, 0.7937179622849256, 0.8439703030920782, 0.672825156137931, 0.8283270692093919, 0.7501649893963019, 0.8175719041037066, 0.7634781514326027, 0.8301108923146209, 0.8067727117456854, 0.8293357451492572, 0.8162519212206245, 0.6930392426575304, 0.8167732369083701, 0.7537970263967212, 0.8290210868912199, 0.7796165316137987, 0.6902152868947024, 0.8330253862896329, 0.8121119289445783, 0.864014240072818, 0.8575545573414473]}, {\"categories\": [\"0\", \"1\", \"2\", \"3\", \"4\", \"5\", \"6\", \"7\", \"8\", \"9\", \"10\", \"11\", \"12\", \"13\", \"14\", \"15\", \"16\", \"17\", \"18\", \"19\", \"20\", \"21\", \"22\", \"23\", \"24\", \"25\", \"26\", \"27\", \"28\", \"29\", \"30\", \"31\", \"32\", \"33\", \"34\", \"35\", \"36\", \"37\", \"38\", \"39\", \"40\", \"41\", \"42\", \"43\", \"44\"], \"mode\": \"lines\", \"name\": \"r2_score_max\", \"stepped\": true, \"type\": \"scatter\", \"data\": [0.7821713908634371, 0.8192159488875538, 0.8308307384798118, 0.8308307384798118, 0.8308307384798118, 0.8423901729893788, 0.8423901729893788, 0.8423901729893788, 0.8423901729893788, 0.8423901729893788, 0.8423901729893788, 0.8423901729893788, 0.8423901729893788, 0.8423901729893788, 0.8423901729893788, 0.8423901729893788, 0.8423901729893788, 0.8423901729893788, 0.8423901729893788, 0.8423901729893788, 0.8423901729893788, 0.8423901729893788, 0.8423901729893788, 0.8423901729893788, 0.8423901729893788, 0.8439703030920782, 0.8439703030920782, 0.8439703030920782, 0.8439703030920782, 0.8439703030920782, 0.8439703030920782, 0.8439703030920782, 0.8439703030920782, 0.8439703030920782, 0.8439703030920782, 0.8439703030920782, 0.8439703030920782, 0.8439703030920782, 0.8439703030920782, 0.8439703030920782, 0.8439703030920782, 0.8439703030920782, 0.8439703030920782, 0.864014240072818, 0.864014240072818]}]}, \"metricName\": null, \"primaryMetricName\": \"r2_score\", \"showLegend\": false}, \"run_metrics\": [{\"name\": \"experiment_status\", \"run_id\": \"AutoML_4798bf11-a0a6-4219-af08-bb9b29393c00\", \"categories\": [0, 1, 2, 3, 4, 5, 6, 7, 8, 9, 10, 11, 12, 13], \"series\": [{\"data\": [\"DatasetEvaluation\", \"FeaturesGeneration\", \"DatasetFeaturization\", \"DatasetFeaturizationCompleted\", \"DatasetCrossValidationSplit\", \"ModelSelection\", \"BestRunExplainModel\", \"ModelExplanationDataSetSetup\", \"PickSurrogateModel\", \"EngineeredFeatureExplanations\", \"EngineeredFeatureExplanations\", \"RawFeaturesExplanations\", \"RawFeaturesExplanations\", \"BestRunExplainModel\"]}]}, {\"name\": \"experiment_status_description\", \"run_id\": \"AutoML_4798bf11-a0a6-4219-af08-bb9b29393c00\", \"categories\": [0, 1, 2, 3, 4, 5, 6, 7, 8, 9, 10, 11, 12, 13], \"series\": [{\"data\": [\"Gathering dataset statistics.\", \"Generating features for the dataset.\", \"Beginning to fit featurizers and featurize the dataset.\", \"Completed fit featurizers and featurizing the dataset.\", \"Generating individually featurized CV splits.\", \"Beginning model selection.\", \"Best run model explanations started\", \"Model explanations data setup completed\", \"Choosing LightGBM as the surrogate model for explanations\", \"Computation of engineered features started\", \"Computation of engineered features completed\", \"Computation of raw features started\", \"Computation of raw features completed\", \"Best run model explanations completed\"]}]}, {\"name\": \"spearman_correlation\", \"run_id\": \"AutoML_4798bf11-a0a6-4219-af08-bb9b29393c00\", \"categories\": [0], \"series\": [{\"data\": [0.9470048180487209]}]}, {\"name\": \"normalized_root_mean_squared_error\", \"run_id\": \"AutoML_4798bf11-a0a6-4219-af08-bb9b29393c00\", \"categories\": [0], \"series\": [{\"data\": [0.07610949861512173]}]}, {\"name\": \"normalized_root_mean_squared_log_error\", \"run_id\": \"AutoML_4798bf11-a0a6-4219-af08-bb9b29393c00\", \"categories\": [0], \"series\": [{\"data\": [0.07057827584759484]}]}, {\"name\": \"mean_absolute_percentage_error\", \"run_id\": \"AutoML_4798bf11-a0a6-4219-af08-bb9b29393c00\", \"categories\": [0], \"series\": [{\"data\": [8.775411267236603]}]}, {\"name\": \"median_absolute_error\", \"run_id\": \"AutoML_4798bf11-a0a6-4219-af08-bb9b29393c00\", \"categories\": [0], \"series\": [{\"data\": [1.3572896116061977]}]}, {\"name\": \"mean_absolute_error\", \"run_id\": \"AutoML_4798bf11-a0a6-4219-af08-bb9b29393c00\", \"categories\": [0], \"series\": [{\"data\": [2.036164988607308]}]}, {\"name\": \"normalized_median_absolute_error\", \"run_id\": \"AutoML_4798bf11-a0a6-4219-af08-bb9b29393c00\", \"categories\": [0], \"series\": [{\"data\": [0.03609812796824994]}]}, {\"name\": \"normalized_mean_absolute_error\", \"run_id\": \"AutoML_4798bf11-a0a6-4219-af08-bb9b29393c00\", \"categories\": [0], \"series\": [{\"data\": [0.05415332416508797]}]}, {\"name\": \"root_mean_squared_log_error\", \"run_id\": \"AutoML_4798bf11-a0a6-4219-af08-bb9b29393c00\", \"categories\": [0], \"series\": [{\"data\": [0.11011959031984427]}]}, {\"name\": \"explained_variance\", \"run_id\": \"AutoML_4798bf11-a0a6-4219-af08-bb9b29393c00\", \"categories\": [0], \"series\": [{\"data\": [0.8642570382274245]}]}, {\"name\": \"root_mean_squared_error\", \"run_id\": \"AutoML_4798bf11-a0a6-4219-af08-bb9b29393c00\", \"categories\": [0], \"series\": [{\"data\": [2.861717147928577]}]}, {\"name\": \"r2_score\", \"run_id\": \"AutoML_4798bf11-a0a6-4219-af08-bb9b29393c00\", \"categories\": [0], \"series\": [{\"data\": [0.864014240072818]}]}], \"run_logs\": \"\\nRun is completed.\", \"graph\": {}, \"widget_settings\": {\"childWidgetDisplay\": \"popup\", \"send_telemetry\": false, \"log_level\": \"INFO\", \"sdk_version\": \"1.18.0\"}, \"loading\": false}"
     },
     "metadata": {},
     "output_type": "display_data"
    }
   ],
   "source": [
    "RunDetails(remote_run).show()"
   ]
  },
  {
   "cell_type": "markdown",
   "metadata": {},
   "source": [
    "## Best Model\n",
    "\n",
    "TODO: In the cell below, get the best model from the automl experiments and display all the properties of the model.\n",
    "\n"
   ]
  },
  {
   "cell_type": "code",
   "execution_count": 6,
   "metadata": {
    "gather": {
     "logged": 1606488971729
    },
    "jupyter": {
     "outputs_hidden": false,
     "source_hidden": false
    },
    "nteract": {
     "transient": {
      "deleting": false
     }
    }
   },
   "outputs": [
    {
     "name": "stdout",
     "output_type": "stream",
     "text": [
      "Run(Experiment: AutoRanga,\n",
      "Id: AutoML_4798bf11-a0a6-4219-af08-bb9b29393c00_43,\n",
      "Type: None,\n",
      "Status: Completed)\n"
     ]
    }
   ],
   "source": [
    "best,fitted = remote_run.get_output()\n",
    "print(best)"
   ]
  },
  {
   "cell_type": "code",
   "execution_count": 7,
   "metadata": {
    "gather": {
     "logged": 1606488975200
    }
   },
   "outputs": [
    {
     "name": "stdout",
     "output_type": "stream",
     "text": [
      "RegressionPipeline(pipeline=Pipeline(memory=None,\n",
      "                                     steps=[('datatransformer',\n",
      "                                             DataTransformer(enable_dnn=None,\n",
      "                                                             enable_feature_sweeping=None,\n",
      "                                                             feature_sweeping_config=None,\n",
      "                                                             feature_sweeping_timeout=None,\n",
      "                                                             featurization_config=None,\n",
      "                                                             force_text_dnn=None,\n",
      "                                                             is_cross_validation=None,\n",
      "                                                             is_onnx_compatible=None,\n",
      "                                                             logger=None,\n",
      "                                                             observer=None,\n",
      "                                                             task=None,\n",
      "                                                             working_dir=None)),\n",
      "                                            ('pre...\n",
      "                                                                                                                          random_state=None,\n",
      "                                                                                                                          reg_alpha=0.0,\n",
      "                                                                                                                          reg_lambda=0.0,\n",
      "                                                                                                                          silent=True,\n",
      "                                                                                                                          subsample=1.0,\n",
      "                                                                                                                          subsample_for_bin=200000,\n",
      "                                                                                                                          subsample_freq=0,\n",
      "                                                                                                                          verbose=-1))],\n",
      "                                                                                                verbose=False))],\n",
      "                                                                          weights=[0.4,\n",
      "                                                                                   0.06666666666666667,\n",
      "                                                                                   0.06666666666666667,\n",
      "                                                                                   0.06666666666666667,\n",
      "                                                                                   0.06666666666666667,\n",
      "                                                                                   0.06666666666666667,\n",
      "                                                                                   0.06666666666666667,\n",
      "                                                                                   0.06666666666666667,\n",
      "                                                                                   0.13333333333333333]))],\n",
      "                                     verbose=False),\n",
      "                   stddev=None)\n"
     ]
    }
   ],
   "source": [
    "print(fitted)"
   ]
  },
  {
   "cell_type": "code",
   "execution_count": 8,
   "metadata": {
    "gather": {
     "logged": 1606488980853
    },
    "jupyter": {
     "outputs_hidden": false,
     "source_hidden": false
    },
    "nteract": {
     "transient": {
      "deleting": false
     }
    }
   },
   "outputs": [
    {
     "data": {
      "text/html": [
       "['best_automl_model.sav']"
      ],
      "text/plain": [
       "['best_automl_model.sav']"
      ]
     },
     "execution_count": 8,
     "metadata": {},
     "output_type": "execute_result"
    }
   ],
   "source": [
    "#TODO: Save the best model\n",
    "filename = 'best_automl_model.sav'\n",
    "# pickle.dump(fitted, open(filename, 'wb'))\n",
    "\n",
    "joblib.dump(fitted,filename)"
   ]
  },
  {
   "cell_type": "markdown",
   "metadata": {},
   "source": [
    "## Model Deployment\n",
    "\n",
    "Remember you have to deploy only one of the two models you trained.. Perform the steps in the rest of this notebook only if you wish to deploy this model.\n",
    "\n",
    "TODO: In the cell below, register the model, create an inference config and deploy the model as a web service."
   ]
  },
  {
   "cell_type": "code",
   "execution_count": 60,
   "metadata": {
    "gather": {
     "logged": 1606491873720
    },
    "jupyter": {
     "outputs_hidden": false,
     "source_hidden": false
    },
    "nteract": {
     "transient": {
      "deleting": false
     }
    }
   },
   "outputs": [
    {
     "name": "stdout",
     "output_type": "stream",
     "text": [
      "Registering model registered.sav\n"
     ]
    }
   ],
   "source": [
    "registeredfinal = Model.register(workspace=ws,model_path='./best_automl_model.sav',model_name='registered.sav')"
   ]
  },
  {
   "cell_type": "code",
   "execution_count": 61,
   "metadata": {
    "collapsed": true,
    "gather": {
     "logged": 1606491878302
    },
    "jupyter": {
     "outputs_hidden": false,
     "source_hidden": false
    },
    "nteract": {
     "transient": {
      "deleting": false
     }
    }
   },
   "outputs": [
    {
     "data": {
      "text/plain": [
       "RegressionPipeline(pipeline=Pipeline(memory=None,\n",
       "                                     steps=[('datatransformer',\n",
       "                                             DataTransformer(enable_dnn=None,\n",
       "                                                             enable_feature_sweeping=None,\n",
       "                                                             feature_sweeping_config=None,\n",
       "                                                             feature_sweeping_timeout=None,\n",
       "                                                             featurization_config=None,\n",
       "                                                             force_text_dnn=None,\n",
       "                                                             is_cross_validation=None,\n",
       "                                                             is_onnx_compatible=None,\n",
       "                                                             logger=None,\n",
       "                                                             observer=None,\n",
       "                                                             task=None,\n",
       "                                                             working_dir=None)),\n",
       "                                            ('pre...\n",
       "                                                                                                                          random_state=None,\n",
       "                                                                                                                          reg_alpha=0.0,\n",
       "                                                                                                                          reg_lambda=0.0,\n",
       "                                                                                                                          silent=True,\n",
       "                                                                                                                          subsample=1.0,\n",
       "                                                                                                                          subsample_for_bin=200000,\n",
       "                                                                                                                          subsample_freq=0,\n",
       "                                                                                                                          verbose=-1))],\n",
       "                                                                                                verbose=False))],\n",
       "                                                                          weights=[0.4,\n",
       "                                                                                   0.06666666666666667,\n",
       "                                                                                   0.06666666666666667,\n",
       "                                                                                   0.06666666666666667,\n",
       "                                                                                   0.06666666666666667,\n",
       "                                                                                   0.06666666666666667,\n",
       "                                                                                   0.06666666666666667,\n",
       "                                                                                   0.06666666666666667,\n",
       "                                                                                   0.13333333333333333]))],\n",
       "                                     verbose=False),\n",
       "                   stddev=None)"
      ]
     },
     "execution_count": 61,
     "metadata": {},
     "output_type": "execute_result"
    }
   ],
   "source": [
    "path = Model.get_model_path('registered.sav')\n",
    "joblib.load(path)"
   ]
  },
  {
   "cell_type": "code",
   "execution_count": 181,
   "metadata": {
    "collapsed": true,
    "gather": {
     "logged": 1606497796747
    },
    "jupyter": {
     "outputs_hidden": false,
     "source_hidden": false
    },
    "nteract": {
     "transient": {
      "deleting": false
     }
    }
   },
   "outputs": [
    {
     "name": "stdout",
     "output_type": "stream",
     "text": [
      "Tips: You can try get_logs(): https://aka.ms/debugimage#dockerlog or local deployment: https://aka.ms/debugimage#debug-locally to debug if deployment takes longer than 10 minutes.\n",
      "Running...................................................................."
     ]
    },
    {
     "ename": "KeyboardInterrupt",
     "evalue": "",
     "output_type": "error",
     "traceback": [
      "\u001b[0;31m---------------------------------------------------------------------------\u001b[0m",
      "\u001b[0;31mKeyboardInterrupt\u001b[0m                         Traceback (most recent call last)",
      "\u001b[0;32m<ipython-input-181-6c4bbfa6ece4>\u001b[0m in \u001b[0;36m<module>\u001b[0;34m\u001b[0m\n\u001b[1;32m     13\u001b[0m \u001b[0mdeployfinal\u001b[0m \u001b[0;34m=\u001b[0m \u001b[0mAciWebservice\u001b[0m\u001b[0;34m.\u001b[0m\u001b[0mdeploy_configuration\u001b[0m\u001b[0;34m(\u001b[0m\u001b[0;34m)\u001b[0m\u001b[0;34m\u001b[0m\u001b[0;34m\u001b[0m\u001b[0m\n\u001b[1;32m     14\u001b[0m \u001b[0msvcs\u001b[0m \u001b[0;34m=\u001b[0m \u001b[0mModel\u001b[0m\u001b[0;34m.\u001b[0m\u001b[0mdeploy\u001b[0m\u001b[0;34m(\u001b[0m\u001b[0mworkspace\u001b[0m\u001b[0;34m=\u001b[0m\u001b[0mws\u001b[0m\u001b[0;34m,\u001b[0m\u001b[0mname\u001b[0m\u001b[0;34m=\u001b[0m\u001b[0;34m'feeh'\u001b[0m\u001b[0;34m,\u001b[0m\u001b[0mmodels\u001b[0m\u001b[0;34m=\u001b[0m\u001b[0;34m[\u001b[0m\u001b[0mregisteredfinal\u001b[0m\u001b[0;34m]\u001b[0m\u001b[0;34m,\u001b[0m\u001b[0minference_config\u001b[0m\u001b[0;34m=\u001b[0m\u001b[0minferencefinal\u001b[0m\u001b[0;34m,\u001b[0m\u001b[0mdeployment_config\u001b[0m\u001b[0;34m=\u001b[0m\u001b[0mdeployfinal\u001b[0m\u001b[0;34m)\u001b[0m\u001b[0;34m\u001b[0m\u001b[0;34m\u001b[0m\u001b[0m\n\u001b[0;32m---> 15\u001b[0;31m \u001b[0msvcs\u001b[0m\u001b[0;34m.\u001b[0m\u001b[0mwait_for_deployment\u001b[0m\u001b[0;34m(\u001b[0m\u001b[0mshow_output\u001b[0m\u001b[0;34m=\u001b[0m\u001b[0;32mTrue\u001b[0m\u001b[0;34m)\u001b[0m\u001b[0;34m\u001b[0m\u001b[0;34m\u001b[0m\u001b[0m\n\u001b[0m",
      "\u001b[0;32m/anaconda/envs/azureml_py36/lib/python3.6/site-packages/azureml/core/webservice/webservice.py\u001b[0m in \u001b[0;36mwait_for_deployment\u001b[0;34m(self, show_output, timeout_sec)\u001b[0m\n\u001b[1;32m    781\u001b[0m \u001b[0;34m\u001b[0m\u001b[0m\n\u001b[1;32m    782\u001b[0m         \u001b[0;32mtry\u001b[0m\u001b[0;34m:\u001b[0m\u001b[0;34m\u001b[0m\u001b[0;34m\u001b[0m\u001b[0m\n\u001b[0;32m--> 783\u001b[0;31m             \u001b[0moperation_state\u001b[0m\u001b[0;34m,\u001b[0m \u001b[0merror\u001b[0m\u001b[0;34m,\u001b[0m \u001b[0moperation\u001b[0m \u001b[0;34m=\u001b[0m \u001b[0mself\u001b[0m\u001b[0;34m.\u001b[0m\u001b[0m_wait_for_operation_to_complete\u001b[0m\u001b[0;34m(\u001b[0m\u001b[0mshow_output\u001b[0m\u001b[0;34m,\u001b[0m \u001b[0mtimeout_sec\u001b[0m\u001b[0;34m)\u001b[0m\u001b[0;34m\u001b[0m\u001b[0;34m\u001b[0m\u001b[0m\n\u001b[0m\u001b[1;32m    784\u001b[0m             \u001b[0mself\u001b[0m\u001b[0;34m.\u001b[0m\u001b[0mupdate_deployment_state\u001b[0m\u001b[0;34m(\u001b[0m\u001b[0;34m)\u001b[0m\u001b[0;34m\u001b[0m\u001b[0;34m\u001b[0m\u001b[0m\n\u001b[1;32m    785\u001b[0m             \u001b[0;32mif\u001b[0m \u001b[0moperation_state\u001b[0m \u001b[0;34m!=\u001b[0m \u001b[0;34m'Succeeded'\u001b[0m\u001b[0;34m:\u001b[0m\u001b[0;34m\u001b[0m\u001b[0;34m\u001b[0m\u001b[0m\n",
      "\u001b[0;32m/anaconda/envs/azureml_py36/lib/python3.6/site-packages/azureml/core/webservice/webservice.py\u001b[0m in \u001b[0;36m_wait_for_operation_to_complete\u001b[0;34m(self, show_output, timeout_sec)\u001b[0m\n\u001b[1;32m    845\u001b[0m                 \u001b[0;32mraise\u001b[0m \u001b[0mWebserviceException\u001b[0m\u001b[0;34m(\u001b[0m\u001b[0mmsg\u001b[0m\u001b[0;34m,\u001b[0m \u001b[0mlogger\u001b[0m\u001b[0;34m=\u001b[0m\u001b[0mmodule_logger\u001b[0m\u001b[0;34m)\u001b[0m\u001b[0;34m\u001b[0m\u001b[0;34m\u001b[0m\u001b[0m\n\u001b[1;32m    846\u001b[0m \u001b[0;34m\u001b[0m\u001b[0m\n\u001b[0;32m--> 847\u001b[0;31m             \u001b[0mtime\u001b[0m\u001b[0;34m.\u001b[0m\u001b[0msleep\u001b[0m\u001b[0;34m(\u001b[0m\u001b[0;36m5\u001b[0m\u001b[0;34m)\u001b[0m\u001b[0;34m\u001b[0m\u001b[0;34m\u001b[0m\u001b[0m\n\u001b[0m\u001b[1;32m    848\u001b[0m \u001b[0;34m\u001b[0m\u001b[0m\n\u001b[1;32m    849\u001b[0m             \u001b[0melapsed_time\u001b[0m \u001b[0;34m=\u001b[0m \u001b[0mtime\u001b[0m\u001b[0;34m.\u001b[0m\u001b[0mtime\u001b[0m\u001b[0;34m(\u001b[0m\u001b[0;34m)\u001b[0m \u001b[0;34m-\u001b[0m \u001b[0mstart_time\u001b[0m\u001b[0;34m\u001b[0m\u001b[0;34m\u001b[0m\u001b[0m\n",
      "\u001b[0;31mKeyboardInterrupt\u001b[0m: "
     ]
    }
   ],
   "source": [
    "#Create inference config\n",
    "from azureml.core.environment import Environment\n",
    "from azureml.core.model import InferenceConfig\n",
    "\n",
    "env = Environment.get(workspace=ws,name='AzureML-AutoML')\n",
    "\n",
    "inferencefinal = InferenceConfig(entry_script='score_11_28.py',environment=env) \n",
    "\n",
    "#Deploy model and check service state\n",
    "from azureml.core.webservice import LocalWebservice, AciWebservice\n",
    "\n",
    "\n",
    "deployfinal = AciWebservice.deploy_configuration()\n",
    "svcs = Model.deploy(workspace=ws,name='feeh',models=[registeredfinal],inference_config=inferencefinal,deployment_config=deployfinal)\n",
    "svcs.wait_for_deployment(show_output=True)"
   ]
  },
  {
   "cell_type": "code",
   "execution_count": null,
   "metadata": {
    "collapsed": true,
    "gather": {
     "logged": 1606498432785
    },
    "jupyter": {
     "outputs_hidden": false,
     "source_hidden": false
    },
    "nteract": {
     "transient": {
      "deleting": false
     }
    }
   },
   "outputs": [],
   "source": [
    "print(svcs.state)"
   ]
  },
  {
   "cell_type": "code",
   "execution_count": null,
   "metadata": {
    "collapsed": true,
    "gather": {
     "logged": 1606497797182
    },
    "jupyter": {
     "outputs_hidden": false,
     "source_hidden": false
    },
    "nteract": {
     "transient": {
      "deleting": false
     }
    }
   },
   "outputs": [],
   "source": [
    "print(svcs.scoring_uri)"
   ]
  },
  {
   "cell_type": "markdown",
   "metadata": {
    "collapsed": true,
    "gather": {
     "logged": 1598431657736
    },
    "jupyter": {
     "outputs_hidden": false,
     "source_hidden": false
    },
    "nteract": {
     "transient": {
      "deleting": false
     }
    }
   },
   "source": [
    "TODO: In the cell below, send a request to the web service you deployed to test it."
   ]
  },
  {
   "cell_type": "code",
   "execution_count": 331,
   "metadata": {
    "gather": {
     "logged": 1606503002901
    },
    "jupyter": {
     "outputs_hidden": false,
     "source_hidden": false
    },
    "nteract": {
     "transient": {
      "deleting": false
     }
    }
   },
   "outputs": [],
   "source": [
    "import requests\n",
    "import json\n",
    "\n",
    "# URL for the web service\n",
    "scoring_uri = 'http://caa9be12-aa84-41f1-877f-36ffadc75841.southcentralus.azurecontainer.io/score'\n",
    "\n",
    "\n",
    "data = {'data':[{\n",
    "    'cylinders':4,\n",
    "    'displacement':85,\n",
    "    'horsepower':65,\n",
    "    'weight':2110,\n",
    "    'acceleration':19,\n",
    "    'model yr':80,\n",
    "    'origin':3}\n",
    "]\n",
    "        }\n",
    "\n",
    "input_data = json.dumps(data)\n",
    "\n",
    "headers = {'Content-Type': 'application/json'}\n",
    "\n",
    "\n",
    "# # Make the request and display the response\n",
    "result = requests.post(scoring_uri,input_data,headers=headers)\n",
    "print(\"prediction:\",result.text)"
   ]
  },
  {
   "cell_type": "code",
   "execution_count": 334,
   "metadata": {
    "collapsed": true,
    "gather": {
     "logged": 1606503015151
    },
    "jupyter": {
     "outputs_hidden": false,
     "source_hidden": false
    },
    "nteract": {
     "transient": {
      "deleting": false
     }
    }
   },
   "outputs": [],
   "source": [
    "model_path = Model.get_model_path('registered.sav')\n",
    "mod = joblib.load(model_path)"
   ]
  },
  {
   "cell_type": "markdown",
   "metadata": {
    "collapsed": true,
    "gather": {
     "logged": 1598432765711
    },
    "jupyter": {
     "outputs_hidden": false,
     "source_hidden": false
    },
    "nteract": {
     "transient": {
      "deleting": false
     }
    }
   },
   "source": [
    "TODO: In the cell below, print the logs of the web service and delete the service"
   ]
  },
  {
   "cell_type": "code",
   "execution_count": 150,
   "metadata": {
    "gather": {
     "logged": 1606497119200
    },
    "jupyter": {
     "outputs_hidden": false,
     "source_hidden": false
    },
    "nteract": {
     "transient": {
      "deleting": false
     }
    }
   },
   "outputs": [
    {
     "name": "stdout",
     "output_type": "stream",
     "text": [
      "2020-11-27T17:08:49.0235018Z stdout F 2020-11-27T17:08:48,651390700+00:00 - iot-server/run \n",
      "2020-11-27T17:08:49.1018981Z stdout F 2020-11-27T17:08:48,682097700+00:00 - gunicorn/run \n",
      "2020-11-27T17:08:49.1343385Z stdout F 2020-11-27T17:08:48,781035800+00:00 - rsyslog/run \n",
      "2020-11-27T17:08:49.3385051Z stdout F 2020-11-27T17:08:48,979933000+00:00 - nginx/run \n",
      "2020-11-27T17:08:49.4211127Z stderr F /usr/sbin/nginx: /azureml-envs/azureml_7cf2b5eebfc9a832d561ce064cfbc38b/lib/libcrypto.so.1.0.0: no version information available (required by /usr/sbin/nginx)\n",
      "2020-11-27T17:08:49.4211127Z stderr F /usr/sbin/nginx: /azureml-envs/azureml_7cf2b5eebfc9a832d561ce064cfbc38b/lib/libcrypto.so.1.0.0: no version information available (required by /usr/sbin/nginx)\n",
      "2020-11-27T17:08:49.4251177Z stderr F /usr/sbin/nginx: /azureml-envs/azureml_7cf2b5eebfc9a832d561ce064cfbc38b/lib/libssl.so.1.0.0: no version information available (required by /usr/sbin/nginx)\n",
      "2020-11-27T17:08:49.4251177Z stderr F /usr/sbin/nginx: /azureml-envs/azureml_7cf2b5eebfc9a832d561ce064cfbc38b/lib/libssl.so.1.0.0: no version information available (required by /usr/sbin/nginx)\n",
      "2020-11-27T17:08:49.4251177Z stderr F /usr/sbin/nginx: /azureml-envs/azureml_7cf2b5eebfc9a832d561ce064cfbc38b/lib/libssl.so.1.0.0: no version information available (required by /usr/sbin/nginx)\n",
      "2020-11-27T17:08:49.8198219Z stderr F rsyslogd: /azureml-envs/azureml_7cf2b5eebfc9a832d561ce064cfbc38b/lib/libuuid.so.1: no version information available (required by rsyslogd)\n",
      "2020-11-27T17:08:57.7114428Z stdout F EdgeHubConnectionString and IOTEDGE_IOTHUBHOSTNAME are not set. Exiting...\n",
      "2020-11-27T17:08:57.8125123Z stdout F 2020-11-27T17:08:57,458422000+00:00 - iot-server/finish 1 0\n",
      "2020-11-27T17:08:57.9035648Z stdout F 2020-11-27T17:08:57,547691900+00:00 - Exit code 1 is normal. Not restarting iot-server.\n",
      "2020-11-27T17:08:59.5087362Z stdout F Starting gunicorn 19.9.0\n",
      "2020-11-27T17:08:59.5087362Z stdout F Listening at: http://127.0.0.1:31311 (61)\n",
      "2020-11-27T17:08:59.5087362Z stdout F Using worker: sync\n",
      "2020-11-27T17:08:59.5087362Z stdout F worker timeout is set to 300\n",
      "2020-11-27T17:08:59.7204532Z stdout F Booting worker with pid: 89\n",
      "2020-11-27T17:09:45.4058235Z stdout F SPARK_HOME not set. Skipping PySpark Initialization.\n",
      "2020-11-27T17:09:45.4058235Z stdout F Generating new fontManager, this may take some time...\n",
      "2020-11-27T17:10:05.5181444Z stdout F Initializing logger\n",
      "2020-11-27T17:10:05.5181444Z stdout F 2020-11-27 17:10:05,157 | root | INFO | Starting up app insights client\n",
      "2020-11-27T17:10:05.5181444Z stdout F Starting up app insights client\n",
      "2020-11-27T17:10:05.5181444Z stdout F 2020-11-27 17:10:05,158 | root | INFO | Starting up request id generator\n",
      "2020-11-27T17:10:05.5181444Z stdout F Starting up request id generator\n",
      "2020-11-27T17:10:05.5181444Z stdout F 2020-11-27 17:10:05,158 | root | INFO | Starting up app insight hooks\n",
      "2020-11-27T17:10:05.5181444Z stdout F Starting up app insight hooks\n",
      "2020-11-27T17:10:05.5181444Z stdout F 2020-11-27 17:10:05,158 | root | INFO | Invoking user's init function\n",
      "2020-11-27T17:10:05.5181444Z stdout F Invoking user's init function\n",
      "2020-11-27T17:10:39.5286001Z stdout F 2020-11-27 17:10:39,159 | root | INFO | Users's init has completed successfully\n",
      "2020-11-27T17:10:39.5286001Z stdout F Users's init has completed successfully\n",
      "2020-11-27T17:10:39.6162136Z stdout F 2020-11-27 17:10:39,248 | root | INFO | Skipping middleware: dbg_model_info as it's not enabled.\n",
      "2020-11-27T17:10:39.6162136Z stdout F Skipping middleware: dbg_model_info as it's not enabled.\n",
      "2020-11-27T17:10:39.6162136Z stdout F 2020-11-27 17:10:39,253 | root | INFO | Skipping middleware: dbg_resource_usage as it's not enabled.\n",
      "2020-11-27T17:10:39.6162136Z stdout F Skipping middleware: dbg_resource_usage as it's not enabled.\n",
      "2020-11-27T17:10:39.6241142Z stdout F 2020-11-27 17:10:39,258 | root | INFO | Scoring timeout is found from os.environ: 60000 ms\n",
      "2020-11-27T17:10:39.6241142Z stdout F Scoring timeout is found from os.environ: 60000 ms\n",
      "2020-11-27T17:10:43.3554769Z stdout F 2020-11-27 17:10:42,991 | root | INFO | Swagger file not present\n",
      "2020-11-27T17:10:43.3554769Z stdout F Swagger file not present\n",
      "2020-11-27T17:10:43.3554769Z stdout F 2020-11-27 17:10:42,991 | root | INFO | 404\n",
      "2020-11-27T17:10:43.3554769Z stdout F 404\n",
      "2020-11-27T17:10:43.3554769Z stdout F 127.0.0.1 - - [27/Nov/2020:17:10:42 +0000] \"GET /swagger.json HTTP/1.0\" 404 19 \"-\" \"Go-http-client/1.1\"\n",
      "2020-11-27T17:10:45.3823995Z stdout F 2020-11-27 17:10:45,015 | root | INFO | Swagger file not present\n",
      "2020-11-27T17:10:45.3823995Z stdout F Swagger file not present\n",
      "2020-11-27T17:10:45.3823995Z stdout F 2020-11-27 17:10:45,015 | root | INFO | 404\n",
      "2020-11-27T17:10:45.3823995Z stdout F 404\n",
      "2020-11-27T17:10:45.3844711Z stdout F 127.0.0.1 - - [27/Nov/2020:17:10:45 +0000] \"GET /swagger.json HTTP/1.0\" 404 19 \"-\" \"Go-http-client/1.1\"\n",
      "2020-11-27T17:10:49.6672942Z stdout F 2020-11-27 17:10:49,290 | root | INFO | \tHost: localhost:5001\n",
      "2020-11-27T17:10:49.6672942Z stdout F \tHost: localhost:5001\n",
      "2020-11-27T17:10:49.6672942Z stdout F 2020-11-27 17:10:49,291 | root | INFO | \tX-Real-Ip: 127.0.0.1\n",
      "2020-11-27T17:10:49.6672942Z stdout F \tX-Real-Ip: 127.0.0.1\n",
      "2020-11-27T17:10:49.6672942Z stdout F 2020-11-27 17:10:49,291 | root | INFO | \tX-Forwarded-For: 127.0.0.1\n",
      "2020-11-27T17:10:49.6672942Z stdout F \tX-Forwarded-For: 127.0.0.1\n",
      "2020-11-27T17:10:49.6672942Z stdout F 2020-11-27 17:10:49,291 | root | INFO | \tX-Forwarded-Proto: http\n",
      "2020-11-27T17:10:49.6672942Z stdout F \tX-Forwarded-Proto: http\n",
      "2020-11-27T17:10:49.6672942Z stdout F 2020-11-27 17:10:49,291 | root | INFO | \tConnection: close\n",
      "2020-11-27T17:10:49.6672942Z stdout F \tConnection: close\n",
      "2020-11-27T17:10:49.6672942Z stdout F 2020-11-27 17:10:49,291 | root | INFO | \tUser-Agent: Mozilla/5.0 (Windows NT 10.0; Win64; x64) AppleWebKit/537.36 (KHTML, like Gecko) Chrome/86.0.4240.75 Safari/537.36\n",
      "2020-11-27T17:10:49.6672942Z stdout F \tUser-Agent: Mozilla/5.0 (Windows NT 10.0; Win64; x64) AppleWebKit/537.36 (KHTML, like Gecko) Chrome/86.0.4240.75 Safari/537.36\n",
      "2020-11-27T17:10:49.6672942Z stdout F 2020-11-27 17:10:49,291 | root | INFO | \tAccept: text/html,application/xhtml+xml,application/xml;q=0.9,image/avif,image/webp,image/apng,*/*;q=0.8,application/signed-exchange;v=b3;q=0.9\n",
      "2020-11-27T17:10:49.6672942Z stdout F \tAccept: text/html,application/xhtml+xml,application/xml;q=0.9,image/avif,image/webp,image/apng,*/*;q=0.8,application/signed-exchange;v=b3;q=0.9\n",
      "2020-11-27T17:10:49.6672942Z stdout F 2020-11-27 17:10:49,291 | root | INFO | \tAccept-Encoding: gzip, deflate\n",
      "2020-11-27T17:10:49.6672942Z stdout F \tAccept-Encoding: gzip, deflate\n",
      "2020-11-27T17:10:49.6672942Z stdout F 2020-11-27 17:10:49,291 | root | INFO | \tAccept-Language: en-US,en;q=0.9\n",
      "2020-11-27T17:10:49.6672942Z stdout F \tAccept-Language: en-US,en;q=0.9\n",
      "2020-11-27T17:10:49.6672942Z stdout F 2020-11-27 17:10:49,291 | root | INFO | \tUpgrade-Insecure-Requests: 1\n",
      "2020-11-27T17:10:49.6672942Z stdout F \tUpgrade-Insecure-Requests: 1\n",
      "2020-11-27T17:10:49.6672942Z stdout F 2020-11-27 17:10:49,291 | root | INFO | \tX-Ms-Request-Id: a8e58d0f-70a4-4366-b55c-8032fdcbb696\n",
      "2020-11-27T17:10:49.6672942Z stdout F \tX-Ms-Request-Id: a8e58d0f-70a4-4366-b55c-8032fdcbb696\n",
      "2020-11-27T17:10:49.6672942Z stdout F 2020-11-27 17:10:49,291 | root | INFO | Scoring Timer is set to 60.0 seconds\n",
      "2020-11-27T17:10:49.6672942Z stdout F Scoring Timer is set to 60.0 seconds\n",
      "2020-11-27T17:10:49.6672942Z stdout F 2020-11-27 17:10:49,291 | root | INFO | 200\n",
      "2020-11-27T17:10:49.6672942Z stdout F 200\n",
      "2020-11-27T17:10:49.6672942Z stdout F 127.0.0.1 - - [27/Nov/2020:17:10:49 +0000] \"GET /score HTTP/1.0\" 200 21 \"-\" \"Mozilla/5.0 (Windows NT 10.0; Win64; x64) AppleWebKit/537.36 (KHTML, like Gecko) Chrome/86.0.4240.75 Safari/537.36\"\n",
      "2020-11-27T17:10:49.7368403Z stdout F 127.0.0.1 - - [27/Nov/2020:17:10:49 +0000] \"GET /favicon.ico HTTP/1.0\" 404 232 \"http://db8ddfa7-9032-435a-aa02-bec14ad07117.southcentralus.azurecontainer.io/score\" \"Mozilla/5.0 (Windows NT 10.0; Win64; x64) AppleWebKit/537.36 (KHTML, like Gecko) Chrome/86.0.4240.75 Safari/537.36\"\n",
      "2020-11-27T17:11:34.0889554Z stdout F 2020-11-27 17:11:33,715 | root | INFO | Validation Request Content-Type\n",
      "2020-11-27T17:11:34.0889554Z stdout F Validation Request Content-Type\n",
      "2020-11-27T17:11:34.0899487Z stdout F 2020-11-27 17:11:33,722 | root | INFO | 415\n",
      "2020-11-27T17:11:34.0899487Z stdout F 415\n",
      "2020-11-27T17:11:34.0989664Z stdout F 127.0.0.1 - - [27/Nov/2020:17:11:33 +0000] \"POST /score HTTP/1.0\" 415 58 \"-\" \"python-requests/2.24.0\"\n",
      "\n"
     ]
    }
   ],
   "source": [
    "print(svcs.get_logs())"
   ]
  },
  {
   "cell_type": "code",
   "execution_count": null,
   "metadata": {},
   "outputs": [],
   "source": [
    "svcs.delete()"
   ]
  }
 ],
 "metadata": {
  "kernel_info": {
   "name": "python3"
  },
  "kernelspec": {
   "display_name": "Python 3",
   "language": "python",
   "name": "python3"
  },
  "language_info": {
   "codemirror_mode": {
    "name": "ipython",
    "version": 3
   },
   "file_extension": ".py",
   "mimetype": "text/x-python",
   "name": "python",
   "nbconvert_exporter": "python",
   "pygments_lexer": "ipython3",
   "version": "3.7.3"
  },
  "nteract": {
   "version": "nteract-front-end@1.0.0"
  }
 },
 "nbformat": 4,
 "nbformat_minor": 2
}
